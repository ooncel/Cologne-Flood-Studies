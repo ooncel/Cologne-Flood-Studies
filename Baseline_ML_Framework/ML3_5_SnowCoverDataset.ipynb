{
 "cells": [
  {
   "cell_type": "markdown",
   "id": "87ce9286-0d42-4730-947a-beaad96762f1",
   "metadata": {},
   "source": [
    "# Part 3.5: Snow Cover Dataset\n",
    "\n",
    "In this part we will include in-situ snow measurements from German stations operated by DWD. In the future it would be useful to add Swiss stations too, but I could only find monthly data for them, so they are not added.\n",
    "\n",
    "#### Dataset\n",
    "Matiu, M., Crespi, A., Bertoldi, G., Carmagnola, C. M., Marty, C., Morin, S., Schöner, W., Cat Berro, D., Chiogna, G., De Gregorio, L., Kotlarski, S., Majone, B., Resch, G., Terzago, S., Valt, M., Beozzo, W., Cianfarra, P., Gouttevin, I., Marcolini, G., … Weilguni, V. (2021). Snow cover in the European Alps: Station observations of snow depth and depth of snowfall (v1.3). Zenodo. https://doi.org/10.5281/zenodo.5109574\n"
   ]
  },
  {
   "cell_type": "markdown",
   "id": "12c3cc13-6caf-4773-a89e-3afe5f04b3ed",
   "metadata": {},
   "source": [
    "## Basin and subbasin information"
   ]
  },
  {
   "cell_type": "markdown",
   "id": "5795aa44-341b-484f-ad0b-8c8c9f9b7fa8",
   "metadata": {},
   "source": [
    "We have finalized these geographic boundaries in ML2. We read-in what we saved as a result of that study."
   ]
  },
  {
   "cell_type": "code",
   "execution_count": 1,
   "id": "fc424d76-5594-4932-8500-38d2b010b2ea",
   "metadata": {},
   "outputs": [],
   "source": [
    "# Read-in the water level dataset and check the content\n",
    "%matplotlib inline\n",
    "\n",
    "import netCDF4 as nc\n",
    "import matplotlib.pyplot as plt\n",
    "from matplotlib.dates import DateFormatter\n",
    "import numpy as np\n",
    "import os\n",
    "import warnings\n",
    "warnings.filterwarnings('ignore')\n",
    "import pandas as pd\n",
    "import matplotlib.pyplot as plt\n",
    "import cartopy.feature as cfeature\n",
    "import cartopy.crs as ccrs\n",
    "INF_str = \"/Users/oncel/Documents/Projects/KoelnPegelML/data/\"\n",
    "# Read-in the netCDF file\n",
    "INFILE_base = \"/Users/oncel/Documents/Projects/KoelnPegelML/data/\""
   ]
  },
  {
   "cell_type": "code",
   "execution_count": 2,
   "id": "224584f5-bd0a-403a-bc12-78b8efd756f6",
   "metadata": {},
   "outputs": [
    {
     "name": "stdout",
     "output_type": "stream",
     "text": [
      "    NEXT_SINK    HYBAS_ID   NEXT_DOWN    MAIN_BAS  DIST_SINK  DIST_MAIN  \\\n",
      "0  2080023010  2080399810  2080392830  2080023010      300.6      300.6   \n",
      "1  2080103570  2080103570  2080472700  2080023010        0.0      788.7   \n",
      "2  2080109860  2080109860  2080411370  2080023010        0.0      381.2   \n",
      "\n",
      "   SUB_AREA   UP_AREA   PFAF_ID  ENDO  COAST  ORDER   SORT  \\\n",
      "0    2002.1  145502.9  23261070     0      0      1   6337   \n",
      "1      36.0      36.0  23267090     2      0      2  25285   \n",
      "2      10.9      10.9  23261090     2      0      2  25313   \n",
      "\n",
      "                                            geometry  \n",
      "0  POLYGON ((6.94804 46.5464, 6.93946 46.54527, 6...  \n",
      "1  POLYGON ((6.9875 47.18333, 6.98399 47.18423, 6...  \n",
      "2  POLYGON ((7.24167 50.40417, 7.24167 50.40833, ...  \n"
     ]
    }
   ],
   "source": [
    "import geopandas as gpd\n",
    "cologne_catchment = gpd.read_file(\"Cologne_upstream_catchment.shp\")\n",
    "print(cologne_catchment.head())"
   ]
  },
  {
   "cell_type": "code",
   "execution_count": 17,
   "id": "cd27602c-8756-4809-a217-8d76eb67febd",
   "metadata": {},
   "outputs": [
    {
     "name": "stdout",
     "output_type": "stream",
     "text": [
      "   HYBAS_ID_1  NEXT_DOWN_   NEXT_SINK  MAIN_BAS_1  DIST_SINK_  DIST_MAIN_  \\\n",
      "0  2050465610  2050477000  2050008490  2050008490      2372.5      2372.5   \n",
      "1  2050023010           0  2050023010  2050023010         0.0         0.0   \n",
      "2  2050023010           0  2050023010  2050023010         0.0         0.0   \n",
      "3  2050420240  2050023010  2050023010  2050023010       447.8       447.8   \n",
      "4  2050420340  2050023010  2050023010  2050023010       447.9       447.9   \n",
      "\n",
      "   SUB_AREA_1  UP_AREA_1  PFAF_ID_1  ENDO_1  ...  DIST_SIN_1  DIST_MAI_1  \\\n",
      "0     50388.9    50388.9      22799       0  ...       300.6       300.6   \n",
      "1     25335.7   163008.5      23261       0  ...       300.6       300.6   \n",
      "2     25335.7   163008.5      23261       0  ...         0.0       381.2   \n",
      "3     28101.2    28101.4      23262       0  ...       300.6       300.6   \n",
      "4     11589.0   109585.3      23263       0  ...       300.6       300.6   \n",
      "\n",
      "   SUB_AREA_2  UP_AREA_2  PFAF_ID_2  ENDO_2  COAST_2  ORDER_2  SORT_2  \\\n",
      "0      2002.1   145502.9   23261070       0        0        1    6337   \n",
      "1      2002.1   145502.9   23261070       0        0        1    6337   \n",
      "2        10.9       10.9   23261090       2        0        2   25313   \n",
      "3      2002.1   145502.9   23261070       0        0        1    6337   \n",
      "4      2002.1   145502.9   23261070       0        0        1    6337   \n",
      "\n",
      "                                            geometry  \n",
      "0  POLYGON ((10.10417 47.22917, 10.10417 47.22917...  \n",
      "1  POLYGON ((8.16215 50.98091, 8.15869 50.97742, ...  \n",
      "2  POLYGON ((7.24167 50.40833, 7.24498 50.40918, ...  \n",
      "3  POLYGON ((7.00332 48.02585, 7 48.025, 6.99362 ...  \n",
      "4  POLYGON ((7.26763 49.3996, 7.27279 49.4036, 7....  \n",
      "\n",
      "[5 rows x 26 columns]\n"
     ]
    }
   ],
   "source": [
    "cologne_subbasins = gpd.read_file(\"cologne_subbasins_lvl5.shp\")\n",
    "print(cologne_subbasins.head())"
   ]
  },
  {
   "cell_type": "code",
   "execution_count": 4,
   "id": "2178ecab-c49e-4fc2-a8cb-4b6fdbb28a75",
   "metadata": {},
   "outputs": [],
   "source": [
    "# --- 2. Cologne coordinates ---\n",
    "cologne_point = gpd.GeoDataFrame(\n",
    "    geometry=gpd.points_from_xy([6.96], [50.94]),  # lon, lat\n",
    "    crs=cologne_catchment.crs\n",
    ")"
   ]
  },
  {
   "cell_type": "markdown",
   "id": "d380ed1e-aa94-4e91-9b05-a2317a8c6513",
   "metadata": {},
   "source": [
    "## Create a single dataset by combining snow per station with coordinate per station datasets"
   ]
  },
  {
   "cell_type": "code",
   "execution_count": 5,
   "id": "b3d17ec6-db8d-4f18-8943-8a357fec0ab4",
   "metadata": {},
   "outputs": [],
   "source": [
    "INFILE_str = \"/Users/oncel/Documents/Projects/KoelnPegelML/data/\""
   ]
  },
  {
   "cell_type": "code",
   "execution_count": 6,
   "id": "d62be2d6-52d4-4bb8-8e19-77d7558a33ab",
   "metadata": {},
   "outputs": [
    {
     "name": "stdout",
     "output_type": "stream",
     "text": [
      "  Provider  Name       Date   HN   HS  HN_after_qc  HS_after_qc  \\\n",
      "0   DE_DWD  Aach 1961-01-01  0.0  5.0          0.0          5.0   \n",
      "1   DE_DWD  Aach 1961-01-02  2.0  7.0          2.0          7.0   \n",
      "2   DE_DWD  Aach 1961-01-03  0.0  6.0          0.0          6.0   \n",
      "3   DE_DWD  Aach 1961-01-04  0.0  4.0          0.0          4.0   \n",
      "4   DE_DWD  Aach 1961-01-05  0.0  3.0          0.0          3.0   \n",
      "\n",
      "   HS_after_gapfill  \n",
      "0               5.0  \n",
      "1               7.0  \n",
      "2               6.0  \n",
      "3               4.0  \n",
      "4               3.0  \n"
     ]
    }
   ],
   "source": [
    "# Load daily snow cover data\n",
    "df_snow = pd.read_csv(INFILE_str+\"data_daily_DE_DWD.csv\", parse_dates=[\"Date\"])\n",
    "print(df_snow.head())"
   ]
  },
  {
   "cell_type": "code",
   "execution_count": 7,
   "id": "b8d0f99c-a468-490c-9cfb-9b4c728027e0",
   "metadata": {},
   "outputs": [
    {
     "data": {
      "text/html": [
       "<div>\n",
       "<style scoped>\n",
       "    .dataframe tbody tr th:only-of-type {\n",
       "        vertical-align: middle;\n",
       "    }\n",
       "\n",
       "    .dataframe tbody tr th {\n",
       "        vertical-align: top;\n",
       "    }\n",
       "\n",
       "    .dataframe thead th {\n",
       "        text-align: right;\n",
       "    }\n",
       "</style>\n",
       "<table border=\"1\" class=\"dataframe\">\n",
       "  <thead>\n",
       "    <tr style=\"text-align: right;\">\n",
       "      <th></th>\n",
       "      <th>Provider</th>\n",
       "      <th>Name</th>\n",
       "      <th>Date</th>\n",
       "      <th>HN</th>\n",
       "      <th>HS</th>\n",
       "      <th>HN_after_qc</th>\n",
       "      <th>HS_after_qc</th>\n",
       "      <th>HS_after_gapfill</th>\n",
       "    </tr>\n",
       "  </thead>\n",
       "  <tbody>\n",
       "    <tr>\n",
       "      <th>16436</th>\n",
       "      <td>DE_DWD</td>\n",
       "      <td>Aalen_Unterrombach</td>\n",
       "      <td>2000-01-01</td>\n",
       "      <td>0.0</td>\n",
       "      <td>13.0</td>\n",
       "      <td>0.0</td>\n",
       "      <td>13.0</td>\n",
       "      <td>13.0</td>\n",
       "    </tr>\n",
       "    <tr>\n",
       "      <th>16437</th>\n",
       "      <td>DE_DWD</td>\n",
       "      <td>Aalen_Unterrombach</td>\n",
       "      <td>2000-01-02</td>\n",
       "      <td>0.0</td>\n",
       "      <td>5.0</td>\n",
       "      <td>0.0</td>\n",
       "      <td>5.0</td>\n",
       "      <td>5.0</td>\n",
       "    </tr>\n",
       "    <tr>\n",
       "      <th>16438</th>\n",
       "      <td>DE_DWD</td>\n",
       "      <td>Aalen_Unterrombach</td>\n",
       "      <td>2000-01-03</td>\n",
       "      <td>0.0</td>\n",
       "      <td>0.0</td>\n",
       "      <td>0.0</td>\n",
       "      <td>0.0</td>\n",
       "      <td>0.0</td>\n",
       "    </tr>\n",
       "    <tr>\n",
       "      <th>16439</th>\n",
       "      <td>DE_DWD</td>\n",
       "      <td>Aalen_Unterrombach</td>\n",
       "      <td>2000-01-04</td>\n",
       "      <td>0.0</td>\n",
       "      <td>0.0</td>\n",
       "      <td>0.0</td>\n",
       "      <td>0.0</td>\n",
       "      <td>0.0</td>\n",
       "    </tr>\n",
       "    <tr>\n",
       "      <th>16440</th>\n",
       "      <td>DE_DWD</td>\n",
       "      <td>Aalen_Unterrombach</td>\n",
       "      <td>2000-01-05</td>\n",
       "      <td>0.0</td>\n",
       "      <td>0.0</td>\n",
       "      <td>0.0</td>\n",
       "      <td>0.0</td>\n",
       "      <td>0.0</td>\n",
       "    </tr>\n",
       "    <tr>\n",
       "      <th>...</th>\n",
       "      <td>...</td>\n",
       "      <td>...</td>\n",
       "      <td>...</td>\n",
       "      <td>...</td>\n",
       "      <td>...</td>\n",
       "      <td>...</td>\n",
       "      <td>...</td>\n",
       "      <td>...</td>\n",
       "    </tr>\n",
       "    <tr>\n",
       "      <th>12352590</th>\n",
       "      <td>DE_DWD</td>\n",
       "      <td>Zwiefalten</td>\n",
       "      <td>2003-12-27</td>\n",
       "      <td>0.0</td>\n",
       "      <td>3.0</td>\n",
       "      <td>0.0</td>\n",
       "      <td>3.0</td>\n",
       "      <td>3.0</td>\n",
       "    </tr>\n",
       "    <tr>\n",
       "      <th>12352591</th>\n",
       "      <td>DE_DWD</td>\n",
       "      <td>Zwiefalten</td>\n",
       "      <td>2003-12-28</td>\n",
       "      <td>0.0</td>\n",
       "      <td>0.0</td>\n",
       "      <td>0.0</td>\n",
       "      <td>0.0</td>\n",
       "      <td>0.0</td>\n",
       "    </tr>\n",
       "    <tr>\n",
       "      <th>12352592</th>\n",
       "      <td>DE_DWD</td>\n",
       "      <td>Zwiefalten</td>\n",
       "      <td>2003-12-29</td>\n",
       "      <td>0.0</td>\n",
       "      <td>0.0</td>\n",
       "      <td>0.0</td>\n",
       "      <td>0.0</td>\n",
       "      <td>0.0</td>\n",
       "    </tr>\n",
       "    <tr>\n",
       "      <th>12352593</th>\n",
       "      <td>DE_DWD</td>\n",
       "      <td>Zwiefalten</td>\n",
       "      <td>2003-12-30</td>\n",
       "      <td>0.0</td>\n",
       "      <td>0.0</td>\n",
       "      <td>0.0</td>\n",
       "      <td>0.0</td>\n",
       "      <td>0.0</td>\n",
       "    </tr>\n",
       "    <tr>\n",
       "      <th>12352594</th>\n",
       "      <td>DE_DWD</td>\n",
       "      <td>Zwiefalten</td>\n",
       "      <td>2003-12-31</td>\n",
       "      <td>2.0</td>\n",
       "      <td>2.0</td>\n",
       "      <td>2.0</td>\n",
       "      <td>2.0</td>\n",
       "      <td>2.0</td>\n",
       "    </tr>\n",
       "  </tbody>\n",
       "</table>\n",
       "<p>3337168 rows × 8 columns</p>\n",
       "</div>"
      ],
      "text/plain": [
       "         Provider                Name       Date   HN    HS  HN_after_qc  \\\n",
       "16436      DE_DWD  Aalen_Unterrombach 2000-01-01  0.0  13.0          0.0   \n",
       "16437      DE_DWD  Aalen_Unterrombach 2000-01-02  0.0   5.0          0.0   \n",
       "16438      DE_DWD  Aalen_Unterrombach 2000-01-03  0.0   0.0          0.0   \n",
       "16439      DE_DWD  Aalen_Unterrombach 2000-01-04  0.0   0.0          0.0   \n",
       "16440      DE_DWD  Aalen_Unterrombach 2000-01-05  0.0   0.0          0.0   \n",
       "...           ...                 ...        ...  ...   ...          ...   \n",
       "12352590   DE_DWD          Zwiefalten 2003-12-27  0.0   3.0          0.0   \n",
       "12352591   DE_DWD          Zwiefalten 2003-12-28  0.0   0.0          0.0   \n",
       "12352592   DE_DWD          Zwiefalten 2003-12-29  0.0   0.0          0.0   \n",
       "12352593   DE_DWD          Zwiefalten 2003-12-30  0.0   0.0          0.0   \n",
       "12352594   DE_DWD          Zwiefalten 2003-12-31  2.0   2.0          2.0   \n",
       "\n",
       "          HS_after_qc  HS_after_gapfill  \n",
       "16436            13.0              13.0  \n",
       "16437             5.0               5.0  \n",
       "16438             0.0               0.0  \n",
       "16439             0.0               0.0  \n",
       "16440             0.0               0.0  \n",
       "...               ...               ...  \n",
       "12352590          3.0               3.0  \n",
       "12352591          0.0               0.0  \n",
       "12352592          0.0               0.0  \n",
       "12352593          0.0               0.0  \n",
       "12352594          2.0               2.0  \n",
       "\n",
       "[3337168 rows x 8 columns]"
      ]
     },
     "execution_count": 7,
     "metadata": {},
     "output_type": "execute_result"
    }
   ],
   "source": [
    "# Just want the data starting from 2000\n",
    "df_snow = df_snow[df_snow[\"Date\"]>\"1999-12-31\"]\n",
    "df_snow"
   ]
  },
  {
   "cell_type": "markdown",
   "id": "b6ba83c3-bcc0-4b6a-836d-26028ae13c3c",
   "metadata": {},
   "source": [
    "## Snow cover per subbasin"
   ]
  },
  {
   "cell_type": "code",
   "execution_count": 51,
   "id": "084d4179-66ee-4bac-b1c8-412f497f8490",
   "metadata": {},
   "outputs": [
    {
     "name": "stdout",
     "output_type": "stream",
     "text": [
      "  Provider                Name       Date   HN    HS  HN_after_qc  \\\n",
      "0   DE_DWD  Aalen_Unterrombach 2000-01-01  0.0  13.0          0.0   \n",
      "1   DE_DWD  Aalen_Unterrombach 2000-01-02  0.0   5.0          0.0   \n",
      "2   DE_DWD  Aalen_Unterrombach 2000-01-03  0.0   0.0          0.0   \n",
      "3   DE_DWD  Aalen_Unterrombach 2000-01-04  0.0   0.0          0.0   \n",
      "4   DE_DWD  Aalen_Unterrombach 2000-01-05  0.0   0.0          0.0   \n",
      "\n",
      "   HS_after_qc  HS_after_gapfill  Longitude  Latitude  Elevation  \n",
      "0         13.0              13.0    10.0598   48.8361      455.0  \n",
      "1          5.0               5.0    10.0598   48.8361      455.0  \n",
      "2          0.0               0.0    10.0598   48.8361      455.0  \n",
      "3          0.0               0.0    10.0598   48.8361      455.0  \n",
      "4          0.0               0.0    10.0598   48.8361      455.0  \n"
     ]
    }
   ],
   "source": [
    "# Load station metadata with coordinates\n",
    "df_meta = pd.read_csv(INFILE_str+\"snowcover_metadata.csv\")\n",
    "\n",
    "# Merge on station name\n",
    "df_merged = pd.merge(\n",
    "    df_snow,\n",
    "    df_meta[[\"Name\", \"Longitude\", \"Latitude\", \"Elevation\"]],\n",
    "    on=\"Name\",\n",
    "    how=\"left\"\n",
    ")\n",
    "\n",
    "# Save final dataset\n",
    "df_merged.to_csv(\"snowcover_with_coords.csv\", index=False)\n",
    "\n",
    "print(df_merged.head())\n"
   ]
  },
  {
   "cell_type": "code",
   "execution_count": 10,
   "id": "56df9002-bbbd-4560-9606-39974240ae53",
   "metadata": {},
   "outputs": [],
   "source": [
    "from shapely.geometry import Point\n",
    "\n",
    "# Load merged snowcover data with coords\n",
    "df_snow = pd.read_csv(\"snowcover_with_coords.csv\", parse_dates=[\"Date\"])\n",
    "\n",
    "# Convert to GeoDataFrame\n",
    "gdf_snow = gpd.GeoDataFrame(\n",
    "    df_snow,\n",
    "    geometry=gpd.points_from_xy(df_snow[\"Longitude\"], df_snow[\"Latitude\"]),\n",
    "    crs=\"EPSG:4326\"\n",
    ")"
   ]
  },
  {
   "cell_type": "code",
   "execution_count": 11,
   "id": "cddbe3bc-f837-466d-af55-3afbb11de3c9",
   "metadata": {},
   "outputs": [],
   "source": [
    "# Spatial join: each station gets the subbasin ID where it falls\n",
    "gdf_snow = gpd.sjoin(gdf_snow, cologne_subbasins[[\"HYBAS_ID_1\", \"geometry\"]], how=\"left\", predicate=\"within\")\n"
   ]
  },
  {
   "cell_type": "code",
   "execution_count": 29,
   "id": "d1f556b1-c94e-4dfa-8a5f-b2e57d7f3cd3",
   "metadata": {},
   "outputs": [],
   "source": [
    "# Group by date + subbasin\n",
    "df_snow_subbasin = (\n",
    "    gdf_snow.groupby([\"Date\", \"HYBAS_ID_1\"])[\"HS_after_gapfill\"]\n",
    "    .mean()\n",
    "    .reset_index()\n",
    ")\n",
    "\n",
    "# Pivot so columns = subbasins, rows = dates\n",
    "df_snow_subbasin = df_snow_subbasin.pivot(index=\"Date\", columns=\"HYBAS_ID_1\", values=\"HS_after_gapfill\")\n",
    "\n",
    "df_snow_subbasin.columns = [f\"sbs_snow_{c}\" for c in df_snow_subbasin.columns]"
   ]
  },
  {
   "cell_type": "code",
   "execution_count": 30,
   "id": "a8508840-856a-45fc-a956-5e973d07995f",
   "metadata": {},
   "outputs": [],
   "source": [
    "mapping = {\n",
    "    \"sbs_snow_2050441280.0\": \"sbs_snow_oberrhein\",\n",
    "    \"sbs_snow_2050441290.0\": \"sbs_snow_neckar\",\n",
    "    \"sbs_snow_2050491760.0\": \"sbs_snow_alps\",\n",
    "}\n",
    "\n",
    "df_snow_subbasin = df_snow_subbasin.rename(columns=mapping)"
   ]
  },
  {
   "cell_type": "code",
   "execution_count": 31,
   "id": "f97c25fa-ede0-476b-87ef-9d7cb1011c5a",
   "metadata": {},
   "outputs": [
    {
     "name": "stdout",
     "output_type": "stream",
     "text": [
      "            sbs_snow_oberrhein  sbs_snow_neckar  sbs_snow_alps\n",
      "Date                                                          \n",
      "2000-01-01           14.434783             8.03      17.651163\n",
      "2000-01-02           12.608696             4.89      15.209302\n",
      "2000-01-03           11.456522             3.73      13.465116\n",
      "2000-01-04           10.358696             3.14      12.627907\n",
      "2000-01-05            8.500000             1.98      10.325581\n",
      "...                        ...              ...            ...\n",
      "2018-12-27            0.565217             0.00       0.440000\n",
      "2018-12-28            0.565217             0.00       0.440000\n",
      "2018-12-29            0.565217             0.00       0.400000\n",
      "2018-12-30            0.304348             0.00       0.840000\n",
      "2018-12-31            0.326087             0.00       1.440000\n",
      "\n",
      "[6940 rows x 3 columns]\n"
     ]
    }
   ],
   "source": [
    "print(df_snow_subbasin)"
   ]
  },
  {
   "cell_type": "code",
   "execution_count": 32,
   "id": "e327324c-8dad-459e-96b9-8010c54132e6",
   "metadata": {},
   "outputs": [
    {
     "data": {
      "image/png": "[encoded data removed]",
      "text/plain": [
       "<Figure size 1500x400 with 6 Axes>"
      ]
     },
     "metadata": {},
     "output_type": "display_data"
    }
   ],
   "source": [
    "# Check the distributions\n",
    "import math\n",
    "import seaborn as sns\n",
    "ncols = 6\n",
    "nrows = math.ceil(len(df_snow_subbasin.columns) / ncols)\n",
    "fig, axes = plt.subplots(nrows, ncols, figsize=(15, nrows*4))\n",
    "\n",
    "for ax, col in zip(axes.flat, df_snow_subbasin.columns):\n",
    "    #sns.violinplot(y=df_precip_subbasins[col], ax=ax) goes to minimum although there is no minimum\n",
    "    sns.boxplot(y=df_snow_subbasin[col], ax=ax)\n",
    "    ax.set_title(col)\n",
    "    #ax.set_yscale(\"log\")                 # log scale\n",
    "    #ax.set_ylim(0,100)              # fixed limits across all plots\n",
    "\n",
    "# Hide empty subplots\n",
    "for ax in axes.flat[len(df_snow_subbasin.columns):]:\n",
    "    ax.set_visible(False)\n",
    "\n",
    "plt.tight_layout()\n",
    "plt.show()"
   ]
  },
  {
   "cell_type": "markdown",
   "id": "5f6f3a4a-3f0f-437a-9646-39ac7fa45d0e",
   "metadata": {},
   "source": [
    "## Adding info to the training dataset"
   ]
  },
  {
   "cell_type": "code",
   "execution_count": 33,
   "id": "dff5ddbc-ff93-4050-9a4d-6e2db01352b8",
   "metadata": {},
   "outputs": [
    {
     "name": "stdout",
     "output_type": "stream",
     "text": [
      "            sbs_snow_oberrhein  sbs_snow_neckar  sbs_snow_alps\n",
      "Date                                                          \n",
      "2000-01-01           14.434783             8.03      17.651163\n",
      "2000-01-02           12.608696             4.89      15.209302\n",
      "2000-01-03           11.456522             3.73      13.465116\n",
      "2000-01-04           10.358696             3.14      12.627907\n",
      "2000-01-05            8.500000             1.98      10.325581\n",
      "...                        ...              ...            ...\n",
      "2018-12-27            0.565217             0.00       0.440000\n",
      "2018-12-28            0.565217             0.00       0.440000\n",
      "2018-12-29            0.565217             0.00       0.400000\n",
      "2018-12-30            0.304348             0.00       0.840000\n",
      "2018-12-31            0.326087             0.00       1.440000\n",
      "\n",
      "[6940 rows x 3 columns]\n"
     ]
    }
   ],
   "source": [
    "df_snow_subbasin.to_csv(\"training_datasets/train_snow_preprocessed.csv\", index=True) \n",
    "print(df_snow_subbasin)"
   ]
  }
 ],
 "metadata": {
  "kernelspec": {
   "display_name": "Python 3 (ipykernel)",
   "language": "python",
   "name": "python3"
  },
  "language_info": {
   "codemirror_mode": {
    "name": "ipython",
    "version": 3
   },
   "file_extension": ".py",
   "mimetype": "text/x-python",
   "name": "python",
   "nbconvert_exporter": "python",
   "pygments_lexer": "ipython3",
   "version": "3.13.5"
  }
 },
 "nbformat": 4,
 "nbformat_minor": 5
}
