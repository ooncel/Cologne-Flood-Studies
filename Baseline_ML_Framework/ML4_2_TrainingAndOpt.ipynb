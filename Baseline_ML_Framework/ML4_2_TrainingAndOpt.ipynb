{
 "cells": [
  {
   "cell_type": "markdown",
   "id": "87ce9286-0d42-4730-947a-beaad96762f1",
   "metadata": {},
   "source": [
    "# Part 4.2: Training and Optimization\n",
    "\n",
    "In this notebook we will train and optimize our model. We will use XGBoost architecture and OPTUNA optimizer. A detailed comparison of different architectures and exhaustive hyperparameter optimization is left for future.\n",
    "\n",
    "The dataset split is done such that:\n",
    "- 2000-2015 is used for training,\n",
    "- 2015-2017 is used for validation,\n",
    "- 2018 is used for testing.\n",
    "\n",
    "We also want to see how the model predicts the 2018 January flood. The outputs will be saved and results will be explored in the next notebook.\n",
    "\n"
   ]
  },
  {
   "cell_type": "markdown",
   "id": "12c3cc13-6caf-4773-a89e-3afe5f04b3ed",
   "metadata": {},
   "source": [
    "## Preprocess"
   ]
  },
  {
   "cell_type": "code",
   "execution_count": 1,
   "id": "fc424d76-5594-4932-8500-38d2b010b2ea",
   "metadata": {},
   "outputs": [],
   "source": [
    "# How many days in advance should the forecasting be made? (1,3,7 is supported with ECMWF comparison)\n",
    "lead_day=1\n",
    "\n",
    "save_dir = \"/Users/oncel/Documents/Projects/KoelnPegelML/finalplots_\"+str(lead_day)+\"day\"\n",
    "# Include necessary tools\n",
    "import pandas as pd\n",
    "import matplotlib.pyplot as plt\n",
    "import cartopy.feature as cfeature\n",
    "%matplotlib inline\n",
    "import netCDF4 as nc\n",
    "from matplotlib.dates import DateFormatter\n",
    "import numpy as np\n",
    "import os\n",
    "import warnings\n",
    "warnings.filterwarnings('ignore')\n",
    "debug=0"
   ]
  },
  {
   "cell_type": "code",
   "execution_count": 2,
   "id": "ca226e45-6124-402c-8d02-02812f95bd9d",
   "metadata": {},
   "outputs": [],
   "source": [
    "# Read-in information saved in notebook 4.1:\n",
    "\n",
    "INF_str = \"/Users/oncel/Documents/Projects/KoelnPegelML/training_datasets/\"\n",
    "df_ml = pd.read_csv(INF_str+\"TRAIN\"+str(lead_day)+\".csv\", index_col=0, parse_dates=True)\n",
    "if debug==1: \n",
    "    print(df_ml.columns.tolist())\n",
    "\n",
    "X_ready = pd.read_csv(INF_str+\"Xready\"+str(lead_day)+\".csv\", index_col=0, parse_dates=True)\n",
    "y_ready = pd.read_csv(INF_str+\"Yready\"+str(lead_day)+\".csv\", index_col=0, parse_dates=True)\n",
    "y = pd.read_csv(INF_str+\"Y\"+str(lead_day)+\".csv\", index_col=0, parse_dates=True)\n",
    "import joblib\n",
    "\n",
    "# Load from files\n",
    "scaler = joblib.load(\"scaler_X\"+str(lead_day)+\".pkl\")\n",
    "scaler_y = joblib.load(\"scaler_y\"+str(lead_day)+\".pkl\")"
   ]
  },
  {
   "cell_type": "markdown",
   "id": "91b4f0b2-406f-48b9-80f7-71c5a230af7f",
   "metadata": {},
   "source": [
    "# Training"
   ]
  },
  {
   "cell_type": "code",
   "execution_count": 3,
   "id": "6365e0c2-ae43-435a-b37d-ca639ce8533d",
   "metadata": {},
   "outputs": [
    {
     "name": "stderr",
     "output_type": "stream",
     "text": [
      "[I 2025-09-07 21:56:36,980] A new study created in memory with name: no-name-7d3ac892-c99b-4719-aa2c-981ffc02e233\n"
     ]
    },
    {
     "name": "stdout",
     "output_type": "stream",
     "text": [
      "Train: (5838, 248) Valid: (731, 248) Test: (365, 248)\n"
     ]
    },
    {
     "name": "stderr",
     "output_type": "stream",
     "text": [
      "[I 2025-09-07 21:56:37,394] Trial 0 finished with value: 0.11344351328262432 and parameters: {'n_estimators': 319, 'max_depth': 10, 'learning_rate': 0.17808609830502437, 'subsample': 0.8713609058643224, 'colsample_bytree': 0.9658084381474191, 'gamma': 14.13751299701725, 'min_child_weight': 9}. Best is trial 0 with value: 0.11344351328262432.\n",
      "[I 2025-09-07 21:56:37,785] Trial 1 finished with value: 0.10781577457762463 and parameters: {'n_estimators': 320, 'max_depth': 8, 'learning_rate': 0.24009619663710702, 'subsample': 0.8953910200997643, 'colsample_bytree': 0.7789184199030631, 'gamma': 9.398025544068727, 'min_child_weight': 2}. Best is trial 1 with value: 0.10781577457762463.\n",
      "[I 2025-09-07 21:56:38,182] Trial 2 finished with value: 0.12406857112351624 and parameters: {'n_estimators': 329, 'max_depth': 3, 'learning_rate': 0.18333020104281197, 'subsample': 0.8992090166851305, 'colsample_bytree': 0.9760423734048508, 'gamma': 16.60979560365713, 'min_child_weight': 10}. Best is trial 1 with value: 0.10781577457762463.\n",
      "[I 2025-09-07 21:56:38,593] Trial 3 finished with value: 0.09699525291339893 and parameters: {'n_estimators': 333, 'max_depth': 6, 'learning_rate': 0.2000937736045847, 'subsample': 0.8420273770475245, 'colsample_bytree': 0.7641842572776257, 'gamma': 7.805768991229025, 'min_child_weight': 8}. Best is trial 3 with value: 0.09699525291339893.\n",
      "[I 2025-09-07 21:56:39,159] Trial 4 finished with value: 0.07390423376284878 and parameters: {'n_estimators': 381, 'max_depth': 7, 'learning_rate': 0.08800486889833846, 'subsample': 0.7272166268056045, 'colsample_bytree': 0.7281944889221362, 'gamma': 2.014936095437019, 'min_child_weight': 1}. Best is trial 4 with value: 0.07390423376284878.\n",
      "[I 2025-09-07 21:56:39,701] Trial 5 finished with value: 0.10661587917100683 and parameters: {'n_estimators': 222, 'max_depth': 9, 'learning_rate': 0.031726645974522266, 'subsample': 0.7125623964889437, 'colsample_bytree': 0.9231518141486792, 'gamma': 9.895168848247735, 'min_child_weight': 2}. Best is trial 4 with value: 0.07390423376284878.\n",
      "[I 2025-09-07 21:56:40,510] Trial 6 finished with value: 0.08608711559380292 and parameters: {'n_estimators': 416, 'max_depth': 3, 'learning_rate': 0.01266162952941736, 'subsample': 0.7264350268331832, 'colsample_bytree': 0.6499661643063164, 'gamma': 4.921760290727217, 'min_child_weight': 10}. Best is trial 4 with value: 0.07390423376284878.\n",
      "[I 2025-09-07 21:56:41,233] Trial 7 finished with value: 0.11382558366848733 and parameters: {'n_estimators': 563, 'max_depth': 10, 'learning_rate': 0.06706409734274103, 'subsample': 0.9250212889671569, 'colsample_bytree': 0.9953866322409095, 'gamma': 14.528953413526185, 'min_child_weight': 6}. Best is trial 4 with value: 0.07390423376284878.\n",
      "[I 2025-09-07 21:56:41,835] Trial 8 finished with value: 0.09371837440166148 and parameters: {'n_estimators': 415, 'max_depth': 7, 'learning_rate': 0.07224296650055746, 'subsample': 0.6254153409342398, 'colsample_bytree': 0.9780528290125422, 'gamma': 4.985416803530911, 'min_child_weight': 9}. Best is trial 4 with value: 0.07390423376284878.\n",
      "[I 2025-09-07 21:56:42,447] Trial 9 finished with value: 0.07353689981954371 and parameters: {'n_estimators': 461, 'max_depth': 10, 'learning_rate': 0.08455686101482199, 'subsample': 0.6644881562536245, 'colsample_bytree': 0.6131021539139203, 'gamma': 2.446980685685023, 'min_child_weight': 1}. Best is trial 9 with value: 0.07353689981954371.\n",
      "[I 2025-09-07 21:56:43,658] Trial 10 finished with value: 0.05355754319151732 and parameters: {'n_estimators': 587, 'max_depth': 5, 'learning_rate': 0.029539742135032798, 'subsample': 0.6177019078528019, 'colsample_bytree': 0.6042665163936437, 'gamma': 0.34251154983027865, 'min_child_weight': 4}. Best is trial 10 with value: 0.05355754319151732.\n",
      "[I 2025-09-07 21:56:44,762] Trial 11 finished with value: 0.05380683920296528 and parameters: {'n_estimators': 597, 'max_depth': 5, 'learning_rate': 0.0346337480999378, 'subsample': 0.6016451578451746, 'colsample_bytree': 0.6054861952843629, 'gamma': 0.28949748692385224, 'min_child_weight': 4}. Best is trial 10 with value: 0.05355754319151732.\n",
      "[I 2025-09-07 21:56:46,193] Trial 12 finished with value: 0.04886986379056708 and parameters: {'n_estimators': 588, 'max_depth': 5, 'learning_rate': 0.02758751639127258, 'subsample': 0.6251530539059337, 'colsample_bytree': 0.6831833437801507, 'gamma': 0.06958688427438808, 'min_child_weight': 4}. Best is trial 12 with value: 0.04886986379056708.\n",
      "[I 2025-09-07 21:56:47,245] Trial 13 finished with value: 0.08364377151769176 and parameters: {'n_estimators': 536, 'max_depth': 5, 'learning_rate': 0.019127272891516986, 'subsample': 0.7878094669365064, 'colsample_bytree': 0.6858800214348904, 'gamma': 4.68390752007926, 'min_child_weight': 5}. Best is trial 12 with value: 0.04886986379056708.\n",
      "[I 2025-09-07 21:56:47,631] Trial 14 finished with value: 0.16437784043820455 and parameters: {'n_estimators': 55, 'max_depth': 5, 'learning_rate': 0.034299767601932, 'subsample': 0.9701326238329615, 'colsample_bytree': 0.8753775960021446, 'gamma': 0.9313987086487656, 'min_child_weight': 4}. Best is trial 12 with value: 0.04886986379056708.\n",
      "[I 2025-09-07 21:56:48,442] Trial 15 finished with value: 0.09749526105575809 and parameters: {'n_estimators': 504, 'max_depth': 4, 'learning_rate': 0.0224578491242013, 'subsample': 0.6859680584828837, 'colsample_bytree': 0.6875236818085497, 'gamma': 7.383891716467808, 'min_child_weight': 6}. Best is trial 12 with value: 0.04886986379056708.\n",
      "[I 2025-09-07 21:56:50,122] Trial 16 finished with value: 0.07800201331900264 and parameters: {'n_estimators': 497, 'max_depth': 6, 'learning_rate': 0.010799073930118695, 'subsample': 0.78494332333272, 'colsample_bytree': 0.8377968584277172, 'gamma': 3.605114755605485, 'min_child_weight': 3}. Best is trial 12 with value: 0.04886986379056708.\n",
      "[I 2025-09-07 21:56:50,387] Trial 17 finished with value: 0.14035851342188302 and parameters: {'n_estimators': 133, 'max_depth': 4, 'learning_rate': 0.04795105090974957, 'subsample': 0.6424187423691355, 'colsample_bytree': 0.6612962863205863, 'gamma': 19.098777506216596, 'min_child_weight': 6}. Best is trial 12 with value: 0.04886986379056708.\n",
      "[I 2025-09-07 21:56:51,391] Trial 18 finished with value: 0.09764444756713167 and parameters: {'n_estimators': 595, 'max_depth': 4, 'learning_rate': 0.01698207408657625, 'subsample': 0.6013515007751596, 'colsample_bytree': 0.7226099716115603, 'gamma': 6.228199637864554, 'min_child_weight': 0}. Best is trial 12 with value: 0.04886986379056708.\n",
      "[I 2025-09-07 21:56:51,916] Trial 19 finished with value: 0.11670301742436391 and parameters: {'n_estimators': 253, 'max_depth': 6, 'learning_rate': 0.024667823325817167, 'subsample': 0.7572449034435413, 'colsample_bytree': 0.6273513256555152, 'gamma': 13.003369387316514, 'min_child_weight': 7}. Best is trial 12 with value: 0.04886986379056708.\n",
      "[I 2025-09-07 21:56:52,687] Trial 20 finished with value: 0.054894867350320925 and parameters: {'n_estimators': 479, 'max_depth': 8, 'learning_rate': 0.12785069422446552, 'subsample': 0.6768664954500744, 'colsample_bytree': 0.7333141036935025, 'gamma': 0.17267282420870367, 'min_child_weight': 4}. Best is trial 12 with value: 0.04886986379056708.\n",
      "[I 2025-09-07 21:56:53,683] Trial 21 finished with value: 0.051859126707323386 and parameters: {'n_estimators': 600, 'max_depth': 5, 'learning_rate': 0.046810942942437185, 'subsample': 0.6054905772524627, 'colsample_bytree': 0.6058715902628313, 'gamma': 0.16692106093690723, 'min_child_weight': 4}. Best is trial 12 with value: 0.04886986379056708.\n",
      "[I 2025-09-07 21:56:54,445] Trial 22 finished with value: 0.07218361079795212 and parameters: {'n_estimators': 544, 'max_depth': 5, 'learning_rate': 0.05260706414819303, 'subsample': 0.6410221786828928, 'colsample_bytree': 0.6628506821530623, 'gamma': 2.4131481292125736, 'min_child_weight': 3}. Best is trial 12 with value: 0.04886986379056708.\n",
      "[I 2025-09-07 21:56:55,453] Trial 23 finished with value: 0.05135655737347126 and parameters: {'n_estimators': 542, 'max_depth': 4, 'learning_rate': 0.04315932608145484, 'subsample': 0.6375288968636181, 'colsample_bytree': 0.6056851967165634, 'gamma': 0.028131618425878885, 'min_child_weight': 5}. Best is trial 12 with value: 0.04886986379056708.\n",
      "[I 2025-09-07 21:56:56,166] Trial 24 finished with value: 0.07840323672029129 and parameters: {'n_estimators': 527, 'max_depth': 4, 'learning_rate': 0.04381039546574836, 'subsample': 0.6655876761119482, 'colsample_bytree': 0.6391848032464111, 'gamma': 3.121810600799492, 'min_child_weight': 5}. Best is trial 12 with value: 0.04886986379056708.\n",
      "[I 2025-09-07 21:56:56,784] Trial 25 finished with value: 0.07274148502180683 and parameters: {'n_estimators': 443, 'max_depth': 3, 'learning_rate': 0.04099529466109469, 'subsample': 0.7070351517336637, 'colsample_bytree': 0.6938022235745006, 'gamma': 1.6429702883860797, 'min_child_weight': 5}. Best is trial 12 with value: 0.04886986379056708.\n",
      "[I 2025-09-07 21:56:57,414] Trial 26 finished with value: 0.08423774226418881 and parameters: {'n_estimators': 552, 'max_depth': 4, 'learning_rate': 0.12099255076595868, 'subsample': 0.6444254720230496, 'colsample_bytree': 0.6355106211397563, 'gamma': 3.2928093765514252, 'min_child_weight': 3}. Best is trial 12 with value: 0.04886986379056708.\n",
      "[I 2025-09-07 21:56:58,098] Trial 27 finished with value: 0.09299331508793464 and parameters: {'n_estimators': 503, 'max_depth': 6, 'learning_rate': 0.059952084286593446, 'subsample': 0.690981355940124, 'colsample_bytree': 0.8230008304672235, 'gamma': 6.617816033090034, 'min_child_weight': 7}. Best is trial 12 with value: 0.04886986379056708.\n",
      "[I 2025-09-07 21:56:59,033] Trial 28 finished with value: 0.08064490742040195 and parameters: {'n_estimators': 571, 'max_depth': 5, 'learning_rate': 0.024768240461275046, 'subsample': 0.7542973541824748, 'colsample_bytree': 0.6000358920306694, 'gamma': 4.232491513024429, 'min_child_weight': 7}. Best is trial 12 with value: 0.04886986379056708.\n",
      "[I 2025-09-07 21:56:59,976] Trial 29 finished with value: 0.055083068243682906 and parameters: {'n_estimators': 396, 'max_depth': 3, 'learning_rate': 0.015271217107864525, 'subsample': 0.6514124589467815, 'colsample_bytree': 0.7065763015363319, 'gamma': 0.020373591140122993, 'min_child_weight': 5}. Best is trial 12 with value: 0.04886986379056708.\n",
      "[I 2025-09-07 21:57:00,346] Trial 30 finished with value: 0.10552644476118438 and parameters: {'n_estimators': 272, 'max_depth': 7, 'learning_rate': 0.1088792511722718, 'subsample': 0.8228792842439243, 'colsample_bytree': 0.6653683651356322, 'gamma': 11.609020375776028, 'min_child_weight': 2}. Best is trial 12 with value: 0.04886986379056708.\n",
      "[I 2025-09-07 21:57:01,328] Trial 31 finished with value: 0.06789136144877336 and parameters: {'n_estimators': 596, 'max_depth': 5, 'learning_rate': 0.029962701660677403, 'subsample': 0.6133677719422613, 'colsample_bytree': 0.600467770494005, 'gamma': 1.4521303201337399, 'min_child_weight': 4}. Best is trial 12 with value: 0.04886986379056708.\n",
      "[I 2025-09-07 21:57:02,149] Trial 32 finished with value: 0.06868244192371135 and parameters: {'n_estimators': 568, 'max_depth': 4, 'learning_rate': 0.03809952018242752, 'subsample': 0.6295924537236385, 'colsample_bytree': 0.6362399662580156, 'gamma': 1.2264221927215428, 'min_child_weight': 3}. Best is trial 12 with value: 0.04886986379056708.\n",
      "[I 2025-09-07 21:57:04,422] Trial 33 finished with value: 0.04817282839406062 and parameters: {'n_estimators': 536, 'max_depth': 6, 'learning_rate': 0.029655892167594077, 'subsample': 0.6200720499422434, 'colsample_bytree': 0.6243058458378083, 'gamma': 0.005949191715837798, 'min_child_weight': 4}. Best is trial 33 with value: 0.04817282839406062.\n",
      "[I 2025-09-07 21:57:05,013] Trial 34 finished with value: 0.1053234043687602 and parameters: {'n_estimators': 517, 'max_depth': 6, 'learning_rate': 0.29807221431368913, 'subsample': 0.60070526382217, 'colsample_bytree': 0.7847240351859185, 'gamma': 2.5889185006313538, 'min_child_weight': 5}. Best is trial 33 with value: 0.04817282839406062.\n",
      "[I 2025-09-07 21:57:05,762] Trial 35 finished with value: 0.06895125150091092 and parameters: {'n_estimators': 456, 'max_depth': 6, 'learning_rate': 0.051888951320224, 'subsample': 0.6644175010411809, 'colsample_bytree': 0.6756380934796546, 'gamma': 1.6103540996168653, 'min_child_weight': 6}. Best is trial 33 with value: 0.04817282839406062.\n",
      "[I 2025-09-07 21:57:06,579] Trial 36 finished with value: 0.09703600851083727 and parameters: {'n_estimators': 350, 'max_depth': 8, 'learning_rate': 0.020174858460527106, 'subsample': 0.868119260136933, 'colsample_bytree': 0.7491838380155926, 'gamma': 8.564977522038362, 'min_child_weight': 3}. Best is trial 33 with value: 0.04817282839406062.\n",
      "[I 2025-09-07 21:57:07,453] Trial 37 finished with value: 0.09101707923938909 and parameters: {'n_estimators': 537, 'max_depth': 7, 'learning_rate': 0.02599927734647525, 'subsample': 0.6939219890655177, 'colsample_bytree': 0.6260858632550318, 'gamma': 5.762719139590287, 'min_child_weight': 2}. Best is trial 33 with value: 0.04817282839406062.\n",
      "[I 2025-09-07 21:57:08,039] Trial 38 finished with value: 0.12926140900972163 and parameters: {'n_estimators': 480, 'max_depth': 3, 'learning_rate': 0.04081872049146591, 'subsample': 0.7452467857873618, 'colsample_bytree': 0.6474834977348553, 'gamma': 17.347326726662516, 'min_child_weight': 4}. Best is trial 33 with value: 0.04817282839406062.\n",
      "[I 2025-09-07 21:57:08,666] Trial 39 finished with value: 0.08486067676827581 and parameters: {'n_estimators': 433, 'max_depth': 6, 'learning_rate': 0.06230877248478661, 'subsample': 0.622777745598601, 'colsample_bytree': 0.7070771063519594, 'gamma': 3.8224772302976833, 'min_child_weight': 1}. Best is trial 33 with value: 0.04817282839406062.\n",
      "[I 2025-09-07 21:57:09,371] Trial 40 finished with value: 0.06764552828736915 and parameters: {'n_estimators': 569, 'max_depth': 4, 'learning_rate': 0.07590846292858043, 'subsample': 0.7102814133572306, 'colsample_bytree': 0.620647075527005, 'gamma': 0.9477286705947284, 'min_child_weight': 8}. Best is trial 33 with value: 0.04817282839406062.\n",
      "[I 2025-09-07 21:57:10,537] Trial 41 finished with value: 0.05617343879520489 and parameters: {'n_estimators': 598, 'max_depth': 5, 'learning_rate': 0.028795456275178884, 'subsample': 0.6258509189431852, 'colsample_bytree': 0.6538126742685524, 'gamma': 0.3802079692915584, 'min_child_weight': 4}. Best is trial 33 with value: 0.04817282839406062.\n",
      "[I 2025-09-07 21:57:11,463] Trial 42 finished with value: 0.07242772569963127 and parameters: {'n_estimators': 565, 'max_depth': 5, 'learning_rate': 0.03031673594207875, 'subsample': 0.6558632868786511, 'colsample_bytree': 0.6181896797556129, 'gamma': 2.132643266647916, 'min_child_weight': 5}. Best is trial 33 with value: 0.04817282839406062.\n",
      "[I 2025-09-07 21:57:12,559] Trial 43 finished with value: 0.04917081739259842 and parameters: {'n_estimators': 522, 'max_depth': 5, 'learning_rate': 0.04600909011308056, 'subsample': 0.6161123505947258, 'colsample_bytree': 0.6004755176842553, 'gamma': 0.026100167058506086, 'min_child_weight': 4}. Best is trial 33 with value: 0.04817282839406062.\n",
      "[I 2025-09-07 21:57:13,317] Trial 44 finished with value: 0.07158639707171122 and parameters: {'n_estimators': 476, 'max_depth': 6, 'learning_rate': 0.04554160621953199, 'subsample': 0.635874186592467, 'colsample_bytree': 0.6423845140943748, 'gamma': 2.4763517238046195, 'min_child_weight': 3}. Best is trial 33 with value: 0.04817282839406062.\n",
      "[I 2025-09-07 21:57:14,257] Trial 45 finished with value: 0.06451939297244566 and parameters: {'n_estimators': 522, 'max_depth': 7, 'learning_rate': 0.03816099583137545, 'subsample': 0.6128308167232338, 'colsample_bytree': 0.6178861606483932, 'gamma': 1.066602300722927, 'min_child_weight': 5}. Best is trial 33 with value: 0.04817282839406062.\n",
      "[I 2025-09-07 21:57:14,984] Trial 46 finished with value: 0.08785852799846 and parameters: {'n_estimators': 550, 'max_depth': 5, 'learning_rate': 0.05664307157909336, 'subsample': 0.6697096297014155, 'colsample_bytree': 0.6758890288073538, 'gamma': 5.304825469286461, 'min_child_weight': 2}. Best is trial 33 with value: 0.04817282839406062.\n",
      "[I 2025-09-07 21:57:15,728] Trial 47 finished with value: 0.05866647419282129 and parameters: {'n_estimators': 495, 'max_depth': 4, 'learning_rate': 0.09197457032169329, 'subsample': 0.9826391408104465, 'colsample_bytree': 0.9446248276010356, 'gamma': 0.05239926023995076, 'min_child_weight': 4}. Best is trial 33 with value: 0.04817282839406062.\n",
      "[I 2025-09-07 21:57:16,549] Trial 48 finished with value: 0.06375772489582143 and parameters: {'n_estimators': 366, 'max_depth': 5, 'learning_rate': 0.03546216071554047, 'subsample': 0.6173384026091941, 'colsample_bytree': 0.8847861128151739, 'gamma': 0.9693771121389075, 'min_child_weight': 6}. Best is trial 33 with value: 0.04817282839406062.\n",
      "[I 2025-09-07 21:57:16,911] Trial 49 finished with value: 0.07749941818918753 and parameters: {'n_estimators': 158, 'max_depth': 6, 'learning_rate': 0.07090083093177188, 'subsample': 0.9050980120259399, 'colsample_bytree': 0.6520308357515562, 'gamma': 3.1645982438665214, 'min_child_weight': 4}. Best is trial 33 with value: 0.04817282839406062.\n",
      "[I 2025-09-07 21:57:17,896] Trial 50 finished with value: 0.10834071194603634 and parameters: {'n_estimators': 576, 'max_depth': 4, 'learning_rate': 0.014271917149997333, 'subsample': 0.728988578361618, 'colsample_bytree': 0.6095808456184398, 'gamma': 10.404098996848614, 'min_child_weight': 3}. Best is trial 33 with value: 0.04817282839406062.\n",
      "[I 2025-09-07 21:57:19,104] Trial 51 finished with value: 0.05953517839218478 and parameters: {'n_estimators': 591, 'max_depth': 5, 'learning_rate': 0.02114609575495283, 'subsample': 0.601896546099317, 'colsample_bytree': 0.6013731919378025, 'gamma': 0.8205333694956876, 'min_child_weight': 4}. Best is trial 33 with value: 0.04817282839406062.\n",
      "[I 2025-09-07 21:57:19,965] Trial 52 finished with value: 0.07490543436192001 and parameters: {'n_estimators': 538, 'max_depth': 5, 'learning_rate': 0.03359393002682233, 'subsample': 0.6363632465771546, 'colsample_bytree': 0.6260569255510597, 'gamma': 2.1046212859119118, 'min_child_weight': 5}. Best is trial 33 with value: 0.04817282839406062.\n",
      "[I 2025-09-07 21:57:20,879] Trial 53 finished with value: 0.05905798548835505 and parameters: {'n_estimators': 518, 'max_depth': 4, 'learning_rate': 0.026339150074390107, 'subsample': 0.6497470124075333, 'colsample_bytree': 0.6155736578392573, 'gamma': 0.5454475910028294, 'min_child_weight': 6}. Best is trial 33 with value: 0.04817282839406062.\n",
      "[I 2025-09-07 21:57:21,911] Trial 54 finished with value: 0.048994365465037194 and parameters: {'n_estimators': 547, 'max_depth': 5, 'learning_rate': 0.04881589001971895, 'subsample': 0.6792785695404381, 'colsample_bytree': 0.6706360156464994, 'gamma': 0.0654727228201471, 'min_child_weight': 4}. Best is trial 33 with value: 0.04817282839406062.\n",
      "[I 2025-09-07 21:57:22,707] Trial 55 finished with value: 0.06735996881903265 and parameters: {'n_estimators': 544, 'max_depth': 5, 'learning_rate': 0.049048076106985285, 'subsample': 0.683524465627813, 'colsample_bytree': 0.6727123499170199, 'gamma': 1.6939606325452052, 'min_child_weight': 5}. Best is trial 33 with value: 0.04817282839406062.\n",
      "[I 2025-09-07 21:57:23,229] Trial 56 finished with value: 0.0785602930033239 and parameters: {'n_estimators': 309, 'max_depth': 6, 'learning_rate': 0.06369143116758127, 'subsample': 0.6596761767711994, 'colsample_bytree': 0.6952771776699405, 'gamma': 2.770509086040584, 'min_child_weight': 4}. Best is trial 33 with value: 0.04817282839406062.\n",
      "[I 2025-09-07 21:57:24,134] Trial 57 finished with value: 0.08514978806449831 and parameters: {'n_estimators': 506, 'max_depth': 4, 'learning_rate': 0.01795865309698371, 'subsample': 0.6276112039067417, 'colsample_bytree': 0.6367334800768091, 'gamma': 4.112115798767185, 'min_child_weight': 3}. Best is trial 33 with value: 0.04817282839406062.\n",
      "[I 2025-09-07 21:57:24,834] Trial 58 finished with value: 0.13072938298464606 and parameters: {'n_estimators': 555, 'max_depth': 9, 'learning_rate': 0.04789206155395057, 'subsample': 0.6127293692015389, 'colsample_bytree': 0.7227820948295686, 'gamma': 14.122817793328725, 'min_child_weight': 2}. Best is trial 33 with value: 0.04817282839406062.\n",
      "[I 2025-09-07 21:57:25,900] Trial 59 finished with value: 0.049103807399540345 and parameters: {'n_estimators': 419, 'max_depth': 5, 'learning_rate': 0.0428065786042177, 'subsample': 0.6415801085156818, 'colsample_bytree': 0.7513956301110775, 'gamma': 0.0365432724801668, 'min_child_weight': 4}. Best is trial 33 with value: 0.04817282839406062.\n",
      "[I 2025-09-07 21:57:26,983] Trial 60 finished with value: 0.07146848999775945 and parameters: {'n_estimators': 411, 'max_depth': 7, 'learning_rate': 0.022384921754476785, 'subsample': 0.7028196975313686, 'colsample_bytree': 0.7549632556212271, 'gamma': 1.8396964632198394, 'min_child_weight': 5}. Best is trial 33 with value: 0.04817282839406062.\n",
      "[I 2025-09-07 21:57:28,156] Trial 61 finished with value: 0.05114733347728935 and parameters: {'n_estimators': 581, 'max_depth': 5, 'learning_rate': 0.04367063951884983, 'subsample': 0.6444136476451064, 'colsample_bytree': 0.7772643776838133, 'gamma': 0.10391845925542437, 'min_child_weight': 4}. Best is trial 33 with value: 0.04817282839406062.\n",
      "[I 2025-09-07 21:57:29,025] Trial 62 finished with value: 0.0601601788241065 and parameters: {'n_estimators': 462, 'max_depth': 5, 'learning_rate': 0.04117583633498105, 'subsample': 0.6738534363868601, 'colsample_bytree': 0.8054254833653167, 'gamma': 0.7544955552099056, 'min_child_weight': 4}. Best is trial 33 with value: 0.04817282839406062.\n",
      "[I 2025-09-07 21:57:31,335] Trial 63 finished with value: 0.04676623690393154 and parameters: {'n_estimators': 487, 'max_depth': 6, 'learning_rate': 0.03178383619283286, 'subsample': 0.6470853909072255, 'colsample_bytree': 0.7795429855294089, 'gamma': 0.005886299017678568, 'min_child_weight': 4}. Best is trial 63 with value: 0.04676623690393154.\n",
      "[I 2025-09-07 21:57:32,343] Trial 64 finished with value: 0.0691490306971031 and parameters: {'n_estimators': 488, 'max_depth': 6, 'learning_rate': 0.03299342570753527, 'subsample': 0.6493479974323438, 'colsample_bytree': 0.7938107860497242, 'gamma': 1.5036176157784216, 'min_child_weight': 3}. Best is trial 63 with value: 0.04676623690393154.\n",
      "[I 2025-09-07 21:57:33,803] Trial 65 finished with value: 0.047688923055519236 and parameters: {'n_estimators': 439, 'max_depth': 6, 'learning_rate': 0.03605199493698448, 'subsample': 0.6821882095071998, 'colsample_bytree': 0.7617334365974728, 'gamma': 0.04565742720657146, 'min_child_weight': 3}. Best is trial 63 with value: 0.04676623690393154.\n",
      "[I 2025-09-07 21:57:34,848] Trial 66 finished with value: 0.0651628869207575 and parameters: {'n_estimators': 447, 'max_depth': 6, 'learning_rate': 0.02799313452264019, 'subsample': 0.6795504009757408, 'colsample_bytree': 0.7415918660565131, 'gamma': 1.1937655940347185, 'min_child_weight': 3}. Best is trial 63 with value: 0.04676623690393154.\n",
      "[I 2025-09-07 21:57:35,638] Trial 67 finished with value: 0.07609182822407168 and parameters: {'n_estimators': 420, 'max_depth': 7, 'learning_rate': 0.03789982433676621, 'subsample': 0.7722642451779519, 'colsample_bytree': 0.766620914298488, 'gamma': 3.03184169350511, 'min_child_weight': 0}. Best is trial 63 with value: 0.04676623690393154.\n",
      "[I 2025-09-07 21:57:36,949] Trial 68 finished with value: 0.05725794873759462 and parameters: {'n_estimators': 390, 'max_depth': 6, 'learning_rate': 0.0234860047493565, 'subsample': 0.696344934931001, 'colsample_bytree': 0.8346587039585398, 'gamma': 0.637439375928381, 'min_child_weight': 2}. Best is trial 63 with value: 0.04676623690393154.\n",
      "[I 2025-09-07 21:57:37,664] Trial 69 finished with value: 0.07310225789272524 and parameters: {'n_estimators': 464, 'max_depth': 7, 'learning_rate': 0.05648764716688567, 'subsample': 0.6594048804785435, 'colsample_bytree': 0.7117718855753794, 'gamma': 2.0490257266963585, 'min_child_weight': 4}. Best is trial 63 with value: 0.04676623690393154.\n",
      "[I 2025-09-07 21:57:39,870] Trial 70 finished with value: 0.047721213283738524 and parameters: {'n_estimators': 430, 'max_depth': 6, 'learning_rate': 0.03199406771995275, 'subsample': 0.7213138838560758, 'colsample_bytree': 0.8190957226438788, 'gamma': 0.006822232487439343, 'min_child_weight': 3}. Best is trial 63 with value: 0.04676623690393154.\n",
      "[I 2025-09-07 21:57:41,024] Trial 71 finished with value: 0.05665383513733234 and parameters: {'n_estimators': 422, 'max_depth': 6, 'learning_rate': 0.032293249962333466, 'subsample': 0.7135969563475297, 'colsample_bytree': 0.8624530764090482, 'gamma': 0.5863134626770432, 'min_child_weight': 3}. Best is trial 63 with value: 0.04676623690393154.\n",
      "[I 2025-09-07 21:57:44,054] Trial 72 finished with value: 0.049247469262301065 and parameters: {'n_estimators': 401, 'max_depth': 6, 'learning_rate': 0.036847312680887354, 'subsample': 0.7237892125853607, 'colsample_bytree': 0.8125125425171907, 'gamma': 0.0013028578908225825, 'min_child_weight': 3}. Best is trial 63 with value: 0.04676623690393154.\n",
      "[I 2025-09-07 21:57:44,935] Trial 73 finished with value: 0.0664835508006342 and parameters: {'n_estimators': 433, 'max_depth': 5, 'learning_rate': 0.03246354849635518, 'subsample': 0.6720507765315756, 'colsample_bytree': 0.7689789097225562, 'gamma': 1.28764924763468, 'min_child_weight': 2}. Best is trial 63 with value: 0.04676623690393154.\n",
      "[I 2025-09-07 21:57:46,152] Trial 74 finished with value: 0.05967031940943233 and parameters: {'n_estimators': 513, 'max_depth': 6, 'learning_rate': 0.027011790180269307, 'subsample': 0.6312492351479534, 'colsample_bytree': 0.7352765181966348, 'gamma': 0.7309255487188823, 'min_child_weight': 3}. Best is trial 63 with value: 0.04676623690393154.\n",
      "[I 2025-09-07 21:57:46,672] Trial 75 finished with value: 0.1329669264972057 and parameters: {'n_estimators': 364, 'max_depth': 5, 'learning_rate': 0.05007652397690753, 'subsample': 0.8213017449527896, 'colsample_bytree': 0.7885329557250204, 'gamma': 19.945186885596282, 'min_child_weight': 4}. Best is trial 63 with value: 0.04676623690393154.\n",
      "[I 2025-09-07 21:57:47,708] Trial 76 finished with value: 0.06763320164096485 and parameters: {'n_estimators': 470, 'max_depth': 7, 'learning_rate': 0.029983760251421746, 'subsample': 0.739859736223127, 'colsample_bytree': 0.8473959673292055, 'gamma': 1.7165221993431674, 'min_child_weight': 10}. Best is trial 63 with value: 0.04676623690393154.\n",
      "[I 2025-09-07 21:57:48,321] Trial 77 finished with value: 0.08343475442201637 and parameters: {'n_estimators': 488, 'max_depth': 6, 'learning_rate': 0.16802164469326641, 'subsample': 0.6171637342432043, 'colsample_bytree': 0.815657686884583, 'gamma': 2.4019726358693, 'min_child_weight': 1}. Best is trial 63 with value: 0.04676623690393154.\n",
      "[I 2025-09-07 21:57:49,266] Trial 78 finished with value: 0.06502855877644298 and parameters: {'n_estimators': 530, 'max_depth': 6, 'learning_rate': 0.039224330386920685, 'subsample': 0.68491275820018, 'colsample_bytree': 0.7543740003071677, 'gamma': 1.418463039030222, 'min_child_weight': 4}. Best is trial 63 with value: 0.04676623690393154.\n",
      "[I 2025-09-07 21:57:50,164] Trial 79 finished with value: 0.08113993332918999 and parameters: {'n_estimators': 443, 'max_depth': 5, 'learning_rate': 0.02442631436947091, 'subsample': 0.640732588090969, 'colsample_bytree': 0.7976323593885217, 'gamma': 3.4942452436577334, 'min_child_weight': 5}. Best is trial 63 with value: 0.04676623690393154.\n",
      "[I 2025-09-07 21:57:51,161] Trial 80 finished with value: 0.05887752005626351 and parameters: {'n_estimators': 379, 'max_depth': 6, 'learning_rate': 0.03573244486833338, 'subsample': 0.6587422914107883, 'colsample_bytree': 0.7801011671443155, 'gamma': 0.5401790173923664, 'min_child_weight': 4}. Best is trial 63 with value: 0.04676623690393154.\n",
      "[I 2025-09-07 21:57:52,302] Trial 81 finished with value: 0.05199674347405724 and parameters: {'n_estimators': 404, 'max_depth': 6, 'learning_rate': 0.03661135995267824, 'subsample': 0.7277633597675057, 'colsample_bytree': 0.8093652748630974, 'gamma': 0.25088542420654125, 'min_child_weight': 3}. Best is trial 63 with value: 0.04676623690393154.\n",
      "[I 2025-09-07 21:57:53,685] Trial 82 finished with value: 0.0482680047023738 and parameters: {'n_estimators': 319, 'max_depth': 6, 'learning_rate': 0.04345122529816576, 'subsample': 0.719496418520308, 'colsample_bytree': 0.8246676659969339, 'gamma': 0.017938805250955033, 'min_child_weight': 3}. Best is trial 63 with value: 0.04676623690393154.\n",
      "[I 2025-09-07 21:57:54,364] Trial 83 finished with value: 0.06328148944832981 and parameters: {'n_estimators': 307, 'max_depth': 5, 'learning_rate': 0.04337632376480041, 'subsample': 0.6962963638305487, 'colsample_bytree': 0.8383751143218432, 'gamma': 1.1766651998232411, 'min_child_weight': 3}. Best is trial 63 with value: 0.04676623690393154.\n",
      "[I 2025-09-07 21:57:55,651] Trial 84 finished with value: 0.04801385469801029 and parameters: {'n_estimators': 331, 'max_depth': 7, 'learning_rate': 0.057387148253139675, 'subsample': 0.7185024868316934, 'colsample_bytree': 0.867541929687454, 'gamma': 0.031564993785093046, 'min_child_weight': 4}. Best is trial 63 with value: 0.04676623690393154.\n",
      "[I 2025-09-07 21:57:56,370] Trial 85 finished with value: 0.06241809425315126 and parameters: {'n_estimators': 276, 'max_depth': 8, 'learning_rate': 0.05417479065256045, 'subsample': 0.7542474950065763, 'colsample_bytree': 0.8792327857829697, 'gamma': 0.8950234114442295, 'min_child_weight': 2}. Best is trial 63 with value: 0.04676623690393154.\n",
      "[I 2025-09-07 21:57:57,257] Trial 86 finished with value: 0.06984055268033303 and parameters: {'n_estimators': 324, 'max_depth': 7, 'learning_rate': 0.029946898605276506, 'subsample': 0.7670547330662056, 'colsample_bytree': 0.8919220077954654, 'gamma': 2.098849077903614, 'min_child_weight': 3}. Best is trial 63 with value: 0.04676623690393154.\n",
      "[I 2025-09-07 21:57:57,962] Trial 87 finished with value: 0.05526425644275035 and parameters: {'n_estimators': 340, 'max_depth': 7, 'learning_rate': 0.07941869557567323, 'subsample': 0.74110134817988, 'colsample_bytree': 0.8298498334724436, 'gamma': 0.4641653779089638, 'min_child_weight': 4}. Best is trial 63 with value: 0.04676623690393154.\n",
      "[I 2025-09-07 21:57:58,510] Trial 88 finished with value: 0.0765474912957733 and parameters: {'n_estimators': 279, 'max_depth': 7, 'learning_rate': 0.06099089253046689, 'subsample': 0.7047663198867179, 'colsample_bytree': 0.9075778548474603, 'gamma': 2.7033258521272763, 'min_child_weight': 5}. Best is trial 63 with value: 0.04676623690393154.\n",
      "[I 2025-09-07 21:57:59,034] Trial 89 finished with value: 0.06494944027990077 and parameters: {'n_estimators': 228, 'max_depth': 6, 'learning_rate': 0.06884686810439983, 'subsample': 0.7163667865493217, 'colsample_bytree': 0.8676003201322732, 'gamma': 1.2198417648903064, 'min_child_weight': 4}. Best is trial 63 with value: 0.04676623690393154.\n",
      "[I 2025-09-07 21:57:59,508] Trial 90 finished with value: 0.11898669868023687 and parameters: {'n_estimators': 295, 'max_depth': 6, 'learning_rate': 0.052082042710236746, 'subsample': 0.9509504707385654, 'colsample_bytree': 0.8503658085162626, 'gamma': 16.282014805447055, 'min_child_weight': 3}. Best is trial 63 with value: 0.04676623690393154.\n",
      "[I 2025-09-07 21:58:00,561] Trial 91 finished with value: 0.05022957658394418 and parameters: {'n_estimators': 559, 'max_depth': 5, 'learning_rate': 0.04692581253826476, 'subsample': 0.6680946191576783, 'colsample_bytree': 0.6879169196029941, 'gamma': 0.07784069750269643, 'min_child_weight': 4}. Best is trial 63 with value: 0.04676623690393154.\n",
      "[I 2025-09-07 21:58:01,567] Trial 92 finished with value: 0.059359270446677236 and parameters: {'n_estimators': 502, 'max_depth': 6, 'learning_rate': 0.04254237584080731, 'subsample': 0.6299080023964722, 'colsample_bytree': 0.770775969228099, 'gamma': 0.5464593132826175, 'min_child_weight': 4}. Best is trial 63 with value: 0.04676623690393154.\n",
      "[I 2025-09-07 21:58:03,155] Trial 93 finished with value: 0.048322361376103865 and parameters: {'n_estimators': 342, 'max_depth': 5, 'learning_rate': 0.03435142491730014, 'subsample': 0.690397558278774, 'colsample_bytree': 0.8222417441882113, 'gamma': 0.008366411141232554, 'min_child_weight': 3}. Best is trial 63 with value: 0.04676623690393154.\n",
      "[I 2025-09-07 21:58:03,783] Trial 94 finished with value: 0.10033872929174427 and parameters: {'n_estimators': 341, 'max_depth': 5, 'learning_rate': 0.03433438127896713, 'subsample': 0.6896915116912095, 'colsample_bytree': 0.8207148851461966, 'gamma': 7.678088349211103, 'min_child_weight': 2}. Best is trial 63 with value: 0.04676623690393154.\n",
      "[I 2025-09-07 21:58:04,763] Trial 95 finished with value: 0.06973648227791601 and parameters: {'n_estimators': 368, 'max_depth': 7, 'learning_rate': 0.027658714797992947, 'subsample': 0.7220364001141313, 'colsample_bytree': 0.8514887666720883, 'gamma': 1.797005860332706, 'min_child_weight': 3}. Best is trial 63 with value: 0.04676623690393154.\n",
      "[I 2025-09-07 21:58:05,598] Trial 96 finished with value: 0.06278911789377505 and parameters: {'n_estimators': 357, 'max_depth': 6, 'learning_rate': 0.04047410955192105, 'subsample': 0.6776081837054556, 'colsample_bytree': 0.8029174870332317, 'gamma': 0.9850750005101011, 'min_child_weight': 3}. Best is trial 63 with value: 0.04676623690393154.\n",
      "[I 2025-09-07 21:58:06,703] Trial 97 finished with value: 0.05574638361264411 and parameters: {'n_estimators': 383, 'max_depth': 6, 'learning_rate': 0.031459822660907376, 'subsample': 0.7073517835218717, 'colsample_bytree': 0.7602947682424305, 'gamma': 0.44861684880774244, 'min_child_weight': 5}. Best is trial 63 with value: 0.04676623690393154.\n",
      "[I 2025-09-07 21:58:07,890] Trial 98 finished with value: 0.06615052350504602 and parameters: {'n_estimators': 309, 'max_depth': 9, 'learning_rate': 0.020550274400928884, 'subsample': 0.7954410715733712, 'colsample_bytree': 0.8294286276515046, 'gamma': 1.4952092018732768, 'min_child_weight': 3}. Best is trial 63 with value: 0.04676623690393154.\n",
      "[I 2025-09-07 21:58:09,474] Trial 99 finished with value: 0.046379392446891494 and parameters: {'n_estimators': 331, 'max_depth': 5, 'learning_rate': 0.034689470557369394, 'subsample': 0.6516527706458131, 'colsample_bytree': 0.7437096218288493, 'gamma': 0.005478070150285411, 'min_child_weight': 4}. Best is trial 99 with value: 0.046379392446891494.\n"
     ]
    },
    {
     "name": "stdout",
     "output_type": "stream",
     "text": [
      "Best params: {'n_estimators': 331, 'max_depth': 5, 'learning_rate': 0.034689470557369394, 'subsample': 0.6516527706458131, 'colsample_bytree': 0.7437096218288493, 'gamma': 0.005478070150285411, 'min_child_weight': 4}\n"
     ]
    }
   ],
   "source": [
    "import optuna\n",
    "from xgboost import XGBRegressor\n",
    "from sklearn.metrics import mean_squared_error\n",
    "# --- Split by date ---\n",
    "train_end   = \"2015-12-31\"\n",
    "valid_end   = \"2017-12-31\"\n",
    "test_end    = \"2018-12-31\"\n",
    "\n",
    "X_train, y_train = X_ready.loc[:train_end], y_ready.loc[:train_end]\n",
    "X_valid, y_valid = X_ready.loc[train_end:valid_end], y_ready.loc[train_end:valid_end]\n",
    "X_test,  y_test  = X_ready.loc[valid_end:test_end], y_ready.loc[valid_end:test_end]\n",
    "\n",
    "print(\"Train:\", X_train.shape, \"Valid:\", X_valid.shape, \"Test:\", X_test.shape)\n",
    "\n",
    "\n",
    "# --- Define Optuna objective (optimize for q=0.5, median) ---\n",
    "def objective(trial):\n",
    "    params = {\n",
    "        \"n_estimators\": trial.suggest_int(\"n_estimators\", 50, 600),\n",
    "        \"max_depth\": trial.suggest_int(\"max_depth\", 3, 10),\n",
    "        \"learning_rate\": trial.suggest_float(\"learning_rate\", 0.01, 0.3, log=True),\n",
    "        \"subsample\": trial.suggest_float(\"subsample\", 0.6, 1.0),\n",
    "        \"colsample_bytree\": trial.suggest_float(\"colsample_bytree\", 0.6, 1.0),\n",
    "        \"gamma\": trial.suggest_float(\"gamma\", 0, 20),\n",
    "        \"random_state\": 42,\n",
    "        \"min_child_weight\": trial.suggest_int(\"min_child_weight\", 0.5, 10),\n",
    "        \"eval_metric\": \"rmse\",  \n",
    "        \"n_jobs\": -1\n",
    "    }\n",
    "    model = XGBRegressor(**params)\n",
    "    model.fit(X_train, y_train)\n",
    "    preds = model.predict(X_valid)    \n",
    "    mse = mean_squared_error(y_valid, preds)\n",
    "    rmse = np.sqrt(mse)\n",
    "    return rmse\n",
    "\n",
    "# --- Run Optuna once (optimize for RMSE on median) ---\n",
    "study = optuna.create_study(direction=\"minimize\")\n",
    "study.optimize(objective, n_trials=100)\n",
    "best_params = study.best_params\n",
    "print(\"Best params:\", best_params)"
   ]
  },
  {
   "cell_type": "markdown",
   "id": "c2d1f8ab-9cb3-4b29-9b35-33aa9f748e8f",
   "metadata": {},
   "source": [
    "## Model output"
   ]
  },
  {
   "cell_type": "code",
   "execution_count": 4,
   "id": "3a1e5ac9-e195-414a-b4ae-91cfff7bfa24",
   "metadata": {},
   "outputs": [
    {
     "data": {
      "application/vnd.plotly.v1+json": {
       "config": {
        "plotlyServerURL": "https://plot.ly"
       },
       "data": [
        {
         "mode": "markers",
         "name": "Objective Value",
         "type": "scatter",
         "x": [
          0,
          1,
          2,
          3,
          4,
          5,
          6,
          7,
          8,
          9,
          10,
          11,
          12,
          13,
          14,
          15,
          16,
          17,
          18,
          19,
          20,
          21,
          22,
          23,
          24,
          25,
          26,
          27,
          28,
          29,
          30,
          31,
          32,
          33,
          34,
          35,
          36,
          37,
          38,
          39,
          40,
          41,
          42,
          43,
          44,
          45,
          46,
          47,
          48,
          49,
          50,
          51,
          52,
          53,
          54,
          55,
          56,
          57,
          58,
          59,
          60,
          61,
          62,
          63,
          64,
          65,
          66,
          67,
          68,
          69,
          70,
          71,
          72,
          73,
          74,
          75,
          76,
          77,
          78,
          79,
          80,
          81,
          82,
          83,
          84,
          85,
          86,
          87,
          88,
          89,
          90,
          91,
          92,
          93,
          94,
          95,
          96,
          97,
          98,
          99
         ],
         "y": [
          0.11344351328262432,
          0.10781577457762463,
          0.12406857112351624,
          0.09699525291339893,
          0.07390423376284878,
          0.10661587917100683,
          0.08608711559380292,
          0.11382558366848733,
          0.09371837440166148,
          0.07353689981954371,
          0.05355754319151732,
          0.05380683920296528,
          0.04886986379056708,
          0.08364377151769176,
          0.16437784043820455,
          0.09749526105575809,
          0.07800201331900264,
          0.14035851342188302,
          0.09764444756713167,
          0.11670301742436391,
          0.054894867350320925,
          0.051859126707323386,
          0.07218361079795212,
          0.05135655737347126,
          0.07840323672029129,
          0.07274148502180683,
          0.08423774226418881,
          0.09299331508793464,
          0.08064490742040195,
          0.055083068243682906,
          0.10552644476118438,
          0.06789136144877336,
          0.06868244192371135,
          0.04817282839406062,
          0.1053234043687602,
          0.06895125150091092,
          0.09703600851083727,
          0.09101707923938909,
          0.12926140900972163,
          0.08486067676827581,
          0.06764552828736915,
          0.05617343879520489,
          0.07242772569963127,
          0.04917081739259842,
          0.07158639707171122,
          0.06451939297244566,
          0.08785852799846,
          0.05866647419282129,
          0.06375772489582143,
          0.07749941818918753,
          0.10834071194603634,
          0.05953517839218478,
          0.07490543436192001,
          0.05905798548835505,
          0.048994365465037194,
          0.06735996881903265,
          0.0785602930033239,
          0.08514978806449831,
          0.13072938298464606,
          0.049103807399540345,
          0.07146848999775945,
          0.05114733347728935,
          0.0601601788241065,
          0.04676623690393154,
          0.0691490306971031,
          0.047688923055519236,
          0.0651628869207575,
          0.07609182822407168,
          0.05725794873759462,
          0.07310225789272524,
          0.047721213283738524,
          0.05665383513733234,
          0.049247469262301065,
          0.0664835508006342,
          0.05967031940943233,
          0.1329669264972057,
          0.06763320164096485,
          0.08343475442201637,
          0.06502855877644298,
          0.08113993332918999,
          0.05887752005626351,
          0.05199674347405724,
          0.0482680047023738,
          0.06328148944832981,
          0.04801385469801029,
          0.06241809425315126,
          0.06984055268033303,
          0.05526425644275035,
          0.0765474912957733,
          0.06494944027990077,
          0.11898669868023687,
          0.05022957658394418,
          0.059359270446677236,
          0.048322361376103865,
          0.10033872929174427,
          0.06973648227791601,
          0.06278911789377505,
          0.05574638361264411,
          0.06615052350504602,
          0.046379392446891494
         ]
        },
        {
         "mode": "lines",
         "name": "Best Value",
         "type": "scatter",
         "x": [
          0,
          1,
          2,
          3,
          4,
          5,
          6,
          7,
          8,
          9,
          10,
          11,
          12,
          13,
          14,
          15,
          16,
          17,
          18,
          19,
          20,
          21,
          22,
          23,
          24,
          25,
          26,
          27,
          28,
          29,
          30,
          31,
          32,
          33,
          34,
          35,
          36,
          37,
          38,
          39,
          40,
          41,
          42,
          43,
          44,
          45,
          46,
          47,
          48,
          49,
          50,
          51,
          52,
          53,
          54,
          55,
          56,
          57,
          58,
          59,
          60,
          61,
          62,
          63,
          64,
          65,
          66,
          67,
          68,
          69,
          70,
          71,
          72,
          73,
          74,
          75,
          76,
          77,
          78,
          79,
          80,
          81,
          82,
          83,
          84,
          85,
          86,
          87,
          88,
          89,
          90,
          91,
          92,
          93,
          94,
          95,
          96,
          97,
          98,
          99
         ],
         "y": [
          0.11344351328262432,
          0.10781577457762463,
          0.10781577457762463,
          0.09699525291339893,
          0.07390423376284878,
          0.07390423376284878,
          0.07390423376284878,
          0.07390423376284878,
          0.07390423376284878,
          0.07353689981954371,
          0.05355754319151732,
          0.05355754319151732,
          0.04886986379056708,
          0.04886986379056708,
          0.04886986379056708,
          0.04886986379056708,
          0.04886986379056708,
          0.04886986379056708,
          0.04886986379056708,
          0.04886986379056708,
          0.04886986379056708,
          0.04886986379056708,
          0.04886986379056708,
          0.04886986379056708,
          0.04886986379056708,
          0.04886986379056708,
          0.04886986379056708,
          0.04886986379056708,
          0.04886986379056708,
          0.04886986379056708,
          0.04886986379056708,
          0.04886986379056708,
          0.04886986379056708,
          0.04817282839406062,
          0.04817282839406062,
          0.04817282839406062,
          0.04817282839406062,
          0.04817282839406062,
          0.04817282839406062,
          0.04817282839406062,
          0.04817282839406062,
          0.04817282839406062,
          0.04817282839406062,
          0.04817282839406062,
          0.04817282839406062,
          0.04817282839406062,
          0.04817282839406062,
          0.04817282839406062,
          0.04817282839406062,
          0.04817282839406062,
          0.04817282839406062,
          0.04817282839406062,
          0.04817282839406062,
          0.04817282839406062,
          0.04817282839406062,
          0.04817282839406062,
          0.04817282839406062,
          0.04817282839406062,
          0.04817282839406062,
          0.04817282839406062,
          0.04817282839406062,
          0.04817282839406062,
          0.04817282839406062,
          0.04676623690393154,
          0.04676623690393154,
          0.04676623690393154,
          0.04676623690393154,
          0.04676623690393154,
          0.04676623690393154,
          0.04676623690393154,
          0.04676623690393154,
          0.04676623690393154,
          0.04676623690393154,
          0.04676623690393154,
          0.04676623690393154,
          0.04676623690393154,
          0.04676623690393154,
          0.04676623690393154,
          0.04676623690393154,
          0.04676623690393154,
          0.04676623690393154,
          0.04676623690393154,
          0.04676623690393154,
          0.04676623690393154,
          0.04676623690393154,
          0.04676623690393154,
          0.04676623690393154,
          0.04676623690393154,
          0.04676623690393154,
          0.04676623690393154,
          0.04676623690393154,
          0.04676623690393154,
          0.04676623690393154,
          0.04676623690393154,
          0.04676623690393154,
          0.04676623690393154,
          0.04676623690393154,
          0.04676623690393154,
          0.04676623690393154,
          0.046379392446891494
         ]
        },
        {
         "marker": {
          "color": "#cccccc"
         },
         "mode": "markers",
         "name": "Infeasible Trial",
         "showlegend": false,
         "type": "scatter",
         "x": [],
         "y": []
        }
       ],
       "layout": {
        "template": {
         "data": {
          "bar": [
           {
            "error_x": {
             "color": "#2a3f5f"
            },
            "error_y": {
             "color": "#2a3f5f"
            },
            "marker": {
             "line": {
              "color": "#E5ECF6",
              "width": 0.5
             },
             "pattern": {
              "fillmode": "overlay",
              "size": 10,
              "solidity": 0.2
             }
            },
            "type": "bar"
           }
          ],
          "barpolar": [
           {
            "marker": {
             "line": {
              "color": "#E5ECF6",
              "width": 0.5
             },
             "pattern": {
              "fillmode": "overlay",
              "size": 10,
              "solidity": 0.2
             }
            },
            "type": "barpolar"
           }
          ],
          "carpet": [
           {
            "aaxis": {
             "endlinecolor": "#2a3f5f",
             "gridcolor": "white",
             "linecolor": "white",
             "minorgridcolor": "white",
             "startlinecolor": "#2a3f5f"
            },
            "baxis": {
             "endlinecolor": "#2a3f5f",
             "gridcolor": "white",
             "linecolor": "white",
             "minorgridcolor": "white",
             "startlinecolor": "#2a3f5f"
            },
            "type": "carpet"
           }
          ],
          "choropleth": [
           {
            "colorbar": {
             "outlinewidth": 0,
             "ticks": ""
            },
            "type": "choropleth"
           }
          ],
          "contour": [
           {
            "colorbar": {
             "outlinewidth": 0,
             "ticks": ""
            },
            "colorscale": [
             [
              0,
              "#0d0887"
             ],
             [
              0.1111111111111111,
              "#46039f"
             ],
             [
              0.2222222222222222,
              "#7201a8"
             ],
             [
              0.3333333333333333,
              "#9c179e"
             ],
             [
              0.4444444444444444,
              "#bd3786"
             ],
             [
              0.5555555555555556,
              "#d8576b"
             ],
             [
              0.6666666666666666,
              "#ed7953"
             ],
             [
              0.7777777777777778,
              "#fb9f3a"
             ],
             [
              0.8888888888888888,
              "#fdca26"
             ],
             [
              1,
              "#f0f921"
             ]
            ],
            "type": "contour"
           }
          ],
          "contourcarpet": [
           {
            "colorbar": {
             "outlinewidth": 0,
             "ticks": ""
            },
            "type": "contourcarpet"
           }
          ],
          "heatmap": [
           {
            "colorbar": {
             "outlinewidth": 0,
             "ticks": ""
            },
            "colorscale": [
             [
              0,
              "#0d0887"
             ],
             [
              0.1111111111111111,
              "#46039f"
             ],
             [
              0.2222222222222222,
              "#7201a8"
             ],
             [
              0.3333333333333333,
              "#9c179e"
             ],
             [
              0.4444444444444444,
              "#bd3786"
             ],
             [
              0.5555555555555556,
              "#d8576b"
             ],
             [
              0.6666666666666666,
              "#ed7953"
             ],
             [
              0.7777777777777778,
              "#fb9f3a"
             ],
             [
              0.8888888888888888,
              "#fdca26"
             ],
             [
              1,
              "#f0f921"
             ]
            ],
            "type": "heatmap"
           }
          ],
          "histogram": [
           {
            "marker": {
             "pattern": {
              "fillmode": "overlay",
              "size": 10,
              "solidity": 0.2
             }
            },
            "type": "histogram"
           }
          ],
          "histogram2d": [
           {
            "colorbar": {
             "outlinewidth": 0,
             "ticks": ""
            },
            "colorscale": [
             [
              0,
              "#0d0887"
             ],
             [
              0.1111111111111111,
              "#46039f"
             ],
             [
              0.2222222222222222,
              "#7201a8"
             ],
             [
              0.3333333333333333,
              "#9c179e"
             ],
             [
              0.4444444444444444,
              "#bd3786"
             ],
             [
              0.5555555555555556,
              "#d8576b"
             ],
             [
              0.6666666666666666,
              "#ed7953"
             ],
             [
              0.7777777777777778,
              "#fb9f3a"
             ],
             [
              0.8888888888888888,
              "#fdca26"
             ],
             [
              1,
              "#f0f921"
             ]
            ],
            "type": "histogram2d"
           }
          ],
          "histogram2dcontour": [
           {
            "colorbar": {
             "outlinewidth": 0,
             "ticks": ""
            },
            "colorscale": [
             [
              0,
              "#0d0887"
             ],
             [
              0.1111111111111111,
              "#46039f"
             ],
             [
              0.2222222222222222,
              "#7201a8"
             ],
             [
              0.3333333333333333,
              "#9c179e"
             ],
             [
              0.4444444444444444,
              "#bd3786"
             ],
             [
              0.5555555555555556,
              "#d8576b"
             ],
             [
              0.6666666666666666,
              "#ed7953"
             ],
             [
              0.7777777777777778,
              "#fb9f3a"
             ],
             [
              0.8888888888888888,
              "#fdca26"
             ],
             [
              1,
              "#f0f921"
             ]
            ],
            "type": "histogram2dcontour"
           }
          ],
          "mesh3d": [
           {
            "colorbar": {
             "outlinewidth": 0,
             "ticks": ""
            },
            "type": "mesh3d"
           }
          ],
          "parcoords": [
           {
            "line": {
             "colorbar": {
              "outlinewidth": 0,
              "ticks": ""
             }
            },
            "type": "parcoords"
           }
          ],
          "pie": [
           {
            "automargin": true,
            "type": "pie"
           }
          ],
          "scatter": [
           {
            "fillpattern": {
             "fillmode": "overlay",
             "size": 10,
             "solidity": 0.2
            },
            "type": "scatter"
           }
          ],
          "scatter3d": [
           {
            "line": {
             "colorbar": {
              "outlinewidth": 0,
              "ticks": ""
             }
            },
            "marker": {
             "colorbar": {
              "outlinewidth": 0,
              "ticks": ""
             }
            },
            "type": "scatter3d"
           }
          ],
          "scattercarpet": [
           {
            "marker": {
             "colorbar": {
              "outlinewidth": 0,
              "ticks": ""
             }
            },
            "type": "scattercarpet"
           }
          ],
          "scattergeo": [
           {
            "marker": {
             "colorbar": {
              "outlinewidth": 0,
              "ticks": ""
             }
            },
            "type": "scattergeo"
           }
          ],
          "scattergl": [
           {
            "marker": {
             "colorbar": {
              "outlinewidth": 0,
              "ticks": ""
             }
            },
            "type": "scattergl"
           }
          ],
          "scattermap": [
           {
            "marker": {
             "colorbar": {
              "outlinewidth": 0,
              "ticks": ""
             }
            },
            "type": "scattermap"
           }
          ],
          "scattermapbox": [
           {
            "marker": {
             "colorbar": {
              "outlinewidth": 0,
              "ticks": ""
             }
            },
            "type": "scattermapbox"
           }
          ],
          "scatterpolar": [
           {
            "marker": {
             "colorbar": {
              "outlinewidth": 0,
              "ticks": ""
             }
            },
            "type": "scatterpolar"
           }
          ],
          "scatterpolargl": [
           {
            "marker": {
             "colorbar": {
              "outlinewidth": 0,
              "ticks": ""
             }
            },
            "type": "scatterpolargl"
           }
          ],
          "scatterternary": [
           {
            "marker": {
             "colorbar": {
              "outlinewidth": 0,
              "ticks": ""
             }
            },
            "type": "scatterternary"
           }
          ],
          "surface": [
           {
            "colorbar": {
             "outlinewidth": 0,
             "ticks": ""
            },
            "colorscale": [
             [
              0,
              "#0d0887"
             ],
             [
              0.1111111111111111,
              "#46039f"
             ],
             [
              0.2222222222222222,
              "#7201a8"
             ],
             [
              0.3333333333333333,
              "#9c179e"
             ],
             [
              0.4444444444444444,
              "#bd3786"
             ],
             [
              0.5555555555555556,
              "#d8576b"
             ],
             [
              0.6666666666666666,
              "#ed7953"
             ],
             [
              0.7777777777777778,
              "#fb9f3a"
             ],
             [
              0.8888888888888888,
              "#fdca26"
             ],
             [
              1,
              "#f0f921"
             ]
            ],
            "type": "surface"
           }
          ],
          "table": [
           {
            "cells": {
             "fill": {
              "color": "#EBF0F8"
             },
             "line": {
              "color": "white"
             }
            },
            "header": {
             "fill": {
              "color": "#C8D4E3"
             },
             "line": {
              "color": "white"
             }
            },
            "type": "table"
           }
          ]
         },
         "layout": {
          "annotationdefaults": {
           "arrowcolor": "#2a3f5f",
           "arrowhead": 0,
           "arrowwidth": 1
          },
          "autotypenumbers": "strict",
          "coloraxis": {
           "colorbar": {
            "outlinewidth": 0,
            "ticks": ""
           }
          },
          "colorscale": {
           "diverging": [
            [
             0,
             "#8e0152"
            ],
            [
             0.1,
             "#c51b7d"
            ],
            [
             0.2,
             "#de77ae"
            ],
            [
             0.3,
             "#f1b6da"
            ],
            [
             0.4,
             "#fde0ef"
            ],
            [
             0.5,
             "#f7f7f7"
            ],
            [
             0.6,
             "#e6f5d0"
            ],
            [
             0.7,
             "#b8e186"
            ],
            [
             0.8,
             "#7fbc41"
            ],
            [
             0.9,
             "#4d9221"
            ],
            [
             1,
             "#276419"
            ]
           ],
           "sequential": [
            [
             0,
             "#0d0887"
            ],
            [
             0.1111111111111111,
             "#46039f"
            ],
            [
             0.2222222222222222,
             "#7201a8"
            ],
            [
             0.3333333333333333,
             "#9c179e"
            ],
            [
             0.4444444444444444,
             "#bd3786"
            ],
            [
             0.5555555555555556,
             "#d8576b"
            ],
            [
             0.6666666666666666,
             "#ed7953"
            ],
            [
             0.7777777777777778,
             "#fb9f3a"
            ],
            [
             0.8888888888888888,
             "#fdca26"
            ],
            [
             1,
             "#f0f921"
            ]
           ],
           "sequentialminus": [
            [
             0,
             "#0d0887"
            ],
            [
             0.1111111111111111,
             "#46039f"
            ],
            [
             0.2222222222222222,
             "#7201a8"
            ],
            [
             0.3333333333333333,
             "#9c179e"
            ],
            [
             0.4444444444444444,
             "#bd3786"
            ],
            [
             0.5555555555555556,
             "#d8576b"
            ],
            [
             0.6666666666666666,
             "#ed7953"
            ],
            [
             0.7777777777777778,
             "#fb9f3a"
            ],
            [
             0.8888888888888888,
             "#fdca26"
            ],
            [
             1,
             "#f0f921"
            ]
           ]
          },
          "colorway": [
           "#636efa",
           "#EF553B",
           "#00cc96",
           "#ab63fa",
           "#FFA15A",
           "#19d3f3",
           "#FF6692",
           "#B6E880",
           "#FF97FF",
           "#FECB52"
          ],
          "font": {
           "color": "#2a3f5f"
          },
          "geo": {
           "bgcolor": "white",
           "lakecolor": "white",
           "landcolor": "#E5ECF6",
           "showlakes": true,
           "showland": true,
           "subunitcolor": "white"
          },
          "hoverlabel": {
           "align": "left"
          },
          "hovermode": "closest",
          "mapbox": {
           "style": "light"
          },
          "paper_bgcolor": "white",
          "plot_bgcolor": "#E5ECF6",
          "polar": {
           "angularaxis": {
            "gridcolor": "white",
            "linecolor": "white",
            "ticks": ""
           },
           "bgcolor": "#E5ECF6",
           "radialaxis": {
            "gridcolor": "white",
            "linecolor": "white",
            "ticks": ""
           }
          },
          "scene": {
           "xaxis": {
            "backgroundcolor": "#E5ECF6",
            "gridcolor": "white",
            "gridwidth": 2,
            "linecolor": "white",
            "showbackground": true,
            "ticks": "",
            "zerolinecolor": "white"
           },
           "yaxis": {
            "backgroundcolor": "#E5ECF6",
            "gridcolor": "white",
            "gridwidth": 2,
            "linecolor": "white",
            "showbackground": true,
            "ticks": "",
            "zerolinecolor": "white"
           },
           "zaxis": {
            "backgroundcolor": "#E5ECF6",
            "gridcolor": "white",
            "gridwidth": 2,
            "linecolor": "white",
            "showbackground": true,
            "ticks": "",
            "zerolinecolor": "white"
           }
          },
          "shapedefaults": {
           "line": {
            "color": "#2a3f5f"
           }
          },
          "ternary": {
           "aaxis": {
            "gridcolor": "white",
            "linecolor": "white",
            "ticks": ""
           },
           "baxis": {
            "gridcolor": "white",
            "linecolor": "white",
            "ticks": ""
           },
           "bgcolor": "#E5ECF6",
           "caxis": {
            "gridcolor": "white",
            "linecolor": "white",
            "ticks": ""
           }
          },
          "title": {
           "x": 0.05
          },
          "xaxis": {
           "automargin": true,
           "gridcolor": "white",
           "linecolor": "white",
           "ticks": "",
           "title": {
            "standoff": 15
           },
           "zerolinecolor": "white",
           "zerolinewidth": 2
          },
          "yaxis": {
           "automargin": true,
           "gridcolor": "white",
           "linecolor": "white",
           "ticks": "",
           "title": {
            "standoff": 15
           },
           "zerolinecolor": "white",
           "zerolinewidth": 2
          }
         }
        },
        "title": {
         "text": "Optimization History Plot"
        },
        "xaxis": {
         "title": {
          "text": "Trial"
         }
        },
        "yaxis": {
         "title": {
          "text": "Objective Value"
         }
        }
       }
      }
     },
     "metadata": {},
     "output_type": "display_data"
    }
   ],
   "source": [
    "import optuna.visualization as vis\n",
    "\n",
    "vis.plot_optimization_history(study)"
   ]
  },
  {
   "cell_type": "code",
   "execution_count": 5,
   "id": "85f47050-c8ac-4c1e-84e1-86834bf625c0",
   "metadata": {},
   "outputs": [
    {
     "name": "stdout",
     "output_type": "stream",
     "text": [
      "Valid RMSE: 0.04904217295530839\n",
      "Test RMSE: 0.06211417849877278\n"
     ]
    },
    {
     "data": {
      "image/png": "[encoded data removed]",
      "text/plain": [
       "<Figure size 800x500 with 1 Axes>"
      ]
     },
     "metadata": {},
     "output_type": "display_data"
    }
   ],
   "source": [
    "best_params = study.best_trial.params\n",
    "best_model = XGBRegressor(**best_params)\n",
    "\n",
    "best_model.fit(\n",
    "    X_train, y_train,\n",
    "    eval_set=[(X_train, y_train), (X_valid, y_valid)],\n",
    "    verbose=False,\n",
    ")\n",
    "\n",
    "# --- Test evaluation ---\n",
    "y_pred_test = best_model.predict(X_test)\n",
    "y_pred_valid = best_model.predict(X_valid)\n",
    "mse_test = mean_squared_error(y_test, y_pred_test)\n",
    "mse_valid = mean_squared_error(y_valid, y_pred_valid)\n",
    "rmse_test = np.sqrt(mse_test)\n",
    "rmse_valid = np.sqrt(mse_valid)\n",
    "print(\"Valid RMSE:\", rmse_valid)\n",
    "print(\"Test RMSE:\", rmse_test)\n",
    "#print(\"Test R²:\", r2_score(y_test, y_pred_test))\n",
    "\n",
    "# eval history AFTER training\n",
    "evals_result = best_model.evals_result()\n",
    "\n",
    "# ------------------------\n",
    "# Plot training vs validation RMSE\n",
    "# ------------------------\n",
    "epochs = len(evals_result['validation_0']['rmse'])\n",
    "x_axis = range(epochs)\n",
    "\n",
    "plt.figure(figsize=(8,5))\n",
    "plt.plot(x_axis, evals_result['validation_0']['rmse'], label=\"Train\")\n",
    "plt.plot(x_axis, evals_result['validation_1']['rmse'], label=\"Validation\")\n",
    "#plt.plot(x_axis, evals_result['validation_1']['rmse'], label=\"Validation\")\n",
    "plt.xlabel(\"Boosting Rounds\")\n",
    "plt.ylabel(\"RMSE\")\n",
    "plt.title(\"Training vs Validation RMSE (XGBoost, best trial)\")\n",
    "plt.legend()\n",
    "plt.grid(True)\n",
    "plt.show()"
   ]
  },
  {
   "cell_type": "code",
   "execution_count": 6,
   "id": "646dadcf-1a09-4c9b-abff-7e457b1fcb55",
   "metadata": {},
   "outputs": [
    {
     "data": {
      "application/vnd.plotly.v1+json": {
       "config": {
        "plotlyServerURL": "https://plot.ly"
       },
       "data": [
        {
         "cliponaxis": false,
         "hovertemplate": [
          "colsample_bytree (FloatDistribution): 0.0019398930800924828<extra></extra>",
          "min_child_weight (IntDistribution): 0.002393400310174803<extra></extra>",
          "learning_rate (FloatDistribution): 0.0029979192826956633<extra></extra>",
          "max_depth (IntDistribution): 0.004173445212127136<extra></extra>",
          "subsample (FloatDistribution): 0.03446269908676468<extra></extra>",
          "n_estimators (IntDistribution): 0.10707144596777714<extra></extra>",
          "gamma (FloatDistribution): 0.846961197060368<extra></extra>"
         ],
         "name": "Objective Value",
         "orientation": "h",
         "text": [
          "<0.01",
          "<0.01",
          "<0.01",
          "<0.01",
          "0.03",
          "0.11",
          "0.85"
         ],
         "textposition": "outside",
         "type": "bar",
         "x": [
          0.0019398930800924828,
          0.002393400310174803,
          0.0029979192826956633,
          0.004173445212127136,
          0.03446269908676468,
          0.10707144596777714,
          0.846961197060368
         ],
         "y": [
          "colsample_bytree",
          "min_child_weight",
          "learning_rate",
          "max_depth",
          "subsample",
          "n_estimators",
          "gamma"
         ]
        }
       ],
       "layout": {
        "template": {
         "data": {
          "bar": [
           {
            "error_x": {
             "color": "#2a3f5f"
            },
            "error_y": {
             "color": "#2a3f5f"
            },
            "marker": {
             "line": {
              "color": "#E5ECF6",
              "width": 0.5
             },
             "pattern": {
              "fillmode": "overlay",
              "size": 10,
              "solidity": 0.2
             }
            },
            "type": "bar"
           }
          ],
          "barpolar": [
           {
            "marker": {
             "line": {
              "color": "#E5ECF6",
              "width": 0.5
             },
             "pattern": {
              "fillmode": "overlay",
              "size": 10,
              "solidity": 0.2
             }
            },
            "type": "barpolar"
           }
          ],
          "carpet": [
           {
            "aaxis": {
             "endlinecolor": "#2a3f5f",
             "gridcolor": "white",
             "linecolor": "white",
             "minorgridcolor": "white",
             "startlinecolor": "#2a3f5f"
            },
            "baxis": {
             "endlinecolor": "#2a3f5f",
             "gridcolor": "white",
             "linecolor": "white",
             "minorgridcolor": "white",
             "startlinecolor": "#2a3f5f"
            },
            "type": "carpet"
           }
          ],
          "choropleth": [
           {
            "colorbar": {
             "outlinewidth": 0,
             "ticks": ""
            },
            "type": "choropleth"
           }
          ],
          "contour": [
           {
            "colorbar": {
             "outlinewidth": 0,
             "ticks": ""
            },
            "colorscale": [
             [
              0,
              "#0d0887"
             ],
             [
              0.1111111111111111,
              "#46039f"
             ],
             [
              0.2222222222222222,
              "#7201a8"
             ],
             [
              0.3333333333333333,
              "#9c179e"
             ],
             [
              0.4444444444444444,
              "#bd3786"
             ],
             [
              0.5555555555555556,
              "#d8576b"
             ],
             [
              0.6666666666666666,
              "#ed7953"
             ],
             [
              0.7777777777777778,
              "#fb9f3a"
             ],
             [
              0.8888888888888888,
              "#fdca26"
             ],
             [
              1,
              "#f0f921"
             ]
            ],
            "type": "contour"
           }
          ],
          "contourcarpet": [
           {
            "colorbar": {
             "outlinewidth": 0,
             "ticks": ""
            },
            "type": "contourcarpet"
           }
          ],
          "heatmap": [
           {
            "colorbar": {
             "outlinewidth": 0,
             "ticks": ""
            },
            "colorscale": [
             [
              0,
              "#0d0887"
             ],
             [
              0.1111111111111111,
              "#46039f"
             ],
             [
              0.2222222222222222,
              "#7201a8"
             ],
             [
              0.3333333333333333,
              "#9c179e"
             ],
             [
              0.4444444444444444,
              "#bd3786"
             ],
             [
              0.5555555555555556,
              "#d8576b"
             ],
             [
              0.6666666666666666,
              "#ed7953"
             ],
             [
              0.7777777777777778,
              "#fb9f3a"
             ],
             [
              0.8888888888888888,
              "#fdca26"
             ],
             [
              1,
              "#f0f921"
             ]
            ],
            "type": "heatmap"
           }
          ],
          "histogram": [
           {
            "marker": {
             "pattern": {
              "fillmode": "overlay",
              "size": 10,
              "solidity": 0.2
             }
            },
            "type": "histogram"
           }
          ],
          "histogram2d": [
           {
            "colorbar": {
             "outlinewidth": 0,
             "ticks": ""
            },
            "colorscale": [
             [
              0,
              "#0d0887"
             ],
             [
              0.1111111111111111,
              "#46039f"
             ],
             [
              0.2222222222222222,
              "#7201a8"
             ],
             [
              0.3333333333333333,
              "#9c179e"
             ],
             [
              0.4444444444444444,
              "#bd3786"
             ],
             [
              0.5555555555555556,
              "#d8576b"
             ],
             [
              0.6666666666666666,
              "#ed7953"
             ],
             [
              0.7777777777777778,
              "#fb9f3a"
             ],
             [
              0.8888888888888888,
              "#fdca26"
             ],
             [
              1,
              "#f0f921"
             ]
            ],
            "type": "histogram2d"
           }
          ],
          "histogram2dcontour": [
           {
            "colorbar": {
             "outlinewidth": 0,
             "ticks": ""
            },
            "colorscale": [
             [
              0,
              "#0d0887"
             ],
             [
              0.1111111111111111,
              "#46039f"
             ],
             [
              0.2222222222222222,
              "#7201a8"
             ],
             [
              0.3333333333333333,
              "#9c179e"
             ],
             [
              0.4444444444444444,
              "#bd3786"
             ],
             [
              0.5555555555555556,
              "#d8576b"
             ],
             [
              0.6666666666666666,
              "#ed7953"
             ],
             [
              0.7777777777777778,
              "#fb9f3a"
             ],
             [
              0.8888888888888888,
              "#fdca26"
             ],
             [
              1,
              "#f0f921"
             ]
            ],
            "type": "histogram2dcontour"
           }
          ],
          "mesh3d": [
           {
            "colorbar": {
             "outlinewidth": 0,
             "ticks": ""
            },
            "type": "mesh3d"
           }
          ],
          "parcoords": [
           {
            "line": {
             "colorbar": {
              "outlinewidth": 0,
              "ticks": ""
             }
            },
            "type": "parcoords"
           }
          ],
          "pie": [
           {
            "automargin": true,
            "type": "pie"
           }
          ],
          "scatter": [
           {
            "fillpattern": {
             "fillmode": "overlay",
             "size": 10,
             "solidity": 0.2
            },
            "type": "scatter"
           }
          ],
          "scatter3d": [
           {
            "line": {
             "colorbar": {
              "outlinewidth": 0,
              "ticks": ""
             }
            },
            "marker": {
             "colorbar": {
              "outlinewidth": 0,
              "ticks": ""
             }
            },
            "type": "scatter3d"
           }
          ],
          "scattercarpet": [
           {
            "marker": {
             "colorbar": {
              "outlinewidth": 0,
              "ticks": ""
             }
            },
            "type": "scattercarpet"
           }
          ],
          "scattergeo": [
           {
            "marker": {
             "colorbar": {
              "outlinewidth": 0,
              "ticks": ""
             }
            },
            "type": "scattergeo"
           }
          ],
          "scattergl": [
           {
            "marker": {
             "colorbar": {
              "outlinewidth": 0,
              "ticks": ""
             }
            },
            "type": "scattergl"
           }
          ],
          "scattermap": [
           {
            "marker": {
             "colorbar": {
              "outlinewidth": 0,
              "ticks": ""
             }
            },
            "type": "scattermap"
           }
          ],
          "scattermapbox": [
           {
            "marker": {
             "colorbar": {
              "outlinewidth": 0,
              "ticks": ""
             }
            },
            "type": "scattermapbox"
           }
          ],
          "scatterpolar": [
           {
            "marker": {
             "colorbar": {
              "outlinewidth": 0,
              "ticks": ""
             }
            },
            "type": "scatterpolar"
           }
          ],
          "scatterpolargl": [
           {
            "marker": {
             "colorbar": {
              "outlinewidth": 0,
              "ticks": ""
             }
            },
            "type": "scatterpolargl"
           }
          ],
          "scatterternary": [
           {
            "marker": {
             "colorbar": {
              "outlinewidth": 0,
              "ticks": ""
             }
            },
            "type": "scatterternary"
           }
          ],
          "surface": [
           {
            "colorbar": {
             "outlinewidth": 0,
             "ticks": ""
            },
            "colorscale": [
             [
              0,
              "#0d0887"
             ],
             [
              0.1111111111111111,
              "#46039f"
             ],
             [
              0.2222222222222222,
              "#7201a8"
             ],
             [
              0.3333333333333333,
              "#9c179e"
             ],
             [
              0.4444444444444444,
              "#bd3786"
             ],
             [
              0.5555555555555556,
              "#d8576b"
             ],
             [
              0.6666666666666666,
              "#ed7953"
             ],
             [
              0.7777777777777778,
              "#fb9f3a"
             ],
             [
              0.8888888888888888,
              "#fdca26"
             ],
             [
              1,
              "#f0f921"
             ]
            ],
            "type": "surface"
           }
          ],
          "table": [
           {
            "cells": {
             "fill": {
              "color": "#EBF0F8"
             },
             "line": {
              "color": "white"
             }
            },
            "header": {
             "fill": {
              "color": "#C8D4E3"
             },
             "line": {
              "color": "white"
             }
            },
            "type": "table"
           }
          ]
         },
         "layout": {
          "annotationdefaults": {
           "arrowcolor": "#2a3f5f",
           "arrowhead": 0,
           "arrowwidth": 1
          },
          "autotypenumbers": "strict",
          "coloraxis": {
           "colorbar": {
            "outlinewidth": 0,
            "ticks": ""
           }
          },
          "colorscale": {
           "diverging": [
            [
             0,
             "#8e0152"
            ],
            [
             0.1,
             "#c51b7d"
            ],
            [
             0.2,
             "#de77ae"
            ],
            [
             0.3,
             "#f1b6da"
            ],
            [
             0.4,
             "#fde0ef"
            ],
            [
             0.5,
             "#f7f7f7"
            ],
            [
             0.6,
             "#e6f5d0"
            ],
            [
             0.7,
             "#b8e186"
            ],
            [
             0.8,
             "#7fbc41"
            ],
            [
             0.9,
             "#4d9221"
            ],
            [
             1,
             "#276419"
            ]
           ],
           "sequential": [
            [
             0,
             "#0d0887"
            ],
            [
             0.1111111111111111,
             "#46039f"
            ],
            [
             0.2222222222222222,
             "#7201a8"
            ],
            [
             0.3333333333333333,
             "#9c179e"
            ],
            [
             0.4444444444444444,
             "#bd3786"
            ],
            [
             0.5555555555555556,
             "#d8576b"
            ],
            [
             0.6666666666666666,
             "#ed7953"
            ],
            [
             0.7777777777777778,
             "#fb9f3a"
            ],
            [
             0.8888888888888888,
             "#fdca26"
            ],
            [
             1,
             "#f0f921"
            ]
           ],
           "sequentialminus": [
            [
             0,
             "#0d0887"
            ],
            [
             0.1111111111111111,
             "#46039f"
            ],
            [
             0.2222222222222222,
             "#7201a8"
            ],
            [
             0.3333333333333333,
             "#9c179e"
            ],
            [
             0.4444444444444444,
             "#bd3786"
            ],
            [
             0.5555555555555556,
             "#d8576b"
            ],
            [
             0.6666666666666666,
             "#ed7953"
            ],
            [
             0.7777777777777778,
             "#fb9f3a"
            ],
            [
             0.8888888888888888,
             "#fdca26"
            ],
            [
             1,
             "#f0f921"
            ]
           ]
          },
          "colorway": [
           "#636efa",
           "#EF553B",
           "#00cc96",
           "#ab63fa",
           "#FFA15A",
           "#19d3f3",
           "#FF6692",
           "#B6E880",
           "#FF97FF",
           "#FECB52"
          ],
          "font": {
           "color": "#2a3f5f"
          },
          "geo": {
           "bgcolor": "white",
           "lakecolor": "white",
           "landcolor": "#E5ECF6",
           "showlakes": true,
           "showland": true,
           "subunitcolor": "white"
          },
          "hoverlabel": {
           "align": "left"
          },
          "hovermode": "closest",
          "mapbox": {
           "style": "light"
          },
          "paper_bgcolor": "white",
          "plot_bgcolor": "#E5ECF6",
          "polar": {
           "angularaxis": {
            "gridcolor": "white",
            "linecolor": "white",
            "ticks": ""
           },
           "bgcolor": "#E5ECF6",
           "radialaxis": {
            "gridcolor": "white",
            "linecolor": "white",
            "ticks": ""
           }
          },
          "scene": {
           "xaxis": {
            "backgroundcolor": "#E5ECF6",
            "gridcolor": "white",
            "gridwidth": 2,
            "linecolor": "white",
            "showbackground": true,
            "ticks": "",
            "zerolinecolor": "white"
           },
           "yaxis": {
            "backgroundcolor": "#E5ECF6",
            "gridcolor": "white",
            "gridwidth": 2,
            "linecolor": "white",
            "showbackground": true,
            "ticks": "",
            "zerolinecolor": "white"
           },
           "zaxis": {
            "backgroundcolor": "#E5ECF6",
            "gridcolor": "white",
            "gridwidth": 2,
            "linecolor": "white",
            "showbackground": true,
            "ticks": "",
            "zerolinecolor": "white"
           }
          },
          "shapedefaults": {
           "line": {
            "color": "#2a3f5f"
           }
          },
          "ternary": {
           "aaxis": {
            "gridcolor": "white",
            "linecolor": "white",
            "ticks": ""
           },
           "baxis": {
            "gridcolor": "white",
            "linecolor": "white",
            "ticks": ""
           },
           "bgcolor": "#E5ECF6",
           "caxis": {
            "gridcolor": "white",
            "linecolor": "white",
            "ticks": ""
           }
          },
          "title": {
           "x": 0.05
          },
          "xaxis": {
           "automargin": true,
           "gridcolor": "white",
           "linecolor": "white",
           "ticks": "",
           "title": {
            "standoff": 15
           },
           "zerolinecolor": "white",
           "zerolinewidth": 2
          },
          "yaxis": {
           "automargin": true,
           "gridcolor": "white",
           "linecolor": "white",
           "ticks": "",
           "title": {
            "standoff": 15
           },
           "zerolinecolor": "white",
           "zerolinewidth": 2
          }
         }
        },
        "title": {
         "text": "Hyperparameter Importances"
        },
        "xaxis": {
         "title": {
          "text": "Hyperparameter Importance"
         }
        },
        "yaxis": {
         "title": {
          "text": "Hyperparameter"
         }
        }
       }
      }
     },
     "metadata": {},
     "output_type": "display_data"
    }
   ],
   "source": [
    "# Hyperparameter importance ranking\n",
    "vis.plot_param_importances(study)"
   ]
  },
  {
   "cell_type": "code",
   "execution_count": 7,
   "id": "0f4969cb-160f-46bc-92d7-4ff12e4333db",
   "metadata": {},
   "outputs": [
    {
     "data": {
      "application/vnd.plotly.v1+json": {
       "config": {
        "plotlyServerURL": "https://plot.ly"
       },
       "data": [
        {
         "marker": {
          "color": [
           0,
           1,
           2,
           3,
           4,
           5,
           6,
           7,
           8,
           9,
           10,
           11,
           12,
           13,
           14,
           15,
           16,
           17,
           18,
           19,
           20,
           21,
           22,
           23,
           24,
           25,
           26,
           27,
           28,
           29,
           30,
           31,
           32,
           33,
           34,
           35,
           36,
           37,
           38,
           39,
           40,
           41,
           42,
           43,
           44,
           45,
           46,
           47,
           48,
           49,
           50,
           51,
           52,
           53,
           54,
           55,
           56,
           57,
           58,
           59,
           60,
           61,
           62,
           63,
           64,
           65,
           66,
           67,
           68,
           69,
           70,
           71,
           72,
           73,
           74,
           75,
           76,
           77,
           78,
           79,
           80,
           81,
           82,
           83,
           84,
           85,
           86,
           87,
           88,
           89,
           90,
           91,
           92,
           93,
           94,
           95,
           96,
           97,
           98,
           99
          ],
          "colorbar": {
           "title": {
            "text": "Trial"
           },
           "x": 1,
           "xpad": 40
          },
          "colorscale": [
           [
            0,
            "rgb(247,251,255)"
           ],
           [
            0.125,
            "rgb(222,235,247)"
           ],
           [
            0.25,
            "rgb(198,219,239)"
           ],
           [
            0.375,
            "rgb(158,202,225)"
           ],
           [
            0.5,
            "rgb(107,174,214)"
           ],
           [
            0.625,
            "rgb(66,146,198)"
           ],
           [
            0.75,
            "rgb(33,113,181)"
           ],
           [
            0.875,
            "rgb(8,81,156)"
           ],
           [
            1,
            "rgb(8,48,107)"
           ]
          ],
          "line": {
           "color": "Grey",
           "width": 0.5
          },
          "showscale": true
         },
         "mode": "markers",
         "name": "Feasible Trial",
         "showlegend": false,
         "type": "scatter",
         "x": [
          0.9658084381474191,
          0.7789184199030631,
          0.9760423734048508,
          0.7641842572776257,
          0.7281944889221362,
          0.9231518141486792,
          0.6499661643063164,
          0.9953866322409095,
          0.9780528290125422,
          0.6131021539139203,
          0.6042665163936437,
          0.6054861952843629,
          0.6831833437801507,
          0.6858800214348904,
          0.8753775960021446,
          0.6875236818085497,
          0.8377968584277172,
          0.6612962863205863,
          0.7226099716115603,
          0.6273513256555152,
          0.7333141036935025,
          0.6058715902628313,
          0.6628506821530623,
          0.6056851967165634,
          0.6391848032464111,
          0.6938022235745006,
          0.6355106211397563,
          0.8230008304672235,
          0.6000358920306694,
          0.7065763015363319,
          0.6653683651356322,
          0.600467770494005,
          0.6362399662580156,
          0.6243058458378083,
          0.7847240351859185,
          0.6756380934796546,
          0.7491838380155926,
          0.6260858632550318,
          0.6474834977348553,
          0.7070771063519594,
          0.620647075527005,
          0.6538126742685524,
          0.6181896797556129,
          0.6004755176842553,
          0.6423845140943748,
          0.6178861606483932,
          0.6758890288073538,
          0.9446248276010356,
          0.8847861128151739,
          0.6520308357515562,
          0.6095808456184398,
          0.6013731919378025,
          0.6260569255510597,
          0.6155736578392573,
          0.6706360156464994,
          0.6727123499170199,
          0.6952771776699405,
          0.6367334800768091,
          0.7227820948295686,
          0.7513956301110775,
          0.7549632556212271,
          0.7772643776838133,
          0.8054254833653167,
          0.7795429855294089,
          0.7938107860497242,
          0.7617334365974728,
          0.7415918660565131,
          0.766620914298488,
          0.8346587039585398,
          0.7117718855753794,
          0.8190957226438788,
          0.8624530764090482,
          0.8125125425171907,
          0.7689789097225562,
          0.7352765181966348,
          0.7885329557250204,
          0.8473959673292055,
          0.815657686884583,
          0.7543740003071677,
          0.7976323593885217,
          0.7801011671443155,
          0.8093652748630974,
          0.8246676659969339,
          0.8383751143218432,
          0.867541929687454,
          0.8792327857829697,
          0.8919220077954654,
          0.8298498334724436,
          0.9075778548474603,
          0.8676003201322732,
          0.8503658085162626,
          0.6879169196029941,
          0.770775969228099,
          0.8222417441882113,
          0.8207148851461966,
          0.8514887666720883,
          0.8029174870332317,
          0.7602947682424305,
          0.8294286276515046,
          0.7437096218288493
         ],
         "xaxis": "x",
         "y": [
          0.11344351328262432,
          0.10781577457762463,
          0.12406857112351624,
          0.09699525291339893,
          0.07390423376284878,
          0.10661587917100683,
          0.08608711559380292,
          0.11382558366848733,
          0.09371837440166148,
          0.07353689981954371,
          0.05355754319151732,
          0.05380683920296528,
          0.04886986379056708,
          0.08364377151769176,
          0.16437784043820455,
          0.09749526105575809,
          0.07800201331900264,
          0.14035851342188302,
          0.09764444756713167,
          0.11670301742436391,
          0.054894867350320925,
          0.051859126707323386,
          0.07218361079795212,
          0.05135655737347126,
          0.07840323672029129,
          0.07274148502180683,
          0.08423774226418881,
          0.09299331508793464,
          0.08064490742040195,
          0.055083068243682906,
          0.10552644476118438,
          0.06789136144877336,
          0.06868244192371135,
          0.04817282839406062,
          0.1053234043687602,
          0.06895125150091092,
          0.09703600851083727,
          0.09101707923938909,
          0.12926140900972163,
          0.08486067676827581,
          0.06764552828736915,
          0.05617343879520489,
          0.07242772569963127,
          0.04917081739259842,
          0.07158639707171122,
          0.06451939297244566,
          0.08785852799846,
          0.05866647419282129,
          0.06375772489582143,
          0.07749941818918753,
          0.10834071194603634,
          0.05953517839218478,
          0.07490543436192001,
          0.05905798548835505,
          0.048994365465037194,
          0.06735996881903265,
          0.0785602930033239,
          0.08514978806449831,
          0.13072938298464606,
          0.049103807399540345,
          0.07146848999775945,
          0.05114733347728935,
          0.0601601788241065,
          0.04676623690393154,
          0.0691490306971031,
          0.047688923055519236,
          0.0651628869207575,
          0.07609182822407168,
          0.05725794873759462,
          0.07310225789272524,
          0.047721213283738524,
          0.05665383513733234,
          0.049247469262301065,
          0.0664835508006342,
          0.05967031940943233,
          0.1329669264972057,
          0.06763320164096485,
          0.08343475442201637,
          0.06502855877644298,
          0.08113993332918999,
          0.05887752005626351,
          0.05199674347405724,
          0.0482680047023738,
          0.06328148944832981,
          0.04801385469801029,
          0.06241809425315126,
          0.06984055268033303,
          0.05526425644275035,
          0.0765474912957733,
          0.06494944027990077,
          0.11898669868023687,
          0.05022957658394418,
          0.059359270446677236,
          0.048322361376103865,
          0.10033872929174427,
          0.06973648227791601,
          0.06278911789377505,
          0.05574638361264411,
          0.06615052350504602,
          0.046379392446891494
         ],
         "yaxis": "y"
        },
        {
         "marker": {
          "color": [
           0,
           1,
           2,
           3,
           4,
           5,
           6,
           7,
           8,
           9,
           10,
           11,
           12,
           13,
           14,
           15,
           16,
           17,
           18,
           19,
           20,
           21,
           22,
           23,
           24,
           25,
           26,
           27,
           28,
           29,
           30,
           31,
           32,
           33,
           34,
           35,
           36,
           37,
           38,
           39,
           40,
           41,
           42,
           43,
           44,
           45,
           46,
           47,
           48,
           49,
           50,
           51,
           52,
           53,
           54,
           55,
           56,
           57,
           58,
           59,
           60,
           61,
           62,
           63,
           64,
           65,
           66,
           67,
           68,
           69,
           70,
           71,
           72,
           73,
           74,
           75,
           76,
           77,
           78,
           79,
           80,
           81,
           82,
           83,
           84,
           85,
           86,
           87,
           88,
           89,
           90,
           91,
           92,
           93,
           94,
           95,
           96,
           97,
           98,
           99
          ],
          "colorbar": {
           "title": {
            "text": "Trial"
           },
           "x": 1,
           "xpad": 40
          },
          "colorscale": [
           [
            0,
            "rgb(247,251,255)"
           ],
           [
            0.125,
            "rgb(222,235,247)"
           ],
           [
            0.25,
            "rgb(198,219,239)"
           ],
           [
            0.375,
            "rgb(158,202,225)"
           ],
           [
            0.5,
            "rgb(107,174,214)"
           ],
           [
            0.625,
            "rgb(66,146,198)"
           ],
           [
            0.75,
            "rgb(33,113,181)"
           ],
           [
            0.875,
            "rgb(8,81,156)"
           ],
           [
            1,
            "rgb(8,48,107)"
           ]
          ],
          "line": {
           "color": "Grey",
           "width": 0.5
          },
          "showscale": false
         },
         "mode": "markers",
         "name": "Feasible Trial",
         "showlegend": false,
         "type": "scatter",
         "x": [
          14.13751299701725,
          9.398025544068727,
          16.60979560365713,
          7.805768991229025,
          2.014936095437019,
          9.895168848247735,
          4.921760290727217,
          14.528953413526185,
          4.985416803530911,
          2.446980685685023,
          0.34251154983027865,
          0.28949748692385224,
          0.06958688427438808,
          4.68390752007926,
          0.9313987086487656,
          7.383891716467808,
          3.605114755605485,
          19.098777506216596,
          6.228199637864554,
          13.003369387316514,
          0.17267282420870367,
          0.16692106093690723,
          2.4131481292125736,
          0.028131618425878885,
          3.121810600799492,
          1.6429702883860797,
          3.2928093765514252,
          6.617816033090034,
          4.232491513024429,
          0.020373591140122993,
          11.609020375776028,
          1.4521303201337399,
          1.2264221927215428,
          0.005949191715837798,
          2.5889185006313538,
          1.6103540996168653,
          8.564977522038362,
          5.762719139590287,
          17.347326726662516,
          3.8224772302976833,
          0.9477286705947284,
          0.3802079692915584,
          2.132643266647916,
          0.026100167058506086,
          2.4763517238046195,
          1.066602300722927,
          5.304825469286461,
          0.05239926023995076,
          0.9693771121389075,
          3.1645982438665214,
          10.404098996848614,
          0.8205333694956876,
          2.1046212859119118,
          0.5454475910028294,
          0.0654727228201471,
          1.6939606325452052,
          2.770509086040584,
          4.112115798767185,
          14.122817793328725,
          0.0365432724801668,
          1.8396964632198394,
          0.10391845925542437,
          0.7544955552099056,
          0.005886299017678568,
          1.5036176157784216,
          0.04565742720657146,
          1.1937655940347185,
          3.03184169350511,
          0.637439375928381,
          2.0490257266963585,
          0.006822232487439343,
          0.5863134626770432,
          0.0013028578908225825,
          1.28764924763468,
          0.7309255487188823,
          19.945186885596282,
          1.7165221993431674,
          2.4019726358693,
          1.418463039030222,
          3.4942452436577334,
          0.5401790173923664,
          0.25088542420654125,
          0.017938805250955033,
          1.1766651998232411,
          0.031564993785093046,
          0.8950234114442295,
          2.098849077903614,
          0.4641653779089638,
          2.7033258521272763,
          1.2198417648903064,
          16.282014805447055,
          0.07784069750269643,
          0.5464593132826175,
          0.008366411141232554,
          7.678088349211103,
          1.797005860332706,
          0.9850750005101011,
          0.44861684880774244,
          1.4952092018732768,
          0.005478070150285411
         ],
         "xaxis": "x2",
         "y": [
          0.11344351328262432,
          0.10781577457762463,
          0.12406857112351624,
          0.09699525291339893,
          0.07390423376284878,
          0.10661587917100683,
          0.08608711559380292,
          0.11382558366848733,
          0.09371837440166148,
          0.07353689981954371,
          0.05355754319151732,
          0.05380683920296528,
          0.04886986379056708,
          0.08364377151769176,
          0.16437784043820455,
          0.09749526105575809,
          0.07800201331900264,
          0.14035851342188302,
          0.09764444756713167,
          0.11670301742436391,
          0.054894867350320925,
          0.051859126707323386,
          0.07218361079795212,
          0.05135655737347126,
          0.07840323672029129,
          0.07274148502180683,
          0.08423774226418881,
          0.09299331508793464,
          0.08064490742040195,
          0.055083068243682906,
          0.10552644476118438,
          0.06789136144877336,
          0.06868244192371135,
          0.04817282839406062,
          0.1053234043687602,
          0.06895125150091092,
          0.09703600851083727,
          0.09101707923938909,
          0.12926140900972163,
          0.08486067676827581,
          0.06764552828736915,
          0.05617343879520489,
          0.07242772569963127,
          0.04917081739259842,
          0.07158639707171122,
          0.06451939297244566,
          0.08785852799846,
          0.05866647419282129,
          0.06375772489582143,
          0.07749941818918753,
          0.10834071194603634,
          0.05953517839218478,
          0.07490543436192001,
          0.05905798548835505,
          0.048994365465037194,
          0.06735996881903265,
          0.0785602930033239,
          0.08514978806449831,
          0.13072938298464606,
          0.049103807399540345,
          0.07146848999775945,
          0.05114733347728935,
          0.0601601788241065,
          0.04676623690393154,
          0.0691490306971031,
          0.047688923055519236,
          0.0651628869207575,
          0.07609182822407168,
          0.05725794873759462,
          0.07310225789272524,
          0.047721213283738524,
          0.05665383513733234,
          0.049247469262301065,
          0.0664835508006342,
          0.05967031940943233,
          0.1329669264972057,
          0.06763320164096485,
          0.08343475442201637,
          0.06502855877644298,
          0.08113993332918999,
          0.05887752005626351,
          0.05199674347405724,
          0.0482680047023738,
          0.06328148944832981,
          0.04801385469801029,
          0.06241809425315126,
          0.06984055268033303,
          0.05526425644275035,
          0.0765474912957733,
          0.06494944027990077,
          0.11898669868023687,
          0.05022957658394418,
          0.059359270446677236,
          0.048322361376103865,
          0.10033872929174427,
          0.06973648227791601,
          0.06278911789377505,
          0.05574638361264411,
          0.06615052350504602,
          0.046379392446891494
         ],
         "yaxis": "y2"
        },
        {
         "marker": {
          "color": [
           0,
           1,
           2,
           3,
           4,
           5,
           6,
           7,
           8,
           9,
           10,
           11,
           12,
           13,
           14,
           15,
           16,
           17,
           18,
           19,
           20,
           21,
           22,
           23,
           24,
           25,
           26,
           27,
           28,
           29,
           30,
           31,
           32,
           33,
           34,
           35,
           36,
           37,
           38,
           39,
           40,
           41,
           42,
           43,
           44,
           45,
           46,
           47,
           48,
           49,
           50,
           51,
           52,
           53,
           54,
           55,
           56,
           57,
           58,
           59,
           60,
           61,
           62,
           63,
           64,
           65,
           66,
           67,
           68,
           69,
           70,
           71,
           72,
           73,
           74,
           75,
           76,
           77,
           78,
           79,
           80,
           81,
           82,
           83,
           84,
           85,
           86,
           87,
           88,
           89,
           90,
           91,
           92,
           93,
           94,
           95,
           96,
           97,
           98,
           99
          ],
          "colorbar": {
           "title": {
            "text": "Trial"
           },
           "x": 1,
           "xpad": 40
          },
          "colorscale": [
           [
            0,
            "rgb(247,251,255)"
           ],
           [
            0.125,
            "rgb(222,235,247)"
           ],
           [
            0.25,
            "rgb(198,219,239)"
           ],
           [
            0.375,
            "rgb(158,202,225)"
           ],
           [
            0.5,
            "rgb(107,174,214)"
           ],
           [
            0.625,
            "rgb(66,146,198)"
           ],
           [
            0.75,
            "rgb(33,113,181)"
           ],
           [
            0.875,
            "rgb(8,81,156)"
           ],
           [
            1,
            "rgb(8,48,107)"
           ]
          ],
          "line": {
           "color": "Grey",
           "width": 0.5
          },
          "showscale": false
         },
         "mode": "markers",
         "name": "Feasible Trial",
         "showlegend": false,
         "type": "scatter",
         "x": [
          0.17808609830502437,
          0.24009619663710702,
          0.18333020104281197,
          0.2000937736045847,
          0.08800486889833846,
          0.031726645974522266,
          0.01266162952941736,
          0.06706409734274103,
          0.07224296650055746,
          0.08455686101482199,
          0.029539742135032798,
          0.0346337480999378,
          0.02758751639127258,
          0.019127272891516986,
          0.034299767601932,
          0.0224578491242013,
          0.010799073930118695,
          0.04795105090974957,
          0.01698207408657625,
          0.024667823325817167,
          0.12785069422446552,
          0.046810942942437185,
          0.05260706414819303,
          0.04315932608145484,
          0.04381039546574836,
          0.04099529466109469,
          0.12099255076595868,
          0.059952084286593446,
          0.024768240461275046,
          0.015271217107864525,
          0.1088792511722718,
          0.029962701660677403,
          0.03809952018242752,
          0.029655892167594077,
          0.29807221431368913,
          0.051888951320224,
          0.020174858460527106,
          0.02599927734647525,
          0.04081872049146591,
          0.06230877248478661,
          0.07590846292858043,
          0.028795456275178884,
          0.03031673594207875,
          0.04600909011308056,
          0.04554160621953199,
          0.03816099583137545,
          0.05664307157909336,
          0.09197457032169329,
          0.03546216071554047,
          0.07090083093177188,
          0.014271917149997333,
          0.02114609575495283,
          0.03359393002682233,
          0.026339150074390107,
          0.04881589001971895,
          0.049048076106985285,
          0.06369143116758127,
          0.01795865309698371,
          0.04789206155395057,
          0.0428065786042177,
          0.022384921754476785,
          0.04367063951884983,
          0.04117583633498105,
          0.03178383619283286,
          0.03299342570753527,
          0.03605199493698448,
          0.02799313452264019,
          0.03789982433676621,
          0.0234860047493565,
          0.05648764716688567,
          0.03199406771995275,
          0.032293249962333466,
          0.036847312680887354,
          0.03246354849635518,
          0.027011790180269307,
          0.05007652397690753,
          0.029983760251421746,
          0.16802164469326641,
          0.039224330386920685,
          0.02442631436947091,
          0.03573244486833338,
          0.03661135995267824,
          0.04345122529816576,
          0.04337632376480041,
          0.057387148253139675,
          0.05417479065256045,
          0.029946898605276506,
          0.07941869557567323,
          0.06099089253046689,
          0.06884686810439983,
          0.052082042710236746,
          0.04692581253826476,
          0.04254237584080731,
          0.03435142491730014,
          0.03433438127896713,
          0.027658714797992947,
          0.04047410955192105,
          0.031459822660907376,
          0.020550274400928884,
          0.034689470557369394
         ],
         "xaxis": "x3",
         "y": [
          0.11344351328262432,
          0.10781577457762463,
          0.12406857112351624,
          0.09699525291339893,
          0.07390423376284878,
          0.10661587917100683,
          0.08608711559380292,
          0.11382558366848733,
          0.09371837440166148,
          0.07353689981954371,
          0.05355754319151732,
          0.05380683920296528,
          0.04886986379056708,
          0.08364377151769176,
          0.16437784043820455,
          0.09749526105575809,
          0.07800201331900264,
          0.14035851342188302,
          0.09764444756713167,
          0.11670301742436391,
          0.054894867350320925,
          0.051859126707323386,
          0.07218361079795212,
          0.05135655737347126,
          0.07840323672029129,
          0.07274148502180683,
          0.08423774226418881,
          0.09299331508793464,
          0.08064490742040195,
          0.055083068243682906,
          0.10552644476118438,
          0.06789136144877336,
          0.06868244192371135,
          0.04817282839406062,
          0.1053234043687602,
          0.06895125150091092,
          0.09703600851083727,
          0.09101707923938909,
          0.12926140900972163,
          0.08486067676827581,
          0.06764552828736915,
          0.05617343879520489,
          0.07242772569963127,
          0.04917081739259842,
          0.07158639707171122,
          0.06451939297244566,
          0.08785852799846,
          0.05866647419282129,
          0.06375772489582143,
          0.07749941818918753,
          0.10834071194603634,
          0.05953517839218478,
          0.07490543436192001,
          0.05905798548835505,
          0.048994365465037194,
          0.06735996881903265,
          0.0785602930033239,
          0.08514978806449831,
          0.13072938298464606,
          0.049103807399540345,
          0.07146848999775945,
          0.05114733347728935,
          0.0601601788241065,
          0.04676623690393154,
          0.0691490306971031,
          0.047688923055519236,
          0.0651628869207575,
          0.07609182822407168,
          0.05725794873759462,
          0.07310225789272524,
          0.047721213283738524,
          0.05665383513733234,
          0.049247469262301065,
          0.0664835508006342,
          0.05967031940943233,
          0.1329669264972057,
          0.06763320164096485,
          0.08343475442201637,
          0.06502855877644298,
          0.08113993332918999,
          0.05887752005626351,
          0.05199674347405724,
          0.0482680047023738,
          0.06328148944832981,
          0.04801385469801029,
          0.06241809425315126,
          0.06984055268033303,
          0.05526425644275035,
          0.0765474912957733,
          0.06494944027990077,
          0.11898669868023687,
          0.05022957658394418,
          0.059359270446677236,
          0.048322361376103865,
          0.10033872929174427,
          0.06973648227791601,
          0.06278911789377505,
          0.05574638361264411,
          0.06615052350504602,
          0.046379392446891494
         ],
         "yaxis": "y3"
        },
        {
         "marker": {
          "color": [
           0,
           1,
           2,
           3,
           4,
           5,
           6,
           7,
           8,
           9,
           10,
           11,
           12,
           13,
           14,
           15,
           16,
           17,
           18,
           19,
           20,
           21,
           22,
           23,
           24,
           25,
           26,
           27,
           28,
           29,
           30,
           31,
           32,
           33,
           34,
           35,
           36,
           37,
           38,
           39,
           40,
           41,
           42,
           43,
           44,
           45,
           46,
           47,
           48,
           49,
           50,
           51,
           52,
           53,
           54,
           55,
           56,
           57,
           58,
           59,
           60,
           61,
           62,
           63,
           64,
           65,
           66,
           67,
           68,
           69,
           70,
           71,
           72,
           73,
           74,
           75,
           76,
           77,
           78,
           79,
           80,
           81,
           82,
           83,
           84,
           85,
           86,
           87,
           88,
           89,
           90,
           91,
           92,
           93,
           94,
           95,
           96,
           97,
           98,
           99
          ],
          "colorbar": {
           "title": {
            "text": "Trial"
           },
           "x": 1,
           "xpad": 40
          },
          "colorscale": [
           [
            0,
            "rgb(247,251,255)"
           ],
           [
            0.125,
            "rgb(222,235,247)"
           ],
           [
            0.25,
            "rgb(198,219,239)"
           ],
           [
            0.375,
            "rgb(158,202,225)"
           ],
           [
            0.5,
            "rgb(107,174,214)"
           ],
           [
            0.625,
            "rgb(66,146,198)"
           ],
           [
            0.75,
            "rgb(33,113,181)"
           ],
           [
            0.875,
            "rgb(8,81,156)"
           ],
           [
            1,
            "rgb(8,48,107)"
           ]
          ],
          "line": {
           "color": "Grey",
           "width": 0.5
          },
          "showscale": false
         },
         "mode": "markers",
         "name": "Feasible Trial",
         "showlegend": false,
         "type": "scatter",
         "x": [
          10,
          8,
          3,
          6,
          7,
          9,
          3,
          10,
          7,
          10,
          5,
          5,
          5,
          5,
          5,
          4,
          6,
          4,
          4,
          6,
          8,
          5,
          5,
          4,
          4,
          3,
          4,
          6,
          5,
          3,
          7,
          5,
          4,
          6,
          6,
          6,
          8,
          7,
          3,
          6,
          4,
          5,
          5,
          5,
          6,
          7,
          5,
          4,
          5,
          6,
          4,
          5,
          5,
          4,
          5,
          5,
          6,
          4,
          9,
          5,
          7,
          5,
          5,
          6,
          6,
          6,
          6,
          7,
          6,
          7,
          6,
          6,
          6,
          5,
          6,
          5,
          7,
          6,
          6,
          5,
          6,
          6,
          6,
          5,
          7,
          8,
          7,
          7,
          7,
          6,
          6,
          5,
          6,
          5,
          5,
          7,
          6,
          6,
          9,
          5
         ],
         "xaxis": "x4",
         "y": [
          0.11344351328262432,
          0.10781577457762463,
          0.12406857112351624,
          0.09699525291339893,
          0.07390423376284878,
          0.10661587917100683,
          0.08608711559380292,
          0.11382558366848733,
          0.09371837440166148,
          0.07353689981954371,
          0.05355754319151732,
          0.05380683920296528,
          0.04886986379056708,
          0.08364377151769176,
          0.16437784043820455,
          0.09749526105575809,
          0.07800201331900264,
          0.14035851342188302,
          0.09764444756713167,
          0.11670301742436391,
          0.054894867350320925,
          0.051859126707323386,
          0.07218361079795212,
          0.05135655737347126,
          0.07840323672029129,
          0.07274148502180683,
          0.08423774226418881,
          0.09299331508793464,
          0.08064490742040195,
          0.055083068243682906,
          0.10552644476118438,
          0.06789136144877336,
          0.06868244192371135,
          0.04817282839406062,
          0.1053234043687602,
          0.06895125150091092,
          0.09703600851083727,
          0.09101707923938909,
          0.12926140900972163,
          0.08486067676827581,
          0.06764552828736915,
          0.05617343879520489,
          0.07242772569963127,
          0.04917081739259842,
          0.07158639707171122,
          0.06451939297244566,
          0.08785852799846,
          0.05866647419282129,
          0.06375772489582143,
          0.07749941818918753,
          0.10834071194603634,
          0.05953517839218478,
          0.07490543436192001,
          0.05905798548835505,
          0.048994365465037194,
          0.06735996881903265,
          0.0785602930033239,
          0.08514978806449831,
          0.13072938298464606,
          0.049103807399540345,
          0.07146848999775945,
          0.05114733347728935,
          0.0601601788241065,
          0.04676623690393154,
          0.0691490306971031,
          0.047688923055519236,
          0.0651628869207575,
          0.07609182822407168,
          0.05725794873759462,
          0.07310225789272524,
          0.047721213283738524,
          0.05665383513733234,
          0.049247469262301065,
          0.0664835508006342,
          0.05967031940943233,
          0.1329669264972057,
          0.06763320164096485,
          0.08343475442201637,
          0.06502855877644298,
          0.08113993332918999,
          0.05887752005626351,
          0.05199674347405724,
          0.0482680047023738,
          0.06328148944832981,
          0.04801385469801029,
          0.06241809425315126,
          0.06984055268033303,
          0.05526425644275035,
          0.0765474912957733,
          0.06494944027990077,
          0.11898669868023687,
          0.05022957658394418,
          0.059359270446677236,
          0.048322361376103865,
          0.10033872929174427,
          0.06973648227791601,
          0.06278911789377505,
          0.05574638361264411,
          0.06615052350504602,
          0.046379392446891494
         ],
         "yaxis": "y4"
        },
        {
         "marker": {
          "color": [
           0,
           1,
           2,
           3,
           4,
           5,
           6,
           7,
           8,
           9,
           10,
           11,
           12,
           13,
           14,
           15,
           16,
           17,
           18,
           19,
           20,
           21,
           22,
           23,
           24,
           25,
           26,
           27,
           28,
           29,
           30,
           31,
           32,
           33,
           34,
           35,
           36,
           37,
           38,
           39,
           40,
           41,
           42,
           43,
           44,
           45,
           46,
           47,
           48,
           49,
           50,
           51,
           52,
           53,
           54,
           55,
           56,
           57,
           58,
           59,
           60,
           61,
           62,
           63,
           64,
           65,
           66,
           67,
           68,
           69,
           70,
           71,
           72,
           73,
           74,
           75,
           76,
           77,
           78,
           79,
           80,
           81,
           82,
           83,
           84,
           85,
           86,
           87,
           88,
           89,
           90,
           91,
           92,
           93,
           94,
           95,
           96,
           97,
           98,
           99
          ],
          "colorbar": {
           "title": {
            "text": "Trial"
           },
           "x": 1,
           "xpad": 40
          },
          "colorscale": [
           [
            0,
            "rgb(247,251,255)"
           ],
           [
            0.125,
            "rgb(222,235,247)"
           ],
           [
            0.25,
            "rgb(198,219,239)"
           ],
           [
            0.375,
            "rgb(158,202,225)"
           ],
           [
            0.5,
            "rgb(107,174,214)"
           ],
           [
            0.625,
            "rgb(66,146,198)"
           ],
           [
            0.75,
            "rgb(33,113,181)"
           ],
           [
            0.875,
            "rgb(8,81,156)"
           ],
           [
            1,
            "rgb(8,48,107)"
           ]
          ],
          "line": {
           "color": "Grey",
           "width": 0.5
          },
          "showscale": false
         },
         "mode": "markers",
         "name": "Feasible Trial",
         "showlegend": false,
         "type": "scatter",
         "x": [
          9,
          2,
          10,
          8,
          1,
          2,
          10,
          6,
          9,
          1,
          4,
          4,
          4,
          5,
          4,
          6,
          3,
          6,
          0,
          7,
          4,
          4,
          3,
          5,
          5,
          5,
          3,
          7,
          7,
          5,
          2,
          4,
          3,
          4,
          5,
          6,
          3,
          2,
          4,
          1,
          8,
          4,
          5,
          4,
          3,
          5,
          2,
          4,
          6,
          4,
          3,
          4,
          5,
          6,
          4,
          5,
          4,
          3,
          2,
          4,
          5,
          4,
          4,
          4,
          3,
          3,
          3,
          0,
          2,
          4,
          3,
          3,
          3,
          2,
          3,
          4,
          10,
          1,
          4,
          5,
          4,
          3,
          3,
          3,
          4,
          2,
          3,
          4,
          5,
          4,
          3,
          4,
          4,
          3,
          2,
          3,
          3,
          5,
          3,
          4
         ],
         "xaxis": "x5",
         "y": [
          0.11344351328262432,
          0.10781577457762463,
          0.12406857112351624,
          0.09699525291339893,
          0.07390423376284878,
          0.10661587917100683,
          0.08608711559380292,
          0.11382558366848733,
          0.09371837440166148,
          0.07353689981954371,
          0.05355754319151732,
          0.05380683920296528,
          0.04886986379056708,
          0.08364377151769176,
          0.16437784043820455,
          0.09749526105575809,
          0.07800201331900264,
          0.14035851342188302,
          0.09764444756713167,
          0.11670301742436391,
          0.054894867350320925,
          0.051859126707323386,
          0.07218361079795212,
          0.05135655737347126,
          0.07840323672029129,
          0.07274148502180683,
          0.08423774226418881,
          0.09299331508793464,
          0.08064490742040195,
          0.055083068243682906,
          0.10552644476118438,
          0.06789136144877336,
          0.06868244192371135,
          0.04817282839406062,
          0.1053234043687602,
          0.06895125150091092,
          0.09703600851083727,
          0.09101707923938909,
          0.12926140900972163,
          0.08486067676827581,
          0.06764552828736915,
          0.05617343879520489,
          0.07242772569963127,
          0.04917081739259842,
          0.07158639707171122,
          0.06451939297244566,
          0.08785852799846,
          0.05866647419282129,
          0.06375772489582143,
          0.07749941818918753,
          0.10834071194603634,
          0.05953517839218478,
          0.07490543436192001,
          0.05905798548835505,
          0.048994365465037194,
          0.06735996881903265,
          0.0785602930033239,
          0.08514978806449831,
          0.13072938298464606,
          0.049103807399540345,
          0.07146848999775945,
          0.05114733347728935,
          0.0601601788241065,
          0.04676623690393154,
          0.0691490306971031,
          0.047688923055519236,
          0.0651628869207575,
          0.07609182822407168,
          0.05725794873759462,
          0.07310225789272524,
          0.047721213283738524,
          0.05665383513733234,
          0.049247469262301065,
          0.0664835508006342,
          0.05967031940943233,
          0.1329669264972057,
          0.06763320164096485,
          0.08343475442201637,
          0.06502855877644298,
          0.08113993332918999,
          0.05887752005626351,
          0.05199674347405724,
          0.0482680047023738,
          0.06328148944832981,
          0.04801385469801029,
          0.06241809425315126,
          0.06984055268033303,
          0.05526425644275035,
          0.0765474912957733,
          0.06494944027990077,
          0.11898669868023687,
          0.05022957658394418,
          0.059359270446677236,
          0.048322361376103865,
          0.10033872929174427,
          0.06973648227791601,
          0.06278911789377505,
          0.05574638361264411,
          0.06615052350504602,
          0.046379392446891494
         ],
         "yaxis": "y5"
        },
        {
         "marker": {
          "color": [
           0,
           1,
           2,
           3,
           4,
           5,
           6,
           7,
           8,
           9,
           10,
           11,
           12,
           13,
           14,
           15,
           16,
           17,
           18,
           19,
           20,
           21,
           22,
           23,
           24,
           25,
           26,
           27,
           28,
           29,
           30,
           31,
           32,
           33,
           34,
           35,
           36,
           37,
           38,
           39,
           40,
           41,
           42,
           43,
           44,
           45,
           46,
           47,
           48,
           49,
           50,
           51,
           52,
           53,
           54,
           55,
           56,
           57,
           58,
           59,
           60,
           61,
           62,
           63,
           64,
           65,
           66,
           67,
           68,
           69,
           70,
           71,
           72,
           73,
           74,
           75,
           76,
           77,
           78,
           79,
           80,
           81,
           82,
           83,
           84,
           85,
           86,
           87,
           88,
           89,
           90,
           91,
           92,
           93,
           94,
           95,
           96,
           97,
           98,
           99
          ],
          "colorbar": {
           "title": {
            "text": "Trial"
           },
           "x": 1,
           "xpad": 40
          },
          "colorscale": [
           [
            0,
            "rgb(247,251,255)"
           ],
           [
            0.125,
            "rgb(222,235,247)"
           ],
           [
            0.25,
            "rgb(198,219,239)"
           ],
           [
            0.375,
            "rgb(158,202,225)"
           ],
           [
            0.5,
            "rgb(107,174,214)"
           ],
           [
            0.625,
            "rgb(66,146,198)"
           ],
           [
            0.75,
            "rgb(33,113,181)"
           ],
           [
            0.875,
            "rgb(8,81,156)"
           ],
           [
            1,
            "rgb(8,48,107)"
           ]
          ],
          "line": {
           "color": "Grey",
           "width": 0.5
          },
          "showscale": false
         },
         "mode": "markers",
         "name": "Feasible Trial",
         "showlegend": false,
         "type": "scatter",
         "x": [
          319,
          320,
          329,
          333,
          381,
          222,
          416,
          563,
          415,
          461,
          587,
          597,
          588,
          536,
          55,
          504,
          497,
          133,
          595,
          253,
          479,
          600,
          544,
          542,
          527,
          443,
          552,
          503,
          571,
          396,
          272,
          596,
          568,
          536,
          517,
          456,
          350,
          537,
          480,
          433,
          569,
          598,
          565,
          522,
          476,
          522,
          550,
          495,
          366,
          158,
          576,
          591,
          538,
          518,
          547,
          544,
          309,
          506,
          555,
          419,
          411,
          581,
          462,
          487,
          488,
          439,
          447,
          420,
          390,
          464,
          430,
          422,
          401,
          433,
          513,
          364,
          470,
          488,
          530,
          443,
          379,
          404,
          319,
          307,
          331,
          276,
          324,
          340,
          279,
          228,
          295,
          559,
          502,
          342,
          341,
          368,
          357,
          383,
          309,
          331
         ],
         "xaxis": "x6",
         "y": [
          0.11344351328262432,
          0.10781577457762463,
          0.12406857112351624,
          0.09699525291339893,
          0.07390423376284878,
          0.10661587917100683,
          0.08608711559380292,
          0.11382558366848733,
          0.09371837440166148,
          0.07353689981954371,
          0.05355754319151732,
          0.05380683920296528,
          0.04886986379056708,
          0.08364377151769176,
          0.16437784043820455,
          0.09749526105575809,
          0.07800201331900264,
          0.14035851342188302,
          0.09764444756713167,
          0.11670301742436391,
          0.054894867350320925,
          0.051859126707323386,
          0.07218361079795212,
          0.05135655737347126,
          0.07840323672029129,
          0.07274148502180683,
          0.08423774226418881,
          0.09299331508793464,
          0.08064490742040195,
          0.055083068243682906,
          0.10552644476118438,
          0.06789136144877336,
          0.06868244192371135,
          0.04817282839406062,
          0.1053234043687602,
          0.06895125150091092,
          0.09703600851083727,
          0.09101707923938909,
          0.12926140900972163,
          0.08486067676827581,
          0.06764552828736915,
          0.05617343879520489,
          0.07242772569963127,
          0.04917081739259842,
          0.07158639707171122,
          0.06451939297244566,
          0.08785852799846,
          0.05866647419282129,
          0.06375772489582143,
          0.07749941818918753,
          0.10834071194603634,
          0.05953517839218478,
          0.07490543436192001,
          0.05905798548835505,
          0.048994365465037194,
          0.06735996881903265,
          0.0785602930033239,
          0.08514978806449831,
          0.13072938298464606,
          0.049103807399540345,
          0.07146848999775945,
          0.05114733347728935,
          0.0601601788241065,
          0.04676623690393154,
          0.0691490306971031,
          0.047688923055519236,
          0.0651628869207575,
          0.07609182822407168,
          0.05725794873759462,
          0.07310225789272524,
          0.047721213283738524,
          0.05665383513733234,
          0.049247469262301065,
          0.0664835508006342,
          0.05967031940943233,
          0.1329669264972057,
          0.06763320164096485,
          0.08343475442201637,
          0.06502855877644298,
          0.08113993332918999,
          0.05887752005626351,
          0.05199674347405724,
          0.0482680047023738,
          0.06328148944832981,
          0.04801385469801029,
          0.06241809425315126,
          0.06984055268033303,
          0.05526425644275035,
          0.0765474912957733,
          0.06494944027990077,
          0.11898669868023687,
          0.05022957658394418,
          0.059359270446677236,
          0.048322361376103865,
          0.10033872929174427,
          0.06973648227791601,
          0.06278911789377505,
          0.05574638361264411,
          0.06615052350504602,
          0.046379392446891494
         ],
         "yaxis": "y6"
        },
        {
         "marker": {
          "color": [
           0,
           1,
           2,
           3,
           4,
           5,
           6,
           7,
           8,
           9,
           10,
           11,
           12,
           13,
           14,
           15,
           16,
           17,
           18,
           19,
           20,
           21,
           22,
           23,
           24,
           25,
           26,
           27,
           28,
           29,
           30,
           31,
           32,
           33,
           34,
           35,
           36,
           37,
           38,
           39,
           40,
           41,
           42,
           43,
           44,
           45,
           46,
           47,
           48,
           49,
           50,
           51,
           52,
           53,
           54,
           55,
           56,
           57,
           58,
           59,
           60,
           61,
           62,
           63,
           64,
           65,
           66,
           67,
           68,
           69,
           70,
           71,
           72,
           73,
           74,
           75,
           76,
           77,
           78,
           79,
           80,
           81,
           82,
           83,
           84,
           85,
           86,
           87,
           88,
           89,
           90,
           91,
           92,
           93,
           94,
           95,
           96,
           97,
           98,
           99
          ],
          "colorbar": {
           "title": {
            "text": "Trial"
           },
           "x": 1,
           "xpad": 40
          },
          "colorscale": [
           [
            0,
            "rgb(247,251,255)"
           ],
           [
            0.125,
            "rgb(222,235,247)"
           ],
           [
            0.25,
            "rgb(198,219,239)"
           ],
           [
            0.375,
            "rgb(158,202,225)"
           ],
           [
            0.5,
            "rgb(107,174,214)"
           ],
           [
            0.625,
            "rgb(66,146,198)"
           ],
           [
            0.75,
            "rgb(33,113,181)"
           ],
           [
            0.875,
            "rgb(8,81,156)"
           ],
           [
            1,
            "rgb(8,48,107)"
           ]
          ],
          "line": {
           "color": "Grey",
           "width": 0.5
          },
          "showscale": false
         },
         "mode": "markers",
         "name": "Feasible Trial",
         "showlegend": false,
         "type": "scatter",
         "x": [
          0.8713609058643224,
          0.8953910200997643,
          0.8992090166851305,
          0.8420273770475245,
          0.7272166268056045,
          0.7125623964889437,
          0.7264350268331832,
          0.9250212889671569,
          0.6254153409342398,
          0.6644881562536245,
          0.6177019078528019,
          0.6016451578451746,
          0.6251530539059337,
          0.7878094669365064,
          0.9701326238329615,
          0.6859680584828837,
          0.78494332333272,
          0.6424187423691355,
          0.6013515007751596,
          0.7572449034435413,
          0.6768664954500744,
          0.6054905772524627,
          0.6410221786828928,
          0.6375288968636181,
          0.6655876761119482,
          0.7070351517336637,
          0.6444254720230496,
          0.690981355940124,
          0.7542973541824748,
          0.6514124589467815,
          0.8228792842439243,
          0.6133677719422613,
          0.6295924537236385,
          0.6200720499422434,
          0.60070526382217,
          0.6644175010411809,
          0.868119260136933,
          0.6939219890655177,
          0.7452467857873618,
          0.622777745598601,
          0.7102814133572306,
          0.6258509189431852,
          0.6558632868786511,
          0.6161123505947258,
          0.635874186592467,
          0.6128308167232338,
          0.6697096297014155,
          0.9826391408104465,
          0.6173384026091941,
          0.9050980120259399,
          0.728988578361618,
          0.601896546099317,
          0.6363632465771546,
          0.6497470124075333,
          0.6792785695404381,
          0.683524465627813,
          0.6596761767711994,
          0.6276112039067417,
          0.6127293692015389,
          0.6415801085156818,
          0.7028196975313686,
          0.6444136476451064,
          0.6738534363868601,
          0.6470853909072255,
          0.6493479974323438,
          0.6821882095071998,
          0.6795504009757408,
          0.7722642451779519,
          0.696344934931001,
          0.6594048804785435,
          0.7213138838560758,
          0.7135969563475297,
          0.7237892125853607,
          0.6720507765315756,
          0.6312492351479534,
          0.8213017449527896,
          0.739859736223127,
          0.6171637342432043,
          0.68491275820018,
          0.640732588090969,
          0.6587422914107883,
          0.7277633597675057,
          0.719496418520308,
          0.6962963638305487,
          0.7185024868316934,
          0.7542474950065763,
          0.7670547330662056,
          0.74110134817988,
          0.7047663198867179,
          0.7163667865493217,
          0.9509504707385654,
          0.6680946191576783,
          0.6299080023964722,
          0.690397558278774,
          0.6896915116912095,
          0.7220364001141313,
          0.6776081837054556,
          0.7073517835218717,
          0.7954410715733712,
          0.6516527706458131
         ],
         "xaxis": "x7",
         "y": [
          0.11344351328262432,
          0.10781577457762463,
          0.12406857112351624,
          0.09699525291339893,
          0.07390423376284878,
          0.10661587917100683,
          0.08608711559380292,
          0.11382558366848733,
          0.09371837440166148,
          0.07353689981954371,
          0.05355754319151732,
          0.05380683920296528,
          0.04886986379056708,
          0.08364377151769176,
          0.16437784043820455,
          0.09749526105575809,
          0.07800201331900264,
          0.14035851342188302,
          0.09764444756713167,
          0.11670301742436391,
          0.054894867350320925,
          0.051859126707323386,
          0.07218361079795212,
          0.05135655737347126,
          0.07840323672029129,
          0.07274148502180683,
          0.08423774226418881,
          0.09299331508793464,
          0.08064490742040195,
          0.055083068243682906,
          0.10552644476118438,
          0.06789136144877336,
          0.06868244192371135,
          0.04817282839406062,
          0.1053234043687602,
          0.06895125150091092,
          0.09703600851083727,
          0.09101707923938909,
          0.12926140900972163,
          0.08486067676827581,
          0.06764552828736915,
          0.05617343879520489,
          0.07242772569963127,
          0.04917081739259842,
          0.07158639707171122,
          0.06451939297244566,
          0.08785852799846,
          0.05866647419282129,
          0.06375772489582143,
          0.07749941818918753,
          0.10834071194603634,
          0.05953517839218478,
          0.07490543436192001,
          0.05905798548835505,
          0.048994365465037194,
          0.06735996881903265,
          0.0785602930033239,
          0.08514978806449831,
          0.13072938298464606,
          0.049103807399540345,
          0.07146848999775945,
          0.05114733347728935,
          0.0601601788241065,
          0.04676623690393154,
          0.0691490306971031,
          0.047688923055519236,
          0.0651628869207575,
          0.07609182822407168,
          0.05725794873759462,
          0.07310225789272524,
          0.047721213283738524,
          0.05665383513733234,
          0.049247469262301065,
          0.0664835508006342,
          0.05967031940943233,
          0.1329669264972057,
          0.06763320164096485,
          0.08343475442201637,
          0.06502855877644298,
          0.08113993332918999,
          0.05887752005626351,
          0.05199674347405724,
          0.0482680047023738,
          0.06328148944832981,
          0.04801385469801029,
          0.06241809425315126,
          0.06984055268033303,
          0.05526425644275035,
          0.0765474912957733,
          0.06494944027990077,
          0.11898669868023687,
          0.05022957658394418,
          0.059359270446677236,
          0.048322361376103865,
          0.10033872929174427,
          0.06973648227791601,
          0.06278911789377505,
          0.05574638361264411,
          0.06615052350504602,
          0.046379392446891494
         ],
         "yaxis": "y7"
        }
       ],
       "layout": {
        "template": {
         "data": {
          "bar": [
           {
            "error_x": {
             "color": "#2a3f5f"
            },
            "error_y": {
             "color": "#2a3f5f"
            },
            "marker": {
             "line": {
              "color": "#E5ECF6",
              "width": 0.5
             },
             "pattern": {
              "fillmode": "overlay",
              "size": 10,
              "solidity": 0.2
             }
            },
            "type": "bar"
           }
          ],
          "barpolar": [
           {
            "marker": {
             "line": {
              "color": "#E5ECF6",
              "width": 0.5
             },
             "pattern": {
              "fillmode": "overlay",
              "size": 10,
              "solidity": 0.2
             }
            },
            "type": "barpolar"
           }
          ],
          "carpet": [
           {
            "aaxis": {
             "endlinecolor": "#2a3f5f",
             "gridcolor": "white",
             "linecolor": "white",
             "minorgridcolor": "white",
             "startlinecolor": "#2a3f5f"
            },
            "baxis": {
             "endlinecolor": "#2a3f5f",
             "gridcolor": "white",
             "linecolor": "white",
             "minorgridcolor": "white",
             "startlinecolor": "#2a3f5f"
            },
            "type": "carpet"
           }
          ],
          "choropleth": [
           {
            "colorbar": {
             "outlinewidth": 0,
             "ticks": ""
            },
            "type": "choropleth"
           }
          ],
          "contour": [
           {
            "colorbar": {
             "outlinewidth": 0,
             "ticks": ""
            },
            "colorscale": [
             [
              0,
              "#0d0887"
             ],
             [
              0.1111111111111111,
              "#46039f"
             ],
             [
              0.2222222222222222,
              "#7201a8"
             ],
             [
              0.3333333333333333,
              "#9c179e"
             ],
             [
              0.4444444444444444,
              "#bd3786"
             ],
             [
              0.5555555555555556,
              "#d8576b"
             ],
             [
              0.6666666666666666,
              "#ed7953"
             ],
             [
              0.7777777777777778,
              "#fb9f3a"
             ],
             [
              0.8888888888888888,
              "#fdca26"
             ],
             [
              1,
              "#f0f921"
             ]
            ],
            "type": "contour"
           }
          ],
          "contourcarpet": [
           {
            "colorbar": {
             "outlinewidth": 0,
             "ticks": ""
            },
            "type": "contourcarpet"
           }
          ],
          "heatmap": [
           {
            "colorbar": {
             "outlinewidth": 0,
             "ticks": ""
            },
            "colorscale": [
             [
              0,
              "#0d0887"
             ],
             [
              0.1111111111111111,
              "#46039f"
             ],
             [
              0.2222222222222222,
              "#7201a8"
             ],
             [
              0.3333333333333333,
              "#9c179e"
             ],
             [
              0.4444444444444444,
              "#bd3786"
             ],
             [
              0.5555555555555556,
              "#d8576b"
             ],
             [
              0.6666666666666666,
              "#ed7953"
             ],
             [
              0.7777777777777778,
              "#fb9f3a"
             ],
             [
              0.8888888888888888,
              "#fdca26"
             ],
             [
              1,
              "#f0f921"
             ]
            ],
            "type": "heatmap"
           }
          ],
          "histogram": [
           {
            "marker": {
             "pattern": {
              "fillmode": "overlay",
              "size": 10,
              "solidity": 0.2
             }
            },
            "type": "histogram"
           }
          ],
          "histogram2d": [
           {
            "colorbar": {
             "outlinewidth": 0,
             "ticks": ""
            },
            "colorscale": [
             [
              0,
              "#0d0887"
             ],
             [
              0.1111111111111111,
              "#46039f"
             ],
             [
              0.2222222222222222,
              "#7201a8"
             ],
             [
              0.3333333333333333,
              "#9c179e"
             ],
             [
              0.4444444444444444,
              "#bd3786"
             ],
             [
              0.5555555555555556,
              "#d8576b"
             ],
             [
              0.6666666666666666,
              "#ed7953"
             ],
             [
              0.7777777777777778,
              "#fb9f3a"
             ],
             [
              0.8888888888888888,
              "#fdca26"
             ],
             [
              1,
              "#f0f921"
             ]
            ],
            "type": "histogram2d"
           }
          ],
          "histogram2dcontour": [
           {
            "colorbar": {
             "outlinewidth": 0,
             "ticks": ""
            },
            "colorscale": [
             [
              0,
              "#0d0887"
             ],
             [
              0.1111111111111111,
              "#46039f"
             ],
             [
              0.2222222222222222,
              "#7201a8"
             ],
             [
              0.3333333333333333,
              "#9c179e"
             ],
             [
              0.4444444444444444,
              "#bd3786"
             ],
             [
              0.5555555555555556,
              "#d8576b"
             ],
             [
              0.6666666666666666,
              "#ed7953"
             ],
             [
              0.7777777777777778,
              "#fb9f3a"
             ],
             [
              0.8888888888888888,
              "#fdca26"
             ],
             [
              1,
              "#f0f921"
             ]
            ],
            "type": "histogram2dcontour"
           }
          ],
          "mesh3d": [
           {
            "colorbar": {
             "outlinewidth": 0,
             "ticks": ""
            },
            "type": "mesh3d"
           }
          ],
          "parcoords": [
           {
            "line": {
             "colorbar": {
              "outlinewidth": 0,
              "ticks": ""
             }
            },
            "type": "parcoords"
           }
          ],
          "pie": [
           {
            "automargin": true,
            "type": "pie"
           }
          ],
          "scatter": [
           {
            "fillpattern": {
             "fillmode": "overlay",
             "size": 10,
             "solidity": 0.2
            },
            "type": "scatter"
           }
          ],
          "scatter3d": [
           {
            "line": {
             "colorbar": {
              "outlinewidth": 0,
              "ticks": ""
             }
            },
            "marker": {
             "colorbar": {
              "outlinewidth": 0,
              "ticks": ""
             }
            },
            "type": "scatter3d"
           }
          ],
          "scattercarpet": [
           {
            "marker": {
             "colorbar": {
              "outlinewidth": 0,
              "ticks": ""
             }
            },
            "type": "scattercarpet"
           }
          ],
          "scattergeo": [
           {
            "marker": {
             "colorbar": {
              "outlinewidth": 0,
              "ticks": ""
             }
            },
            "type": "scattergeo"
           }
          ],
          "scattergl": [
           {
            "marker": {
             "colorbar": {
              "outlinewidth": 0,
              "ticks": ""
             }
            },
            "type": "scattergl"
           }
          ],
          "scattermap": [
           {
            "marker": {
             "colorbar": {
              "outlinewidth": 0,
              "ticks": ""
             }
            },
            "type": "scattermap"
           }
          ],
          "scattermapbox": [
           {
            "marker": {
             "colorbar": {
              "outlinewidth": 0,
              "ticks": ""
             }
            },
            "type": "scattermapbox"
           }
          ],
          "scatterpolar": [
           {
            "marker": {
             "colorbar": {
              "outlinewidth": 0,
              "ticks": ""
             }
            },
            "type": "scatterpolar"
           }
          ],
          "scatterpolargl": [
           {
            "marker": {
             "colorbar": {
              "outlinewidth": 0,
              "ticks": ""
             }
            },
            "type": "scatterpolargl"
           }
          ],
          "scatterternary": [
           {
            "marker": {
             "colorbar": {
              "outlinewidth": 0,
              "ticks": ""
             }
            },
            "type": "scatterternary"
           }
          ],
          "surface": [
           {
            "colorbar": {
             "outlinewidth": 0,
             "ticks": ""
            },
            "colorscale": [
             [
              0,
              "#0d0887"
             ],
             [
              0.1111111111111111,
              "#46039f"
             ],
             [
              0.2222222222222222,
              "#7201a8"
             ],
             [
              0.3333333333333333,
              "#9c179e"
             ],
             [
              0.4444444444444444,
              "#bd3786"
             ],
             [
              0.5555555555555556,
              "#d8576b"
             ],
             [
              0.6666666666666666,
              "#ed7953"
             ],
             [
              0.7777777777777778,
              "#fb9f3a"
             ],
             [
              0.8888888888888888,
              "#fdca26"
             ],
             [
              1,
              "#f0f921"
             ]
            ],
            "type": "surface"
           }
          ],
          "table": [
           {
            "cells": {
             "fill": {
              "color": "#EBF0F8"
             },
             "line": {
              "color": "white"
             }
            },
            "header": {
             "fill": {
              "color": "#C8D4E3"
             },
             "line": {
              "color": "white"
             }
            },
            "type": "table"
           }
          ]
         },
         "layout": {
          "annotationdefaults": {
           "arrowcolor": "#2a3f5f",
           "arrowhead": 0,
           "arrowwidth": 1
          },
          "autotypenumbers": "strict",
          "coloraxis": {
           "colorbar": {
            "outlinewidth": 0,
            "ticks": ""
           }
          },
          "colorscale": {
           "diverging": [
            [
             0,
             "#8e0152"
            ],
            [
             0.1,
             "#c51b7d"
            ],
            [
             0.2,
             "#de77ae"
            ],
            [
             0.3,
             "#f1b6da"
            ],
            [
             0.4,
             "#fde0ef"
            ],
            [
             0.5,
             "#f7f7f7"
            ],
            [
             0.6,
             "#e6f5d0"
            ],
            [
             0.7,
             "#b8e186"
            ],
            [
             0.8,
             "#7fbc41"
            ],
            [
             0.9,
             "#4d9221"
            ],
            [
             1,
             "#276419"
            ]
           ],
           "sequential": [
            [
             0,
             "#0d0887"
            ],
            [
             0.1111111111111111,
             "#46039f"
            ],
            [
             0.2222222222222222,
             "#7201a8"
            ],
            [
             0.3333333333333333,
             "#9c179e"
            ],
            [
             0.4444444444444444,
             "#bd3786"
            ],
            [
             0.5555555555555556,
             "#d8576b"
            ],
            [
             0.6666666666666666,
             "#ed7953"
            ],
            [
             0.7777777777777778,
             "#fb9f3a"
            ],
            [
             0.8888888888888888,
             "#fdca26"
            ],
            [
             1,
             "#f0f921"
            ]
           ],
           "sequentialminus": [
            [
             0,
             "#0d0887"
            ],
            [
             0.1111111111111111,
             "#46039f"
            ],
            [
             0.2222222222222222,
             "#7201a8"
            ],
            [
             0.3333333333333333,
             "#9c179e"
            ],
            [
             0.4444444444444444,
             "#bd3786"
            ],
            [
             0.5555555555555556,
             "#d8576b"
            ],
            [
             0.6666666666666666,
             "#ed7953"
            ],
            [
             0.7777777777777778,
             "#fb9f3a"
            ],
            [
             0.8888888888888888,
             "#fdca26"
            ],
            [
             1,
             "#f0f921"
            ]
           ]
          },
          "colorway": [
           "#636efa",
           "#EF553B",
           "#00cc96",
           "#ab63fa",
           "#FFA15A",
           "#19d3f3",
           "#FF6692",
           "#B6E880",
           "#FF97FF",
           "#FECB52"
          ],
          "font": {
           "color": "#2a3f5f"
          },
          "geo": {
           "bgcolor": "white",
           "lakecolor": "white",
           "landcolor": "#E5ECF6",
           "showlakes": true,
           "showland": true,
           "subunitcolor": "white"
          },
          "hoverlabel": {
           "align": "left"
          },
          "hovermode": "closest",
          "mapbox": {
           "style": "light"
          },
          "paper_bgcolor": "white",
          "plot_bgcolor": "#E5ECF6",
          "polar": {
           "angularaxis": {
            "gridcolor": "white",
            "linecolor": "white",
            "ticks": ""
           },
           "bgcolor": "#E5ECF6",
           "radialaxis": {
            "gridcolor": "white",
            "linecolor": "white",
            "ticks": ""
           }
          },
          "scene": {
           "xaxis": {
            "backgroundcolor": "#E5ECF6",
            "gridcolor": "white",
            "gridwidth": 2,
            "linecolor": "white",
            "showbackground": true,
            "ticks": "",
            "zerolinecolor": "white"
           },
           "yaxis": {
            "backgroundcolor": "#E5ECF6",
            "gridcolor": "white",
            "gridwidth": 2,
            "linecolor": "white",
            "showbackground": true,
            "ticks": "",
            "zerolinecolor": "white"
           },
           "zaxis": {
            "backgroundcolor": "#E5ECF6",
            "gridcolor": "white",
            "gridwidth": 2,
            "linecolor": "white",
            "showbackground": true,
            "ticks": "",
            "zerolinecolor": "white"
           }
          },
          "shapedefaults": {
           "line": {
            "color": "#2a3f5f"
           }
          },
          "ternary": {
           "aaxis": {
            "gridcolor": "white",
            "linecolor": "white",
            "ticks": ""
           },
           "baxis": {
            "gridcolor": "white",
            "linecolor": "white",
            "ticks": ""
           },
           "bgcolor": "#E5ECF6",
           "caxis": {
            "gridcolor": "white",
            "linecolor": "white",
            "ticks": ""
           }
          },
          "title": {
           "x": 0.05
          },
          "xaxis": {
           "automargin": true,
           "gridcolor": "white",
           "linecolor": "white",
           "ticks": "",
           "title": {
            "standoff": 15
           },
           "zerolinecolor": "white",
           "zerolinewidth": 2
          },
          "yaxis": {
           "automargin": true,
           "gridcolor": "white",
           "linecolor": "white",
           "ticks": "",
           "title": {
            "standoff": 15
           },
           "zerolinecolor": "white",
           "zerolinewidth": 2
          }
         }
        },
        "title": {
         "text": "Slice Plot"
        },
        "width": 2100,
        "xaxis": {
         "anchor": "y",
         "domain": [
          0,
          0.1183673469387755
         ],
         "title": {
          "text": "colsample_bytree"
         }
        },
        "xaxis2": {
         "anchor": "y2",
         "domain": [
          0.14693877551020407,
          0.26530612244897955
         ],
         "title": {
          "text": "gamma"
         }
        },
        "xaxis3": {
         "anchor": "y3",
         "domain": [
          0.29387755102040813,
          0.4122448979591836
         ],
         "title": {
          "text": "learning_rate"
         },
         "type": "log"
        },
        "xaxis4": {
         "anchor": "y4",
         "domain": [
          0.4408163265306122,
          0.5591836734693877
         ],
         "title": {
          "text": "max_depth"
         }
        },
        "xaxis5": {
         "anchor": "y5",
         "domain": [
          0.5877551020408163,
          0.7061224489795918
         ],
         "title": {
          "text": "min_child_weight"
         }
        },
        "xaxis6": {
         "anchor": "y6",
         "domain": [
          0.7346938775510204,
          0.8530612244897959
         ],
         "title": {
          "text": "n_estimators"
         }
        },
        "xaxis7": {
         "anchor": "y7",
         "domain": [
          0.8816326530612244,
          0.9999999999999999
         ],
         "title": {
          "text": "subsample"
         }
        },
        "yaxis": {
         "anchor": "x",
         "domain": [
          0,
          1
         ],
         "title": {
          "text": "Objective Value"
         }
        },
        "yaxis2": {
         "anchor": "x2",
         "domain": [
          0,
          1
         ],
         "matches": "y",
         "showticklabels": false
        },
        "yaxis3": {
         "anchor": "x3",
         "domain": [
          0,
          1
         ],
         "matches": "y",
         "showticklabels": false
        },
        "yaxis4": {
         "anchor": "x4",
         "domain": [
          0,
          1
         ],
         "matches": "y",
         "showticklabels": false
        },
        "yaxis5": {
         "anchor": "x5",
         "domain": [
          0,
          1
         ],
         "matches": "y",
         "showticklabels": false
        },
        "yaxis6": {
         "anchor": "x6",
         "domain": [
          0,
          1
         ],
         "matches": "y",
         "showticklabels": false
        },
        "yaxis7": {
         "anchor": "x7",
         "domain": [
          0,
          1
         ],
         "matches": "y",
         "showticklabels": false
        }
       }
      }
     },
     "metadata": {},
     "output_type": "display_data"
    }
   ],
   "source": [
    "\n",
    "# Slice plot (zoom in on individual parameters)\n",
    "vis.plot_slice(study)"
   ]
  },
  {
   "cell_type": "code",
   "execution_count": 8,
   "id": "714da06d-29fc-4c27-a17a-89ca9e1387c3",
   "metadata": {},
   "outputs": [
    {
     "name": "stdout",
     "output_type": "stream",
     "text": [
      "                    Feature  Importance\n",
      "0                     Bng_h    0.375071\n",
      "1                     Kau_h    0.237968\n",
      "2                     Stg_h    0.180851\n",
      "3                     Ruw_h    0.046763\n",
      "4                Ruw_h_lag1    0.031732\n",
      "5                     Fra_h    0.023809\n",
      "6                     Klk_h    0.017294\n",
      "7                     Hdb_h    0.012405\n",
      "8                     Sie_h    0.003754\n",
      "9                     Ahr_h    0.003268\n",
      "10          sbs_temp_7_lag1    0.003056\n",
      "11               Klk_h_lag1    0.002518\n",
      "12                 Klk_diff    0.001903\n",
      "13               Bng_h_lag1    0.001872\n",
      "14          sbs_prep_4_lag1    0.001770\n",
      "15          sbs_temp_9_lag1    0.001616\n",
      "16                 Sie_diff    0.001330\n",
      "17         sbs_temp_10_lag1    0.001128\n",
      "18               Fra_h_lag1    0.001112\n",
      "19          sbs_temp_7_lag5    0.001057\n",
      "20            Ruw_diff_lag1    0.000985\n",
      "21               Kau_h_lag3    0.000984\n",
      "22  sbs_snow_oberrhein_lag3    0.000961\n",
      "23          sbs_prep_3_lag1    0.000936\n",
      "24                 Stg_diff    0.000885\n",
      "25               Bng_h_lag5    0.000834\n",
      "26               Ruw_h_lag3    0.000795\n",
      "27               Stg_h_lag1    0.000788\n",
      "28  sbs_snow_oberrhein_lag1    0.000767\n",
      "29                 Fra_diff    0.000752\n",
      "30               Stg_h_lag3    0.000683\n",
      "31                 Bng_diff    0.000665\n",
      "32               Kau_h_lag1    0.000636\n",
      "33                 Ruw_diff    0.000611\n",
      "34          sbs_prep_1_lag1    0.000593\n",
      "35               Ruw_h_lag5    0.000578\n",
      "36            sbs_snow_alps    0.000548\n",
      "37                 Kau_diff    0.000546\n",
      "38               sbs_temp_6    0.000546\n",
      "39               Kau_h_lag5    0.000534\n",
      "40                 Ahr_diff    0.000528\n",
      "41               Ahr_h_lag5    0.000523\n",
      "42               Ahr_h_lag3    0.000522\n",
      "43          sbs_temp_1_lag1    0.000510\n",
      "44               Stg_h_lag5    0.000507\n",
      "45               sbs_prep_5    0.000493\n",
      "46               sbs_humd_7    0.000475\n",
      "47               Ahr_h_lag1    0.000467\n",
      "48               sbs_temp_7    0.000464\n",
      "49          sbs_humd_9_lag1    0.000443\n"
     ]
    }
   ],
   "source": [
    "importances = best_model.feature_importances_\n",
    "indices = np.argsort(importances)[::-1]  # sort descending\n",
    "\n",
    "# Put into DataFrame for readability\n",
    "feat_importance_df = pd.DataFrame({\n",
    "    \"Feature\": X_train.columns[indices],\n",
    "    \"Importance\": importances[indices]\n",
    "})\n",
    "\n",
    "save_path = os.path.join(save_dir, \"feature_importance_top15.csv\")\n",
    "feat_importance_df.head(25).to_csv(save_path, index=True)\n",
    "print(feat_importance_df.head(50))  # top 15 features"
   ]
  },
  {
   "cell_type": "markdown",
   "id": "f96318af-77e7-4e5c-bfb6-f63d4bbdce80",
   "metadata": {},
   "source": [
    "## Uncertainty Estimation"
   ]
  },
  {
   "cell_type": "code",
   "execution_count": 9,
   "id": "c1a66628-1217-4a15-8fce-161823b551e0",
   "metadata": {},
   "outputs": [],
   "source": [
    "quantiles = [0.05, 0.1, 0.2, 0.4, 0.6, 0.8, 0.9, 0.95]\n",
    "preds = {}\n",
    "\n",
    "for q in quantiles:\n",
    "    model = XGBRegressor(\n",
    "        **best_params,\n",
    "        objective=\"reg:quantileerror\",\n",
    "        quantile_alpha=q  # << required\n",
    "    )\n",
    "    model.fit(X_train, y_train)\n",
    "    preds[q] = model.predict(X_test)"
   ]
  },
  {
   "cell_type": "code",
   "execution_count": 10,
   "id": "3b1fb680-ef64-46ea-9c8a-47eb7e76ae14",
   "metadata": {},
   "outputs": [
    {
     "data": {
      "text/html": [
       "<div>\n",
       "<style scoped>\n",
       "    .dataframe tbody tr th:only-of-type {\n",
       "        vertical-align: middle;\n",
       "    }\n",
       "\n",
       "    .dataframe tbody tr th {\n",
       "        vertical-align: top;\n",
       "    }\n",
       "\n",
       "    .dataframe thead th {\n",
       "        text-align: right;\n",
       "    }\n",
       "</style>\n",
       "<table border=\"1\" class=\"dataframe\">\n",
       "  <thead>\n",
       "    <tr style=\"text-align: right;\">\n",
       "      <th></th>\n",
       "      <th>Kln_h</th>\n",
       "    </tr>\n",
       "  </thead>\n",
       "  <tbody>\n",
       "    <tr>\n",
       "      <th>2000-01-02</th>\n",
       "      <td>599.583333</td>\n",
       "    </tr>\n",
       "    <tr>\n",
       "      <th>2000-01-03</th>\n",
       "      <td>554.885417</td>\n",
       "    </tr>\n",
       "    <tr>\n",
       "      <th>2000-01-04</th>\n",
       "      <td>517.239583</td>\n",
       "    </tr>\n",
       "    <tr>\n",
       "      <th>2000-01-05</th>\n",
       "      <td>495.114583</td>\n",
       "    </tr>\n",
       "    <tr>\n",
       "      <th>2000-01-06</th>\n",
       "      <td>480.500000</td>\n",
       "    </tr>\n",
       "    <tr>\n",
       "      <th>...</th>\n",
       "      <td>...</td>\n",
       "    </tr>\n",
       "    <tr>\n",
       "      <th>2018-12-27</th>\n",
       "      <td>526.739583</td>\n",
       "    </tr>\n",
       "    <tr>\n",
       "      <th>2018-12-28</th>\n",
       "      <td>492.197917</td>\n",
       "    </tr>\n",
       "    <tr>\n",
       "      <th>2018-12-29</th>\n",
       "      <td>427.062500</td>\n",
       "    </tr>\n",
       "    <tr>\n",
       "      <th>2018-12-30</th>\n",
       "      <td>377.739583</td>\n",
       "    </tr>\n",
       "    <tr>\n",
       "      <th>2018-12-31</th>\n",
       "      <td>341.333333</td>\n",
       "    </tr>\n",
       "  </tbody>\n",
       "</table>\n",
       "<p>6938 rows × 1 columns</p>\n",
       "</div>"
      ],
      "text/plain": [
       "                 Kln_h\n",
       "2000-01-02  599.583333\n",
       "2000-01-03  554.885417\n",
       "2000-01-04  517.239583\n",
       "2000-01-05  495.114583\n",
       "2000-01-06  480.500000\n",
       "...                ...\n",
       "2018-12-27  526.739583\n",
       "2018-12-28  492.197917\n",
       "2018-12-29  427.062500\n",
       "2018-12-30  377.739583\n",
       "2018-12-31  341.333333\n",
       "\n",
       "[6938 rows x 1 columns]"
      ]
     },
     "execution_count": 10,
     "metadata": {},
     "output_type": "execute_result"
    }
   ],
   "source": [
    "y"
   ]
  },
  {
   "cell_type": "code",
   "execution_count": 11,
   "id": "fe78ae18-284b-48e6-9abe-bafb46a84d3e",
   "metadata": {},
   "outputs": [
    {
     "data": {
      "text/html": [
       "<div>\n",
       "<style scoped>\n",
       "    .dataframe tbody tr th:only-of-type {\n",
       "        vertical-align: middle;\n",
       "    }\n",
       "\n",
       "    .dataframe tbody tr th {\n",
       "        vertical-align: top;\n",
       "    }\n",
       "\n",
       "    .dataframe thead th {\n",
       "        text-align: right;\n",
       "    }\n",
       "</style>\n",
       "<table border=\"1\" class=\"dataframe\">\n",
       "  <thead>\n",
       "    <tr style=\"text-align: right;\">\n",
       "      <th></th>\n",
       "      <th>Kln_h</th>\n",
       "    </tr>\n",
       "  </thead>\n",
       "  <tbody>\n",
       "    <tr>\n",
       "      <th>2017-12-31</th>\n",
       "      <td>1.587921</td>\n",
       "    </tr>\n",
       "    <tr>\n",
       "      <th>2018-01-01</th>\n",
       "      <td>2.113600</td>\n",
       "    </tr>\n",
       "    <tr>\n",
       "      <th>2018-01-02</th>\n",
       "      <td>2.550707</td>\n",
       "    </tr>\n",
       "    <tr>\n",
       "      <th>2018-01-03</th>\n",
       "      <td>2.915869</td>\n",
       "    </tr>\n",
       "    <tr>\n",
       "      <th>2018-01-04</th>\n",
       "      <td>3.308929</td>\n",
       "    </tr>\n",
       "    <tr>\n",
       "      <th>...</th>\n",
       "      <td>...</td>\n",
       "    </tr>\n",
       "    <tr>\n",
       "      <th>2018-12-26</th>\n",
       "      <td>1.629169</td>\n",
       "    </tr>\n",
       "    <tr>\n",
       "      <th>2018-12-27</th>\n",
       "      <td>1.364091</td>\n",
       "    </tr>\n",
       "    <tr>\n",
       "      <th>2018-12-28</th>\n",
       "      <td>0.864232</td>\n",
       "    </tr>\n",
       "    <tr>\n",
       "      <th>2018-12-29</th>\n",
       "      <td>0.485721</td>\n",
       "    </tr>\n",
       "    <tr>\n",
       "      <th>2018-12-30</th>\n",
       "      <td>0.206334</td>\n",
       "    </tr>\n",
       "  </tbody>\n",
       "</table>\n",
       "<p>365 rows × 1 columns</p>\n",
       "</div>"
      ],
      "text/plain": [
       "               Kln_h\n",
       "2017-12-31  1.587921\n",
       "2018-01-01  2.113600\n",
       "2018-01-02  2.550707\n",
       "2018-01-03  2.915869\n",
       "2018-01-04  3.308929\n",
       "...              ...\n",
       "2018-12-26  1.629169\n",
       "2018-12-27  1.364091\n",
       "2018-12-28  0.864232\n",
       "2018-12-29  0.485721\n",
       "2018-12-30  0.206334\n",
       "\n",
       "[365 rows x 1 columns]"
      ]
     },
     "execution_count": 11,
     "metadata": {},
     "output_type": "execute_result"
    }
   ],
   "source": [
    "y_test"
   ]
  },
  {
   "cell_type": "code",
   "execution_count": 12,
   "id": "eebd30d3-e156-43e8-b77f-0ec900fae6b9",
   "metadata": {},
   "outputs": [
    {
     "data": {
      "text/html": [
       "<div>\n",
       "<style scoped>\n",
       "    .dataframe tbody tr th:only-of-type {\n",
       "        vertical-align: middle;\n",
       "    }\n",
       "\n",
       "    .dataframe tbody tr th {\n",
       "        vertical-align: top;\n",
       "    }\n",
       "\n",
       "    .dataframe thead th {\n",
       "        text-align: right;\n",
       "    }\n",
       "</style>\n",
       "<table border=\"1\" class=\"dataframe\">\n",
       "  <thead>\n",
       "    <tr style=\"text-align: right;\">\n",
       "      <th></th>\n",
       "      <th>Kln_h</th>\n",
       "    </tr>\n",
       "  </thead>\n",
       "  <tbody>\n",
       "    <tr>\n",
       "      <th>2017-12-31</th>\n",
       "      <td>1.587921</td>\n",
       "    </tr>\n",
       "    <tr>\n",
       "      <th>2018-01-01</th>\n",
       "      <td>2.113600</td>\n",
       "    </tr>\n",
       "    <tr>\n",
       "      <th>2018-01-02</th>\n",
       "      <td>2.550707</td>\n",
       "    </tr>\n",
       "    <tr>\n",
       "      <th>2018-01-03</th>\n",
       "      <td>2.915869</td>\n",
       "    </tr>\n",
       "    <tr>\n",
       "      <th>2018-01-04</th>\n",
       "      <td>3.308929</td>\n",
       "    </tr>\n",
       "    <tr>\n",
       "      <th>...</th>\n",
       "      <td>...</td>\n",
       "    </tr>\n",
       "    <tr>\n",
       "      <th>2018-12-26</th>\n",
       "      <td>1.629169</td>\n",
       "    </tr>\n",
       "    <tr>\n",
       "      <th>2018-12-27</th>\n",
       "      <td>1.364091</td>\n",
       "    </tr>\n",
       "    <tr>\n",
       "      <th>2018-12-28</th>\n",
       "      <td>0.864232</td>\n",
       "    </tr>\n",
       "    <tr>\n",
       "      <th>2018-12-29</th>\n",
       "      <td>0.485721</td>\n",
       "    </tr>\n",
       "    <tr>\n",
       "      <th>2018-12-30</th>\n",
       "      <td>0.206334</td>\n",
       "    </tr>\n",
       "  </tbody>\n",
       "</table>\n",
       "<p>365 rows × 1 columns</p>\n",
       "</div>"
      ],
      "text/plain": [
       "               Kln_h\n",
       "2017-12-31  1.587921\n",
       "2018-01-01  2.113600\n",
       "2018-01-02  2.550707\n",
       "2018-01-03  2.915869\n",
       "2018-01-04  3.308929\n",
       "...              ...\n",
       "2018-12-26  1.629169\n",
       "2018-12-27  1.364091\n",
       "2018-12-28  0.864232\n",
       "2018-12-29  0.485721\n",
       "2018-12-30  0.206334\n",
       "\n",
       "[365 rows x 1 columns]"
      ]
     },
     "execution_count": 12,
     "metadata": {},
     "output_type": "execute_result"
    }
   ],
   "source": [
    "y_test"
   ]
  },
  {
   "cell_type": "code",
   "execution_count": 13,
   "id": "ac6f21a2-0baa-43b2-9594-fbbfe2e3ee33",
   "metadata": {},
   "outputs": [],
   "source": [
    "y_date = y.loc[y_test.index]\n",
    "#y_series = pd.Series(y_date, index=y_test.index)\n",
    "y_series = y_date.squeeze()"
   ]
  },
  {
   "cell_type": "code",
   "execution_count": 14,
   "id": "f59d652a-0378-45ca-99e4-72ddd0729d3d",
   "metadata": {},
   "outputs": [
    {
     "data": {
      "text/plain": [
       "2017-12-31    440.697917\n",
       "2018-01-01    521.364583\n",
       "2018-01-02    589.864583\n",
       "2018-01-03    646.822917\n",
       "2018-01-04    694.406250\n",
       "                 ...    \n",
       "2018-12-26    517.041667\n",
       "2018-12-27    526.739583\n",
       "2018-12-28    492.197917\n",
       "2018-12-29    427.062500\n",
       "2018-12-30    377.739583\n",
       "Name: Kln_h, Length: 365, dtype: float64"
      ]
     },
     "execution_count": 14,
     "metadata": {},
     "output_type": "execute_result"
    }
   ],
   "source": [
    "y_series"
   ]
  },
  {
   "cell_type": "code",
   "execution_count": 15,
   "id": "8d723a93-0368-41b8-8a69-c864768955bc",
   "metadata": {
    "scrolled": true
   },
   "outputs": [
    {
     "name": "stdout",
     "output_type": "stream",
     "text": [
      "                Actual   Predicted         std          10          20  \\\n",
      "2017-12-31  440.697917  550.227051  173.016891  417.132843  523.934753   \n",
      "2018-01-01  521.364583  573.438538  173.016891  431.920166  560.553406   \n",
      "2018-01-02  589.864583  636.980469  173.016891  431.632080  593.965576   \n",
      "2018-01-03  646.822917  693.980774  173.016891  431.920166  597.448059   \n",
      "2018-01-04  694.406250  753.733276  173.016891  434.466309  610.357605   \n",
      "2018-01-05  745.625000  795.587402  173.016891  431.914398  609.395142   \n",
      "2018-01-06  798.208333  839.649658  173.016891  432.324829  612.711609   \n",
      "2018-01-07  847.114583  850.585815  173.016891  432.843506  616.860474   \n",
      "2018-01-08  874.541667  828.605225  173.016891  431.920166  611.030273   \n",
      "2018-01-09  861.177083  774.888977  173.016891  432.114960  609.781067   \n",
      "\n",
      "                    40          60          80          90  \n",
      "2017-12-31  534.841492  521.733521  523.685913  533.816589  \n",
      "2018-01-01  589.243103  601.046143  589.809326  584.680298  \n",
      "2018-01-02  637.834045  638.165222  640.249695  645.730530  \n",
      "2018-01-03  691.243347  702.292603  709.757324  704.540100  \n",
      "2018-01-04  725.080139  747.619202  766.276306  759.991943  \n",
      "2018-01-05  758.955872  783.909973  808.905151  810.631714  \n",
      "2018-01-06  802.555542  838.789856  839.211243  846.483704  \n",
      "2018-01-07  821.764893  870.065247  871.726868  867.279175  \n",
      "2018-01-08  812.411133  848.913879  842.265686  842.683594  \n",
      "2018-01-09  764.639038  800.876770  791.886597  806.305176  \n",
      "Observed range: 68.59375 - 874.5416666666666\n",
      "Predicted range: 92.0062 - 850.5858\n"
     ]
    }
   ],
   "source": [
    "# --- Build prediction bands ---\n",
    "pred_05 = pd.Series(preds[0.05], index=y_test.index)\n",
    "pred_10 = pd.Series(preds[0.1], index=y_test.index)\n",
    "pred_20 = pd.Series(preds[0.2], index=y_test.index)\n",
    "pred_40 = pd.Series(preds[0.4], index=y_test.index)\n",
    "pred_60 = pd.Series(preds[0.6], index=y_test.index)\n",
    "pred_80 = pd.Series(preds[0.8], index=y_test.index)\n",
    "pred_90 = pd.Series(preds[0.9], index=y_test.index)\n",
    "pred_95 = pd.Series(preds[0.95], index=y_test.index)\n",
    "\n",
    "pred_05_h = scaler_y.inverse_transform(pred_05.to_numpy().reshape(-1, 1)).ravel()\n",
    "pred_10_h = scaler_y.inverse_transform(pred_10.to_numpy().reshape(-1, 1)).ravel()\n",
    "pred_20_h = scaler_y.inverse_transform(pred_20.to_numpy().reshape(-1, 1)).ravel()\n",
    "pred_40_h = scaler_y.inverse_transform(pred_40.to_numpy().reshape(-1, 1)).ravel()\n",
    "pred_60_h = scaler_y.inverse_transform(pred_60.to_numpy().reshape(-1, 1)).ravel()\n",
    "pred_80_h = scaler_y.inverse_transform(pred_80.to_numpy().reshape(-1, 1)).ravel()\n",
    "pred_90_h = scaler_y.inverse_transform(pred_90.to_numpy().reshape(-1, 1)).ravel()\n",
    "pred_95_h = scaler_y.inverse_transform(pred_95.to_numpy().reshape(-1, 1)).ravel()\n",
    "\n",
    "pred_mean = pd.Series(y_pred_test, index=y_test.index)\n",
    "pred_mean_h = scaler_y.inverse_transform(pred_mean.to_numpy().reshape(-1, 1)).ravel()\n",
    "pred_std_h  = pred_mean_h.std(axis=0)\n",
    "\n",
    "#y_series = y.loc[y_test.index]\n",
    "#y_series = pd.Series(y, index=y_test.index)\n",
    "#y_series_h = y_series.reshape(-1, 1).ravel()\n",
    "\n",
    "results = pd.DataFrame({\n",
    "    \"Actual\": y_series,\n",
    "    \"Predicted\": pred_mean_h,\n",
    "    \"std\": pred_std_h,\n",
    "    \"10\": pred_10_h,\n",
    "    \"20\": pred_20_h,\n",
    "    \"40\": pred_40_h,\n",
    "    \"60\": pred_60_h,\n",
    "    \"80\": pred_80_h,\n",
    "    \"90\": pred_90_h\n",
    "}, index=y_test.index)\n",
    "\n",
    "print(results.head(10))\n",
    "print(\"Observed range:\", results[\"Actual\"].min(), \"-\", results[\"Actual\"].max())\n",
    "print(\"Predicted range:\", results[\"Predicted\"].min(), \"-\", results[\"Predicted\"].max())"
   ]
  },
  {
   "cell_type": "markdown",
   "id": "1b25feec-2d40-4930-9793-e63e7ab51c36",
   "metadata": {},
   "source": [
    "## Quick check if things look reasonable"
   ]
  },
  {
   "cell_type": "code",
   "execution_count": 16,
   "id": "3ea39304-4020-4dcc-9776-11e41d23b8b3",
   "metadata": {},
   "outputs": [
    {
     "data": {
      "image/png": "[encoded data removed]",
      "text/plain": [
       "<Figure size 1800x450 with 1 Axes>"
      ]
     },
     "metadata": {},
     "output_type": "display_data"
    }
   ],
   "source": [
    "# --- Plot with uncertainty ---\n",
    "fig, ax = plt.subplots(figsize=(12,3), dpi=150)\n",
    "\n",
    "# Observed\n",
    "ax.plot(results.index, results[\"Actual\"], color=\"black\", marker=\".\", label=\"Observed (Pegel)\", alpha=0.8)\n",
    "\n",
    "ax.fill_between(results.index, results[\"10\"], results[\"90\"], color=\"brown\", alpha=0.3, label=\"Pred. quantile (10-90%)\")\n",
    "ax.fill_between(results.index, results[\"20\"], results[\"80\"], color=\"blue\", alpha=0.5, label=\"Pred. quantile (20-80%)\")\n",
    "ax.fill_between(results.index, results[\"40\"], results[\"60\"], color=\"purple\", alpha=0.7, label=\"Pred. quantile (40-60%)\")\n",
    "x0, x1 = pd.Timestamp(\"2018-1-01\"), pd.Timestamp(\"2018-1-15\")\n",
    "ax.set_xlim(x0, x1)\n",
    "mask = (results.index >= x0) & (results.index <= x1)\n",
    "r_masked=results[mask]\n",
    "ymin = r_masked[\"Actual\"].min() - 0.2*r_masked[\"Actual\"].min()\n",
    "ymax = r_masked[\"Actual\"].max() + 0.1*r_masked[\"Actual\"].max()\n",
    "\n",
    "ax.set_ylim(ymin, ymax)\n",
    "ax.set_xlabel(\"Date\")\n",
    "ax.set_ylabel(\"Water level [cm]\")\n",
    "ax.set_title(\"Observed vs ML Predicted Pegel levels with Uncertainty\"+str(lead_day)+\" day lead\")\n",
    "ax.legend()\n",
    "ax.grid(True)\n",
    "\n",
    "plt.show()"
   ]
  },
  {
   "cell_type": "code",
   "execution_count": 17,
   "id": "ab4fca08-54f0-4eaf-8984-eb4b9c5c693a",
   "metadata": {},
   "outputs": [
    {
     "data": {
      "image/png": "[encoded data removed]",
      "text/plain": [
       "<Figure size 720x720 with 1 Axes>"
      ]
     },
     "metadata": {},
     "output_type": "display_data"
    }
   ],
   "source": [
    "from scipy.stats import pearsonr\n",
    "# Calculate correlation\n",
    "corr, _ = pearsonr(results[\"Actual\"], results[\"Predicted\"])\n",
    "\n",
    "plt.figure(figsize=(6,6), dpi=120)\n",
    "plt.scatter(results[\"Actual\"], results[\"Predicted\"], alpha=0.5, label=f\"R = {corr:.5f}\")\n",
    "plt.plot([results[\"Actual\"].min(), results[\"Actual\"].max()],\n",
    "         [results[\"Actual\"].min(), results[\"Actual\"].max()],\n",
    "         color=\"black\", linestyle=\"--\", label=\"1:1 line\")\n",
    "\n",
    "plt.xlabel(\"Obs. \")\n",
    "plt.ylabel(\"Pred.\")\n",
    "plt.title(\"Observed vs Predicted Pegel (\"+str(lead_day)+\" day lead)\")\n",
    "plt.legend()\n",
    "plt.grid(True)\n",
    "plt.show()"
   ]
  },
  {
   "cell_type": "code",
   "execution_count": 18,
   "id": "89bc20df-0340-4ebf-8997-a721aec729b1",
   "metadata": {},
   "outputs": [],
   "source": [
    "results.to_csv(\"results_datasets/results_\"+str(lead_day)+\"d.csv\", index=True)  # keep index if it's meaningful"
   ]
  },
  {
   "cell_type": "code",
   "execution_count": 19,
   "id": "78e5d084-aefe-43c6-a3ae-5e0ccd3f0f38",
   "metadata": {},
   "outputs": [
    {
     "name": "stdout",
     "output_type": "stream",
     "text": [
      "Fra_h         0.754100\n",
      "Ruw_h_lag1    0.745610\n",
      "Ruw_h         0.737242\n",
      "Hdb_h_lag1    0.736271\n",
      "Fra_h_lag1    0.736120\n",
      "Hdb_h_lag3    0.700229\n",
      "Hdb_h         0.696718\n",
      "Ruw_h_lag3    0.676385\n",
      "Rhw_h_lag1    0.668632\n",
      "Rhw_h         0.659768\n",
      "Fra_h_lag3    0.639409\n",
      "Klk_h_lag1    0.623378\n",
      "Klk_h         0.616482\n",
      "Rhw_h_lag3    0.596082\n",
      "Klk_h_lag3    0.575602\n",
      "Ruw_h_lag5    0.558826\n",
      "Hdb_h_lag5    0.533149\n",
      "Fra_h_lag5    0.516074\n",
      "Sie_h_lag3    0.492510\n",
      "Ahr_h_lag1    0.490098\n",
      "dtype: float64\n"
     ]
    }
   ],
   "source": [
    "results[\"band_width\"] = results[\"90\"] - results[\"10\"]\n",
    "corrs = X_ready.corrwith(results[\"band_width\"])\n",
    "save_path = os.path.join(save_dir, \"correlationbandwidth_top15.csv\")\n",
    "corrs.head(15).to_csv(save_path, index=True)\n",
    "print(corrs.sort_values(ascending=False).head(20))"
   ]
  },
  {
   "cell_type": "code",
   "execution_count": 20,
   "id": "08f3c30c-fd0e-48d2-b21c-0ee6c8ea1397",
   "metadata": {},
   "outputs": [
    {
     "name": "stdout",
     "output_type": "stream",
     "text": [
      "1\n",
      "21:58\n"
     ]
    }
   ],
   "source": [
    "from datetime import datetime\n",
    "\n",
    "now = datetime.now()\n",
    "print(lead_day)\n",
    "print(now.strftime(\"%H:%M\"))"
   ]
  },
  {
   "cell_type": "code",
   "execution_count": null,
   "id": "ac07588e-ece7-42b4-8f39-37bb1d0b08b1",
   "metadata": {},
   "outputs": [],
   "source": []
  }
 ],
 "metadata": {
  "kernelspec": {
   "display_name": "Python 3 (ipykernel)",
   "language": "python",
   "name": "python3"
  },
  "language_info": {
   "codemirror_mode": {
    "name": "ipython",
    "version": 3
   },
   "file_extension": ".py",
   "mimetype": "text/x-python",
   "name": "python",
   "nbconvert_exporter": "python",
   "pygments_lexer": "ipython3",
   "version": "3.13.5"
  }
 },
 "nbformat": 4,
 "nbformat_minor": 5
}
